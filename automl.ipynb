{
 "cells": [
  {
   "cell_type": "markdown",
   "metadata": {},
   "source": [
    "# Automated ML\n",
    "\n",
    "TODO: Import Dependencies. In the cell below, import all the dependencies that you will need to complete the project."
   ]
  },
  {
   "cell_type": "code",
   "execution_count": 1,
   "metadata": {
    "gather": {
     "logged": 1598423888013
    },
    "jupyter": {
     "outputs_hidden": false,
     "source_hidden": false
    },
    "nteract": {
     "transient": {
      "deleting": false
     }
    }
   },
   "outputs": [
    {
     "name": "stdout",
     "output_type": "stream",
     "text": [
      "SDK version: 1.19.0\n"
     ]
    }
   ],
   "source": [
    "import logging\n",
    "import os\n",
    "import csv\n",
    "\n",
    "from matplotlib import pyplot as plt\n",
    "import numpy as np\n",
    "import pandas as pd\n",
    "from sklearn import datasets\n",
    "import pkg_resources\n",
    "\n",
    "import azureml.core\n",
    "from azureml.core.experiment import Experiment\n",
    "from azureml.core.workspace import Workspace\n",
    "from azureml.train.automl import AutoMLConfig\n",
    "from azureml.core.dataset import Dataset\n",
    "\n",
    "\n",
    "\n",
    "# Check core SDK version number\n",
    "print(\"SDK version:\", azureml.core.VERSION)"
   ]
  },
  {
   "cell_type": "markdown",
   "metadata": {},
   "source": [
    "## Dataset\n",
    "\n",
    "### Overview\n",
    "TODO: In this markdown cell, give an overview of the dataset you are using. Also mention the task you will be performing.\n",
    "\n",
    "\n",
    "TODO: Get data. In the cell below, write code to access the data you will be using in this project. Remember that the dataset needs to be external."
   ]
  },
  {
   "cell_type": "code",
   "execution_count": 2,
   "metadata": {
    "gather": {
     "logged": 1598423890461
    },
    "jupyter": {
     "outputs_hidden": false,
     "source_hidden": false
    },
    "nteract": {
     "transient": {
      "deleting": false
     }
    }
   },
   "outputs": [
    {
     "name": "stdout",
     "output_type": "stream",
     "text": [
      "quick-starts-ws-135106\n",
      "aml-quickstarts-135106\n",
      "southcentralus\n",
      "610d6e37-4747-4a20-80eb-3aad70a55f43\n"
     ]
    }
   ],
   "source": [
    "ws = Workspace.from_config()\n",
    "print(ws.name, ws.resource_group, ws.location, ws.subscription_id, sep = '\\n')\n",
    "\n"
   ]
  },
  {
   "cell_type": "code",
   "execution_count": 4,
   "metadata": {},
   "outputs": [
    {
     "data": {
      "text/html": [
       "<table style=\"width:100%\"><tr><th>Name</th><th>Workspace</th><th>Report Page</th><th>Docs Page</th></tr><tr><td>capstone-Automl</td><td>quick-starts-ws-135106</td><td><a href=\"https://ml.azure.com/experiments/capstone-Automl?wsid=/subscriptions/610d6e37-4747-4a20-80eb-3aad70a55f43/resourcegroups/aml-quickstarts-135106/workspaces/quick-starts-ws-135106\" target=\"_blank\" rel=\"noopener\">Link to Azure Machine Learning studio</a></td><td><a href=\"https://docs.microsoft.com/en-us/python/api/azureml-core/azureml.core.experiment.Experiment?view=azure-ml-py\" target=\"_blank\" rel=\"noopener\">Link to Documentation</a></td></tr></table>"
      ],
      "text/plain": [
       "Experiment(Name: capstone-Automl,\n",
       "Workspace: quick-starts-ws-135106)"
      ]
     },
     "execution_count": 4,
     "metadata": {},
     "output_type": "execute_result"
    }
   ],
   "source": [
    "# choose a name for experiment\n",
    "experiment_name = 'capstone-Automl'\n",
    "project_folder = './pipeline-project'\n",
    "\n",
    "experiment=Experiment(ws, experiment_name)\n",
    "experiment"
   ]
  },
  {
   "cell_type": "markdown",
   "metadata": {},
   "source": [
    "# Creat Compute Cluster"
   ]
  },
  {
   "cell_type": "code",
   "execution_count": 5,
   "metadata": {},
   "outputs": [
    {
     "name": "stdout",
     "output_type": "stream",
     "text": [
      "Creating\n",
      "Succeeded................................................................................................................\n",
      "AmlCompute wait for completion finished\n",
      "\n",
      "Wait timeout has been reached\n",
      "Current provisioning state of AmlCompute is \"Succeeded\" and current node count is \"0\"\n"
     ]
    },
    {
     "data": {
      "text/plain": [
       "<azureml.core.compute.amlcompute.AmlComputeStatus at 0x7f0ada882940>"
      ]
     },
     "execution_count": 5,
     "metadata": {},
     "output_type": "execute_result"
    }
   ],
   "source": [
    "from azureml.core.compute import AmlCompute\n",
    "from azureml.core.compute import ComputeTarget\n",
    "from azureml.core.compute_target import ComputeTargetException\n",
    "\n",
    "\n",
    "# Choose a name for your GPU cluster\n",
    "amlcompute_cluster_name = \"auto-ml\"\n",
    "\n",
    "# Verify that cluster does not exist already\n",
    "try:\n",
    "    compute_target = ComputeTarget(workspace=ws, name=amlcompute_cluster_name)\n",
    "    print('Found existing cluster, use it.')\n",
    "except ComputeTargetException:\n",
    "    compute_config = AmlCompute.provisioning_configuration(vm_size='STANDARD_NC6',# for GPU, use \"STANDARD_NC6\"\n",
    "                                                           #vm_priority = 'lowpriority', # optional\n",
    "                                                           max_nodes=4)\n",
    "    compute_target = ComputeTarget.create(ws, amlcompute_cluster_name, compute_config)\n",
    "\n",
    "compute_target.wait_for_completion(show_output=True, min_node_count = 1, timeout_in_minutes = 10)\n",
    "# For a more detailed view of current AmlCompute status, use get_status().\n",
    "compute_target.get_status()"
   ]
  },
  {
   "cell_type": "markdown",
   "metadata": {},
   "source": [
    "Data"
   ]
  },
  {
   "cell_type": "code",
   "execution_count": null,
   "metadata": {},
   "outputs": [],
   "source": [
    "from azureml.data.dataset_factory import TabularDatasetFactory\n"
   ]
  },
  {
   "cell_type": "code",
   "execution_count": 17,
   "metadata": {},
   "outputs": [],
   "source": [
    "datastore= ws.get_default_datastore()"
   ]
  },
  {
   "cell_type": "code",
   "execution_count": 18,
   "metadata": {},
   "outputs": [
    {
     "name": "stdout",
     "output_type": "stream",
     "text": [
      "Uploading an estimated of 5 files\n",
      "Target already exists. Skipping upload for automl.ipynb\n",
      "Target already exists. Skipping upload for heart_failure_clinical_records_dataset.csv\n",
      "Target already exists. Skipping upload for hyperparameter_tuning.ipynb\n",
      "Target already exists. Skipping upload for .ipynb_checkpoints/automl-checkpoint.ipynb\n",
      "Target already exists. Skipping upload for .ipynb_checkpoints/hyperparameter_tuning-checkpoint.ipynb\n",
      "Uploaded 0 files\n"
     ]
    },
    {
     "data": {
      "text/plain": [
       "$AZUREML_DATAREFERENCE_workspaceblobstore"
      ]
     },
     "execution_count": 18,
     "metadata": {},
     "output_type": "execute_result"
    }
   ],
   "source": [
    "datastore.upload(src_dir= './', target_path= './')"
   ]
  },
  {
   "cell_type": "code",
   "execution_count": 19,
   "metadata": {},
   "outputs": [],
   "source": [
    "tds= Dataset.Tabular.from_delimited_files(datastore.path('./heart_failure_clinical_records_dataset.csv'))"
   ]
  },
  {
   "cell_type": "code",
   "execution_count": 20,
   "metadata": {},
   "outputs": [
    {
     "data": {
      "text/html": [
       "<div>\n",
       "<style scoped>\n",
       "    .dataframe tbody tr th:only-of-type {\n",
       "        vertical-align: middle;\n",
       "    }\n",
       "\n",
       "    .dataframe tbody tr th {\n",
       "        vertical-align: top;\n",
       "    }\n",
       "\n",
       "    .dataframe thead th {\n",
       "        text-align: right;\n",
       "    }\n",
       "</style>\n",
       "<table border=\"1\" class=\"dataframe\">\n",
       "  <thead>\n",
       "    <tr style=\"text-align: right;\">\n",
       "      <th></th>\n",
       "      <th>age</th>\n",
       "      <th>anaemia</th>\n",
       "      <th>creatinine_phosphokinase</th>\n",
       "      <th>diabetes</th>\n",
       "      <th>ejection_fraction</th>\n",
       "      <th>high_blood_pressure</th>\n",
       "      <th>platelets</th>\n",
       "      <th>serum_creatinine</th>\n",
       "      <th>serum_sodium</th>\n",
       "      <th>sex</th>\n",
       "      <th>smoking</th>\n",
       "      <th>time</th>\n",
       "      <th>DEATH_EVENT</th>\n",
       "    </tr>\n",
       "  </thead>\n",
       "  <tbody>\n",
       "    <tr>\n",
       "      <th>0</th>\n",
       "      <td>75.0</td>\n",
       "      <td>0</td>\n",
       "      <td>582</td>\n",
       "      <td>0</td>\n",
       "      <td>20</td>\n",
       "      <td>1</td>\n",
       "      <td>265000.00</td>\n",
       "      <td>1.9</td>\n",
       "      <td>130</td>\n",
       "      <td>1</td>\n",
       "      <td>0</td>\n",
       "      <td>4</td>\n",
       "      <td>1</td>\n",
       "    </tr>\n",
       "    <tr>\n",
       "      <th>1</th>\n",
       "      <td>55.0</td>\n",
       "      <td>0</td>\n",
       "      <td>7861</td>\n",
       "      <td>0</td>\n",
       "      <td>38</td>\n",
       "      <td>0</td>\n",
       "      <td>263358.03</td>\n",
       "      <td>1.1</td>\n",
       "      <td>136</td>\n",
       "      <td>1</td>\n",
       "      <td>0</td>\n",
       "      <td>6</td>\n",
       "      <td>1</td>\n",
       "    </tr>\n",
       "    <tr>\n",
       "      <th>2</th>\n",
       "      <td>65.0</td>\n",
       "      <td>0</td>\n",
       "      <td>146</td>\n",
       "      <td>0</td>\n",
       "      <td>20</td>\n",
       "      <td>0</td>\n",
       "      <td>162000.00</td>\n",
       "      <td>1.3</td>\n",
       "      <td>129</td>\n",
       "      <td>1</td>\n",
       "      <td>1</td>\n",
       "      <td>7</td>\n",
       "      <td>1</td>\n",
       "    </tr>\n",
       "    <tr>\n",
       "      <th>3</th>\n",
       "      <td>50.0</td>\n",
       "      <td>1</td>\n",
       "      <td>111</td>\n",
       "      <td>0</td>\n",
       "      <td>20</td>\n",
       "      <td>0</td>\n",
       "      <td>210000.00</td>\n",
       "      <td>1.9</td>\n",
       "      <td>137</td>\n",
       "      <td>1</td>\n",
       "      <td>0</td>\n",
       "      <td>7</td>\n",
       "      <td>1</td>\n",
       "    </tr>\n",
       "    <tr>\n",
       "      <th>4</th>\n",
       "      <td>65.0</td>\n",
       "      <td>1</td>\n",
       "      <td>160</td>\n",
       "      <td>1</td>\n",
       "      <td>20</td>\n",
       "      <td>0</td>\n",
       "      <td>327000.00</td>\n",
       "      <td>2.7</td>\n",
       "      <td>116</td>\n",
       "      <td>0</td>\n",
       "      <td>0</td>\n",
       "      <td>8</td>\n",
       "      <td>1</td>\n",
       "    </tr>\n",
       "  </tbody>\n",
       "</table>\n",
       "</div>"
      ],
      "text/plain": [
       "    age  anaemia  creatinine_phosphokinase  diabetes  ejection_fraction  \\\n",
       "0  75.0        0                       582         0                 20   \n",
       "1  55.0        0                      7861         0                 38   \n",
       "2  65.0        0                       146         0                 20   \n",
       "3  50.0        1                       111         0                 20   \n",
       "4  65.0        1                       160         1                 20   \n",
       "\n",
       "   high_blood_pressure  platelets  serum_creatinine  serum_sodium  sex  \\\n",
       "0                    1  265000.00               1.9           130    1   \n",
       "1                    0  263358.03               1.1           136    1   \n",
       "2                    0  162000.00               1.3           129    1   \n",
       "3                    0  210000.00               1.9           137    1   \n",
       "4                    0  327000.00               2.7           116    0   \n",
       "\n",
       "   smoking  time  DEATH_EVENT  \n",
       "0        0     4            1  \n",
       "1        0     6            1  \n",
       "2        1     7            1  \n",
       "3        0     7            1  \n",
       "4        0     8            1  "
      ]
     },
     "execution_count": 20,
     "metadata": {},
     "output_type": "execute_result"
    }
   ],
   "source": [
    "tds.to_pandas_dataframe().head()"
   ]
  },
  {
   "cell_type": "markdown",
   "metadata": {},
   "source": [
    "## AutoML Configuration\n",
    "\n",
    "TODO: Explain why you chose the automl settings and cofiguration you used below."
   ]
  },
  {
   "cell_type": "code",
   "execution_count": 23,
   "metadata": {
    "gather": {
     "logged": 1598429217746
    },
    "jupyter": {
     "outputs_hidden": false,
     "source_hidden": false
    },
    "nteract": {
     "transient": {
      "deleting": false
     }
    }
   },
   "outputs": [],
   "source": [
    "# TODO: Put your automl settings here\n",
    "automl_settings = {\n",
    "    \"experiment_timeout_minutes\": 20,\n",
    "    \"max_concurrent_iterations\": 4,\n",
    "    \"primary_metric\" : 'AUC_weighted'\n",
    "}\n",
    "\n",
    "# TODO: Put your automl config here\n",
    "automl_config = AutoMLConfig(compute_target=compute_target,\n",
    "                             task = \"classification\",\n",
    "                             training_data=tds,\n",
    "                             label_column_name=\"DEATH_EVENT\",   \n",
    "                             enable_early_stopping= True,\n",
    "                             featurization= 'auto',\n",
    "                             debug_log = \"automl_errors.log\",\n",
    "                             **automl_settings\n",
    "                            )"
   ]
  },
  {
   "cell_type": "code",
   "execution_count": 24,
   "metadata": {
    "gather": {
     "logged": 1598431107951
    },
    "jupyter": {
     "outputs_hidden": false,
     "source_hidden": false
    },
    "nteract": {
     "transient": {
      "deleting": false
     }
    }
   },
   "outputs": [
    {
     "name": "stdout",
     "output_type": "stream",
     "text": [
      "Running on remote.\n"
     ]
    }
   ],
   "source": [
    "# TODO: Submit your experiment\n",
    "remote_run = experiment.submit(automl_config)"
   ]
  },
  {
   "cell_type": "markdown",
   "metadata": {},
   "source": [
    "## Run Details\n",
    "\n",
    "OPTIONAL: Write about the different models trained and their performance. Why do you think some models did better than others?\n",
    "\n",
    "TODO: In the cell below, use the `RunDetails` widget to show the different experiments."
   ]
  },
  {
   "cell_type": "code",
   "execution_count": 25,
   "metadata": {
    "gather": {
     "logged": 1598431121770
    },
    "jupyter": {
     "outputs_hidden": false,
     "source_hidden": false
    },
    "nteract": {
     "transient": {
      "deleting": false
     }
    }
   },
   "outputs": [
    {
     "name": "stdout",
     "output_type": "stream",
     "text": [
      "\n",
      "Current status: FeaturesGeneration. Generating features for the dataset.\n",
      "Current status: DatasetCrossValidationSplit. Generating individually featurized CV splits.\n",
      "Current status: ModelSelection. Beginning model selection.\n",
      "\n",
      "****************************************************************************************************\n",
      "DATA GUARDRAILS: \n",
      "\n",
      "TYPE:         Cross validation\n",
      "STATUS:       DONE\n",
      "DESCRIPTION:  Each iteration of the trained model was validated through cross-validation.\n",
      "              \n",
      "DETAILS:      \n",
      "+---------------------------------+\n",
      "|Number of folds                  |\n",
      "+=================================+\n",
      "|10                               |\n",
      "+---------------------------------+\n",
      "\n",
      "****************************************************************************************************\n",
      "\n",
      "TYPE:         Class balancing detection\n",
      "STATUS:       PASSED\n",
      "DESCRIPTION:  Your inputs were analyzed, and all classes are balanced in your training data.\n",
      "              Learn more about imbalanced data: https://aka.ms/AutomatedMLImbalancedData\n",
      "\n",
      "****************************************************************************************************\n",
      "\n",
      "TYPE:         Missing feature values imputation\n",
      "STATUS:       PASSED\n",
      "DESCRIPTION:  No feature missing values were detected in the training data.\n",
      "              Learn more about missing value imputation: https://aka.ms/AutomatedMLFeaturization\n",
      "\n",
      "****************************************************************************************************\n",
      "\n",
      "TYPE:         High cardinality feature detection\n",
      "STATUS:       PASSED\n",
      "DESCRIPTION:  Your inputs were analyzed, and no high cardinality features were detected.\n",
      "              Learn more about high cardinality feature handling: https://aka.ms/AutomatedMLFeaturization\n",
      "\n",
      "****************************************************************************************************\n",
      "\n",
      "****************************************************************************************************\n",
      "ITERATION: The iteration being evaluated.\n",
      "PIPELINE: A summary description of the pipeline being evaluated.\n",
      "DURATION: Time taken for the current iteration.\n",
      "METRIC: The result of computing score on the fitted pipeline.\n",
      "BEST: The best observed score thus far.\n",
      "****************************************************************************************************\n",
      "\n",
      " ITERATION   PIPELINE                                       DURATION      METRIC      BEST\n",
      "         2   MinMaxScaler RandomForest                      0:00:38       0.8957    0.8957\n",
      "         1   MaxAbsScaler XGBoostClassifier                 0:00:57       0.8996    0.8996\n",
      "         0   MaxAbsScaler LightGBM                          0:00:59       0.8864    0.8996\n",
      "         3   RobustScaler ExtremeRandomTrees                0:01:02       0.8787    0.8996\n",
      "         6   StandardScalerWrapper RandomForest             0:00:40       0.8774    0.8996\n",
      "         4   MinMaxScaler RandomForest                      0:02:09       0.8985    0.8996\n",
      "         5   MinMaxScaler RandomForest                      0:02:20       0.8892    0.8996\n",
      "         7   MinMaxScaler ExtremeRandomTrees                0:01:22       0.9020    0.9020\n",
      "        10   MinMaxScaler ExtremeRandomTrees                0:00:48       0.8700    0.9020\n",
      "         9   SparseNormalizer KNN                           0:01:06       0.7496    0.9020\n",
      "         8   MinMaxScaler ExtremeRandomTrees                0:01:58       0.8634    0.9020\n",
      "        11   RobustScaler ExtremeRandomTrees                0:00:40       0.8920    0.9020\n",
      "        12   StandardScalerWrapper RandomForest             0:00:40       0.9058    0.9058\n",
      "        13   StandardScalerWrapper SGD                      0:00:36       0.8696    0.9058\n",
      "        14   RobustScaler RandomForest                      0:00:37       0.8954    0.9058\n",
      "        15   StandardScalerWrapper KNN                      0:00:34       0.5203    0.9058\n",
      "        16   MinMaxScaler RandomForest                      0:00:45       0.8821    0.9058\n",
      "        17   MinMaxScaler ExtremeRandomTrees                0:00:45       0.8097    0.9058\n",
      "        18   MaxAbsScaler RandomForest                      0:00:43       0.8797    0.9058\n",
      "        19   StandardScalerWrapper XGBoostClassifier        0:00:37       0.9025    0.9058\n",
      "        21   MaxAbsScaler ExtremeRandomTrees                0:00:34       0.8592    0.9058\n",
      "        20   MaxAbsScaler RandomForest                      0:00:51       0.8863    0.9058\n",
      "        22   MaxAbsScaler ExtremeRandomTrees                0:00:39       0.8721    0.9058\n",
      "        23   MinMaxScaler ExtremeRandomTrees                0:00:43       0.9032    0.9058\n",
      "        24   MaxAbsScaler ExtremeRandomTrees                0:00:39       0.8993    0.9058\n",
      "        25   RobustScaler RandomForest                      0:00:38       0.7801    0.9058\n",
      "        26   MaxAbsScaler RandomForest                      0:00:45       0.8907    0.9058\n",
      "        27   RobustScaler LightGBM                          0:00:50       0.8840    0.9058\n",
      "        28   StandardScalerWrapper XGBoostClassifier        0:00:40       0.9088    0.9088\n",
      "        29   MinMaxScaler LightGBM                          0:00:58       0.8994    0.9088\n",
      "        30   RobustScaler RandomForest                      0:00:40       0.8862    0.9088\n",
      "        31   StandardScalerWrapper LightGBM                 0:00:49       0.9044    0.9088\n",
      "        32   RobustScaler LightGBM                          0:00:48       0.9028    0.9088\n",
      "        34   TruncatedSVDWrapper XGBoostClassifier          0:00:40       0.8616    0.9088\n",
      "        35   TruncatedSVDWrapper XGBoostClassifier          0:00:43       0.8505    0.9088\n",
      "        33   MinMaxScaler LightGBM                          0:01:21       0.9085    0.9088\n",
      "        36   RobustScaler RandomForest                      0:00:46       0.9056    0.9088\n",
      "        37   StandardScalerWrapper SVM                      0:00:44       0.8680    0.9088\n",
      "        38   StandardScalerWrapper XGBoostClassifier        0:00:40       0.9059    0.9088\n",
      "        39   StandardScalerWrapper RandomForest             0:00:42       0.9109    0.9109\n",
      "        40   StandardScalerWrapper XGBoostClassifier        0:00:37       0.8819    0.9109\n",
      "        41   StandardScalerWrapper XGBoostClassifier        0:00:42       0.9006    0.9109\n",
      "        42   StandardScalerWrapper XGBoostClassifier        0:00:45       0.9031    0.9109\n",
      "        43   MinMaxScaler GradientBoosting                  0:00:40       0.9070    0.9109\n",
      "        44   RobustScaler GradientBoosting                  0:00:45       0.9138    0.9138\n",
      "        45   RobustScaler RandomForest                      0:00:42       0.8191    0.9138\n",
      "        46   RobustScaler LightGBM                          0:00:51       0.8769    0.9138\n",
      "        47   MaxAbsScaler GradientBoosting                  0:00:34       0.9097    0.9138\n",
      "        49   StandardScalerWrapper XGBoostClassifier        0:00:46       0.8786    0.9138\n",
      "        48   MaxAbsScaler LightGBM                          0:01:08       0.9068    0.9138\n",
      "        50   MaxAbsScaler GradientBoosting                  0:00:40       0.8741    0.9138\n",
      "        51   StandardScalerWrapper XGBoostClassifier        0:00:44       0.8945    0.9138\n",
      "        52   StandardScalerWrapper GradientBoosting         0:00:40       0.9101    0.9138\n",
      "        53   StandardScalerWrapper XGBoostClassifier        0:00:43       0.9083    0.9138\n",
      "        54   StandardScalerWrapper GradientBoosting         0:00:40       0.8946    0.9138\n",
      "        55   StandardScalerWrapper XGBoostClassifier        0:00:54       0.9003    0.9138\n",
      "        56   StandardScalerWrapper XGBoostClassifier        0:00:39       0.8973    0.9138\n",
      "        57   StandardScalerWrapper SVM                      0:00:42       0.8759    0.9138\n",
      "        59   StandardScalerWrapper XGBoostClassifier        0:00:32       0.8929    0.9138\n",
      "        60                                                  0:00:17          nan    0.9138\n",
      "        58   StandardScalerWrapper GradientBoosting         0:00:47       0.8836    0.9138\n",
      "        61    VotingEnsemble                                0:02:23       0.9220    0.9220\n",
      "        62    StackEnsemble                                 0:02:23       0.9157    0.9220\n"
     ]
    },
    {
     "ename": "AttributeError",
     "evalue": "Can't get attribute 'XGBoostLabelEncoder' on <module 'xgboost.compat' from '/anaconda/envs/azureml_py36/lib/python3.6/site-packages/xgboost/compat.py'>",
     "output_type": "error",
     "traceback": [
      "\u001b[0;31m---------------------------------------------------------------------------\u001b[0m",
      "\u001b[0;31mAttributeError\u001b[0m                            Traceback (most recent call last)",
      "\u001b[0;32m<ipython-input-25-1f84d3711583>\u001b[0m in \u001b[0;36m<module>\u001b[0;34m\u001b[0m\n\u001b[1;32m      1\u001b[0m \u001b[0;31m# Retrieve and save your best automl model.\u001b[0m\u001b[0;34m\u001b[0m\u001b[0;34m\u001b[0m\u001b[0;34m\u001b[0m\u001b[0m\n\u001b[1;32m      2\u001b[0m \u001b[0mremote_run\u001b[0m\u001b[0;34m.\u001b[0m\u001b[0mwait_for_completion\u001b[0m\u001b[0;34m(\u001b[0m\u001b[0mshow_output\u001b[0m\u001b[0;34m=\u001b[0m\u001b[0;32mTrue\u001b[0m\u001b[0;34m)\u001b[0m\u001b[0;34m\u001b[0m\u001b[0;34m\u001b[0m\u001b[0m\n\u001b[0;32m----> 3\u001b[0;31m \u001b[0mbest_run\u001b[0m\u001b[0;34m,\u001b[0m \u001b[0mfitted_model\u001b[0m \u001b[0;34m=\u001b[0m \u001b[0mremote_run\u001b[0m\u001b[0;34m.\u001b[0m\u001b[0mget_output\u001b[0m\u001b[0;34m(\u001b[0m\u001b[0;34m)\u001b[0m\u001b[0;34m\u001b[0m\u001b[0;34m\u001b[0m\u001b[0m\n\u001b[0m",
      "\u001b[0;32m/anaconda/envs/azureml_py36/lib/python3.6/site-packages/azureml/train/automl/run.py\u001b[0m in \u001b[0;36mget_output\u001b[0;34m(self, iteration, metric, return_onnx_model, return_split_onnx_model, **kwargs)\u001b[0m\n\u001b[1;32m    692\u001b[0m                     \u001b[0mfitted_model\u001b[0m \u001b[0;34m=\u001b[0m \u001b[0m_download_automl_onnx_model\u001b[0m\u001b[0;34m(\u001b[0m\u001b[0mcurr_run\u001b[0m\u001b[0;34m,\u001b[0m \u001b[0mmodel_name\u001b[0m\u001b[0;34m)\u001b[0m\u001b[0;34m\u001b[0m\u001b[0;34m\u001b[0m\u001b[0m\n\u001b[1;32m    693\u001b[0m                 \u001b[0;32melse\u001b[0m\u001b[0;34m:\u001b[0m\u001b[0;34m\u001b[0m\u001b[0;34m\u001b[0m\u001b[0m\n\u001b[0;32m--> 694\u001b[0;31m                     \u001b[0mfitted_model\u001b[0m \u001b[0;34m=\u001b[0m \u001b[0m_download_automl_model\u001b[0m\u001b[0;34m(\u001b[0m\u001b[0mcurr_run\u001b[0m\u001b[0;34m,\u001b[0m \u001b[0mmodel_name\u001b[0m\u001b[0;34m)\u001b[0m\u001b[0;34m\u001b[0m\u001b[0;34m\u001b[0m\u001b[0m\n\u001b[0m\u001b[1;32m    695\u001b[0m \u001b[0;34m\u001b[0m\u001b[0m\n\u001b[1;32m    696\u001b[0m             \u001b[0;32mreturn\u001b[0m \u001b[0mcurr_run\u001b[0m\u001b[0;34m,\u001b[0m \u001b[0mfitted_model\u001b[0m\u001b[0;34m\u001b[0m\u001b[0;34m\u001b[0m\u001b[0m\n",
      "\u001b[0;32m/anaconda/envs/azureml_py36/lib/python3.6/site-packages/azureml/train/automl/_model_download_utilities.py\u001b[0m in \u001b[0;36m_download_automl_model\u001b[0;34m(run, model_name)\u001b[0m\n\u001b[1;32m     85\u001b[0m             \u001b[0;31m# Pass through any exceptions from loading the model.\u001b[0m\u001b[0;34m\u001b[0m\u001b[0;34m\u001b[0m\u001b[0;34m\u001b[0m\u001b[0m\n\u001b[1;32m     86\u001b[0m             \u001b[0;31m# Try is used here to ensure we can cleanup the side effect of model downlad.\u001b[0m\u001b[0;34m\u001b[0m\u001b[0;34m\u001b[0m\u001b[0;34m\u001b[0m\u001b[0m\n\u001b[0;32m---> 87\u001b[0;31m             \u001b[0mmodel\u001b[0m \u001b[0;34m=\u001b[0m \u001b[0m_load_automl_model\u001b[0m\u001b[0;34m(\u001b[0m\u001b[0mmodel_path\u001b[0m\u001b[0;34m)\u001b[0m\u001b[0;34m\u001b[0m\u001b[0;34m\u001b[0m\u001b[0m\n\u001b[0m\u001b[1;32m     88\u001b[0m             \u001b[0;32mif\u001b[0m \u001b[0mmodel\u001b[0m \u001b[0;32mis\u001b[0m \u001b[0;32mNone\u001b[0m\u001b[0;34m:\u001b[0m\u001b[0;34m\u001b[0m\u001b[0;34m\u001b[0m\u001b[0m\n\u001b[1;32m     89\u001b[0m                 \u001b[0;31m# If we can retrieve the automl runtime version, we do so we can inform the user what to install.\u001b[0m\u001b[0;34m\u001b[0m\u001b[0;34m\u001b[0m\u001b[0;34m\u001b[0m\u001b[0m\n",
      "\u001b[0;32m/anaconda/envs/azureml_py36/lib/python3.6/site-packages/azureml/train/automl/_model_download_utilities.py\u001b[0m in \u001b[0;36m_load_automl_model\u001b[0;34m(model_path)\u001b[0m\n\u001b[1;32m    151\u001b[0m         \u001b[0;32mimport\u001b[0m \u001b[0mazureml\u001b[0m\u001b[0;34m.\u001b[0m\u001b[0mtrain\u001b[0m\u001b[0;34m.\u001b[0m\u001b[0mautoml\u001b[0m\u001b[0;34m.\u001b[0m\u001b[0mruntime\u001b[0m\u001b[0;34m\u001b[0m\u001b[0;34m\u001b[0m\u001b[0m\n\u001b[1;32m    152\u001b[0m         \u001b[0;32mwith\u001b[0m \u001b[0mopen\u001b[0m\u001b[0;34m(\u001b[0m\u001b[0mmodel_path\u001b[0m\u001b[0;34m,\u001b[0m \u001b[0;34m\"rb\"\u001b[0m\u001b[0;34m)\u001b[0m \u001b[0;32mas\u001b[0m \u001b[0mmodel_file\u001b[0m\u001b[0;34m:\u001b[0m\u001b[0;34m\u001b[0m\u001b[0;34m\u001b[0m\u001b[0m\n\u001b[0;32m--> 153\u001b[0;31m             \u001b[0mfitted_model\u001b[0m \u001b[0;34m=\u001b[0m \u001b[0mpickle\u001b[0m\u001b[0;34m.\u001b[0m\u001b[0mload\u001b[0m\u001b[0;34m(\u001b[0m\u001b[0mmodel_file\u001b[0m\u001b[0;34m)\u001b[0m  \u001b[0;31m# type: Optional[Any]\u001b[0m\u001b[0;34m\u001b[0m\u001b[0;34m\u001b[0m\u001b[0m\n\u001b[0m\u001b[1;32m    154\u001b[0m             \u001b[0;32mreturn\u001b[0m \u001b[0mfitted_model\u001b[0m\u001b[0;34m\u001b[0m\u001b[0;34m\u001b[0m\u001b[0m\n\u001b[1;32m    155\u001b[0m     \u001b[0;32mexcept\u001b[0m \u001b[0mImportError\u001b[0m \u001b[0;32mas\u001b[0m \u001b[0me\u001b[0m\u001b[0;34m:\u001b[0m\u001b[0;34m\u001b[0m\u001b[0;34m\u001b[0m\u001b[0m\n",
      "\u001b[0;31mAttributeError\u001b[0m: Can't get attribute 'XGBoostLabelEncoder' on <module 'xgboost.compat' from '/anaconda/envs/azureml_py36/lib/python3.6/site-packages/xgboost/compat.py'>"
     ]
    }
   ],
   "source": [
    "# Retrieve and save your best automl model.\n",
    "remote_run.wait_for_completion(show_output=True)\n",
    "\n"
   ]
  },
  {
   "cell_type": "code",
   "execution_count": 26,
   "metadata": {},
   "outputs": [
    {
     "data": {
      "application/vnd.jupyter.widget-view+json": {
       "model_id": "7ab9a698290b42d08f6bf00a78e3493e",
       "version_major": 2,
       "version_minor": 0
      },
      "text/plain": [
       "_AutoMLWidget(widget_settings={'childWidgetDisplay': 'popup', 'send_telemetry': False, 'log_level': 'INFO', 's…"
      ]
     },
     "metadata": {},
     "output_type": "display_data"
    },
    {
     "data": {
      "application/aml.mini.widget.v1": "{\"status\": \"Completed\", \"workbench_run_details_uri\": \"https://ml.azure.com/experiments/capstone-Automl/runs/AutoML_8e0cfeea-91de-46df-830a-d6688538ce73?wsid=/subscriptions/610d6e37-4747-4a20-80eb-3aad70a55f43/resourcegroups/aml-quickstarts-135106/workspaces/quick-starts-ws-135106\", \"run_id\": \"AutoML_8e0cfeea-91de-46df-830a-d6688538ce73\", \"run_properties\": {\"run_id\": \"AutoML_8e0cfeea-91de-46df-830a-d6688538ce73\", \"created_utc\": \"2021-01-17T19:12:36.390723Z\", \"properties\": {\"num_iterations\": \"1000\", \"training_type\": \"TrainFull\", \"acquisition_function\": \"EI\", \"primary_metric\": \"AUC_weighted\", \"train_split\": \"0\", \"acquisition_parameter\": \"0\", \"num_cross_validation\": null, \"target\": \"auto-ml\", \"AMLSettingsJsonString\": \"{\\\"path\\\":null,\\\"name\\\":\\\"capstone-Automl\\\",\\\"subscription_id\\\":\\\"610d6e37-4747-4a20-80eb-3aad70a55f43\\\",\\\"resource_group\\\":\\\"aml-quickstarts-135106\\\",\\\"workspace_name\\\":\\\"quick-starts-ws-135106\\\",\\\"region\\\":\\\"southcentralus\\\",\\\"compute_target\\\":\\\"auto-ml\\\",\\\"spark_service\\\":null,\\\"azure_service\\\":\\\"remote\\\",\\\"many_models\\\":false,\\\"pipeline_fetch_max_batch_size\\\":1,\\\"iterations\\\":1000,\\\"primary_metric\\\":\\\"AUC_weighted\\\",\\\"task_type\\\":\\\"classification\\\",\\\"data_script\\\":null,\\\"validation_size\\\":0.0,\\\"n_cross_validations\\\":null,\\\"y_min\\\":null,\\\"y_max\\\":null,\\\"num_classes\\\":null,\\\"featurization\\\":\\\"auto\\\",\\\"_ignore_package_version_incompatibilities\\\":false,\\\"is_timeseries\\\":false,\\\"max_cores_per_iteration\\\":1,\\\"max_concurrent_iterations\\\":4,\\\"iteration_timeout_minutes\\\":null,\\\"mem_in_mb\\\":null,\\\"enforce_time_on_windows\\\":false,\\\"experiment_timeout_minutes\\\":20,\\\"experiment_exit_score\\\":null,\\\"whitelist_models\\\":null,\\\"blacklist_algos\\\":[\\\"TensorFlowLinearClassifier\\\",\\\"TensorFlowDNN\\\"],\\\"supported_models\\\":[\\\"SVM\\\",\\\"XGBoostClassifier\\\",\\\"AveragedPerceptronClassifier\\\",\\\"LogisticRegression\\\",\\\"TensorFlowLinearClassifier\\\",\\\"KNN\\\",\\\"LightGBM\\\",\\\"TensorFlowDNN\\\",\\\"ExtremeRandomTrees\\\",\\\"SGD\\\",\\\"LinearSVM\\\",\\\"BernoulliNaiveBayes\\\",\\\"DecisionTree\\\",\\\"RandomForest\\\",\\\"GradientBoosting\\\",\\\"MultinomialNaiveBayes\\\"],\\\"auto_blacklist\\\":true,\\\"blacklist_samples_reached\\\":false,\\\"exclude_nan_labels\\\":true,\\\"verbosity\\\":20,\\\"_debug_log\\\":\\\"azureml_automl.log\\\",\\\"show_warnings\\\":false,\\\"model_explainability\\\":true,\\\"service_url\\\":null,\\\"sdk_url\\\":null,\\\"sdk_packages\\\":null,\\\"enable_onnx_compatible_models\\\":false,\\\"enable_split_onnx_featurizer_estimator_models\\\":false,\\\"vm_type\\\":\\\"STANDARD_NC6\\\",\\\"telemetry_verbosity\\\":20,\\\"send_telemetry\\\":true,\\\"enable_dnn\\\":false,\\\"scenario\\\":\\\"SDK-1.13.0\\\",\\\"environment_label\\\":null,\\\"force_text_dnn\\\":false,\\\"enable_feature_sweeping\\\":true,\\\"enable_early_stopping\\\":true,\\\"early_stopping_n_iters\\\":10,\\\"metrics\\\":null,\\\"enable_ensembling\\\":true,\\\"enable_stack_ensembling\\\":true,\\\"ensemble_iterations\\\":15,\\\"enable_tf\\\":false,\\\"enable_subsampling\\\":null,\\\"subsample_seed\\\":null,\\\"enable_nimbusml\\\":false,\\\"enable_streaming\\\":false,\\\"force_streaming\\\":false,\\\"track_child_runs\\\":true,\\\"allowed_private_models\\\":[],\\\"label_column_name\\\":\\\"DEATH_EVENT\\\",\\\"weight_column_name\\\":null,\\\"cv_split_column_names\\\":null,\\\"enable_local_managed\\\":false,\\\"_local_managed_run_id\\\":null,\\\"cost_mode\\\":1,\\\"lag_length\\\":0,\\\"metric_operation\\\":\\\"maximize\\\",\\\"preprocess\\\":true}\", \"DataPrepJsonString\": \"{\\\\\\\"training_data\\\\\\\": \\\\\\\"{\\\\\\\\\\\\\\\"blocks\\\\\\\\\\\\\\\": [{\\\\\\\\\\\\\\\"id\\\\\\\\\\\\\\\": \\\\\\\\\\\\\\\"5f05c661-c95c-47ab-9c48-f1bc71f6ab4c\\\\\\\\\\\\\\\", \\\\\\\\\\\\\\\"type\\\\\\\\\\\\\\\": \\\\\\\\\\\\\\\"Microsoft.DPrep.GetDatastoreFilesBlock\\\\\\\\\\\\\\\", \\\\\\\\\\\\\\\"arguments\\\\\\\\\\\\\\\": {\\\\\\\\\\\\\\\"datastores\\\\\\\\\\\\\\\": [{\\\\\\\\\\\\\\\"datastoreName\\\\\\\\\\\\\\\": \\\\\\\\\\\\\\\"workspaceblobstore\\\\\\\\\\\\\\\", \\\\\\\\\\\\\\\"path\\\\\\\\\\\\\\\": \\\\\\\\\\\\\\\"./heart_failure_clinical_records_dataset.csv\\\\\\\\\\\\\\\", \\\\\\\\\\\\\\\"resourceGroup\\\\\\\\\\\\\\\": \\\\\\\\\\\\\\\"aml-quickstarts-135106\\\\\\\\\\\\\\\", \\\\\\\\\\\\\\\"subscription\\\\\\\\\\\\\\\": \\\\\\\\\\\\\\\"610d6e37-4747-4a20-80eb-3aad70a55f43\\\\\\\\\\\\\\\", \\\\\\\\\\\\\\\"workspaceName\\\\\\\\\\\\\\\": \\\\\\\\\\\\\\\"quick-starts-ws-135106\\\\\\\\\\\\\\\"}]}, \\\\\\\\\\\\\\\"localData\\\\\\\\\\\\\\\": {}, \\\\\\\\\\\\\\\"isEnabled\\\\\\\\\\\\\\\": true, \\\\\\\\\\\\\\\"name\\\\\\\\\\\\\\\": null, \\\\\\\\\\\\\\\"annotation\\\\\\\\\\\\\\\": null}, {\\\\\\\\\\\\\\\"id\\\\\\\\\\\\\\\": \\\\\\\\\\\\\\\"9ffb9753-805c-42de-bb0c-40cc851304ea\\\\\\\\\\\\\\\", \\\\\\\\\\\\\\\"type\\\\\\\\\\\\\\\": \\\\\\\\\\\\\\\"Microsoft.DPrep.ParseDelimitedBlock\\\\\\\\\\\\\\\", \\\\\\\\\\\\\\\"arguments\\\\\\\\\\\\\\\": {\\\\\\\\\\\\\\\"columnHeadersMode\\\\\\\\\\\\\\\": 3, \\\\\\\\\\\\\\\"fileEncoding\\\\\\\\\\\\\\\": 0, \\\\\\\\\\\\\\\"handleQuotedLineBreaks\\\\\\\\\\\\\\\": false, \\\\\\\\\\\\\\\"preview\\\\\\\\\\\\\\\": false, \\\\\\\\\\\\\\\"separator\\\\\\\\\\\\\\\": \\\\\\\\\\\\\\\",\\\\\\\\\\\\\\\", \\\\\\\\\\\\\\\"skipRows\\\\\\\\\\\\\\\": 0, \\\\\\\\\\\\\\\"skipRowsMode\\\\\\\\\\\\\\\": 0}, \\\\\\\\\\\\\\\"localData\\\\\\\\\\\\\\\": {}, \\\\\\\\\\\\\\\"isEnabled\\\\\\\\\\\\\\\": true, \\\\\\\\\\\\\\\"name\\\\\\\\\\\\\\\": null, \\\\\\\\\\\\\\\"annotation\\\\\\\\\\\\\\\": null}, {\\\\\\\\\\\\\\\"id\\\\\\\\\\\\\\\": \\\\\\\\\\\\\\\"8f2de5aa-6fa5-445c-acd6-7ee24c2938be\\\\\\\\\\\\\\\", \\\\\\\\\\\\\\\"type\\\\\\\\\\\\\\\": \\\\\\\\\\\\\\\"Microsoft.DPrep.DropColumnsBlock\\\\\\\\\\\\\\\", \\\\\\\\\\\\\\\"arguments\\\\\\\\\\\\\\\": {\\\\\\\\\\\\\\\"columns\\\\\\\\\\\\\\\": {\\\\\\\\\\\\\\\"type\\\\\\\\\\\\\\\": 0, \\\\\\\\\\\\\\\"details\\\\\\\\\\\\\\\": {\\\\\\\\\\\\\\\"selectedColumns\\\\\\\\\\\\\\\": [\\\\\\\\\\\\\\\"Path\\\\\\\\\\\\\\\"]}}}, \\\\\\\\\\\\\\\"localData\\\\\\\\\\\\\\\": {}, \\\\\\\\\\\\\\\"isEnabled\\\\\\\\\\\\\\\": true, \\\\\\\\\\\\\\\"name\\\\\\\\\\\\\\\": null, \\\\\\\\\\\\\\\"annotation\\\\\\\\\\\\\\\": null}, {\\\\\\\\\\\\\\\"id\\\\\\\\\\\\\\\": \\\\\\\\\\\\\\\"cf30eea8-dd51-49b0-b889-8cc095e381c9\\\\\\\\\\\\\\\", \\\\\\\\\\\\\\\"type\\\\\\\\\\\\\\\": \\\\\\\\\\\\\\\"Microsoft.DPrep.SetColumnTypesBlock\\\\\\\\\\\\\\\", \\\\\\\\\\\\\\\"arguments\\\\\\\\\\\\\\\": {\\\\\\\\\\\\\\\"columnConversion\\\\\\\\\\\\\\\": [{\\\\\\\\\\\\\\\"column\\\\\\\\\\\\\\\": {\\\\\\\\\\\\\\\"type\\\\\\\\\\\\\\\": 2, \\\\\\\\\\\\\\\"details\\\\\\\\\\\\\\\": {\\\\\\\\\\\\\\\"selectedColumn\\\\\\\\\\\\\\\": \\\\\\\\\\\\\\\"age\\\\\\\\\\\\\\\"}}, \\\\\\\\\\\\\\\"typeProperty\\\\\\\\\\\\\\\": 3}, {\\\\\\\\\\\\\\\"column\\\\\\\\\\\\\\\": {\\\\\\\\\\\\\\\"type\\\\\\\\\\\\\\\": 2, \\\\\\\\\\\\\\\"details\\\\\\\\\\\\\\\": {\\\\\\\\\\\\\\\"selectedColumn\\\\\\\\\\\\\\\": \\\\\\\\\\\\\\\"anaemia\\\\\\\\\\\\\\\"}}, \\\\\\\\\\\\\\\"typeProperty\\\\\\\\\\\\\\\": 2}, {\\\\\\\\\\\\\\\"column\\\\\\\\\\\\\\\": {\\\\\\\\\\\\\\\"type\\\\\\\\\\\\\\\": 2, \\\\\\\\\\\\\\\"details\\\\\\\\\\\\\\\": {\\\\\\\\\\\\\\\"selectedColumn\\\\\\\\\\\\\\\": \\\\\\\\\\\\\\\"creatinine_phosphokinase\\\\\\\\\\\\\\\"}}, \\\\\\\\\\\\\\\"typeProperty\\\\\\\\\\\\\\\": 2}, {\\\\\\\\\\\\\\\"column\\\\\\\\\\\\\\\": {\\\\\\\\\\\\\\\"type\\\\\\\\\\\\\\\": 2, \\\\\\\\\\\\\\\"details\\\\\\\\\\\\\\\": {\\\\\\\\\\\\\\\"selectedColumn\\\\\\\\\\\\\\\": \\\\\\\\\\\\\\\"diabetes\\\\\\\\\\\\\\\"}}, \\\\\\\\\\\\\\\"typeProperty\\\\\\\\\\\\\\\": 2}, {\\\\\\\\\\\\\\\"column\\\\\\\\\\\\\\\": {\\\\\\\\\\\\\\\"type\\\\\\\\\\\\\\\": 2, \\\\\\\\\\\\\\\"details\\\\\\\\\\\\\\\": {\\\\\\\\\\\\\\\"selectedColumn\\\\\\\\\\\\\\\": \\\\\\\\\\\\\\\"ejection_fraction\\\\\\\\\\\\\\\"}}, \\\\\\\\\\\\\\\"typeProperty\\\\\\\\\\\\\\\": 2}, {\\\\\\\\\\\\\\\"column\\\\\\\\\\\\\\\": {\\\\\\\\\\\\\\\"type\\\\\\\\\\\\\\\": 2, \\\\\\\\\\\\\\\"details\\\\\\\\\\\\\\\": {\\\\\\\\\\\\\\\"selectedColumn\\\\\\\\\\\\\\\": \\\\\\\\\\\\\\\"high_blood_pressure\\\\\\\\\\\\\\\"}}, \\\\\\\\\\\\\\\"typeProperty\\\\\\\\\\\\\\\": 2}, {\\\\\\\\\\\\\\\"column\\\\\\\\\\\\\\\": {\\\\\\\\\\\\\\\"type\\\\\\\\\\\\\\\": 2, \\\\\\\\\\\\\\\"details\\\\\\\\\\\\\\\": {\\\\\\\\\\\\\\\"selectedColumn\\\\\\\\\\\\\\\": \\\\\\\\\\\\\\\"platelets\\\\\\\\\\\\\\\"}}, \\\\\\\\\\\\\\\"typeProperty\\\\\\\\\\\\\\\": 3}, {\\\\\\\\\\\\\\\"column\\\\\\\\\\\\\\\": {\\\\\\\\\\\\\\\"type\\\\\\\\\\\\\\\": 2, \\\\\\\\\\\\\\\"details\\\\\\\\\\\\\\\": {\\\\\\\\\\\\\\\"selectedColumn\\\\\\\\\\\\\\\": \\\\\\\\\\\\\\\"serum_creatinine\\\\\\\\\\\\\\\"}}, \\\\\\\\\\\\\\\"typeProperty\\\\\\\\\\\\\\\": 3}, {\\\\\\\\\\\\\\\"column\\\\\\\\\\\\\\\": {\\\\\\\\\\\\\\\"type\\\\\\\\\\\\\\\": 2, \\\\\\\\\\\\\\\"details\\\\\\\\\\\\\\\": {\\\\\\\\\\\\\\\"selectedColumn\\\\\\\\\\\\\\\": \\\\\\\\\\\\\\\"serum_sodium\\\\\\\\\\\\\\\"}}, \\\\\\\\\\\\\\\"typeProperty\\\\\\\\\\\\\\\": 2}, {\\\\\\\\\\\\\\\"column\\\\\\\\\\\\\\\": {\\\\\\\\\\\\\\\"type\\\\\\\\\\\\\\\": 2, \\\\\\\\\\\\\\\"details\\\\\\\\\\\\\\\": {\\\\\\\\\\\\\\\"selectedColumn\\\\\\\\\\\\\\\": \\\\\\\\\\\\\\\"sex\\\\\\\\\\\\\\\"}}, \\\\\\\\\\\\\\\"typeProperty\\\\\\\\\\\\\\\": 2}, {\\\\\\\\\\\\\\\"column\\\\\\\\\\\\\\\": {\\\\\\\\\\\\\\\"type\\\\\\\\\\\\\\\": 2, \\\\\\\\\\\\\\\"details\\\\\\\\\\\\\\\": {\\\\\\\\\\\\\\\"selectedColumn\\\\\\\\\\\\\\\": \\\\\\\\\\\\\\\"smoking\\\\\\\\\\\\\\\"}}, \\\\\\\\\\\\\\\"typeProperty\\\\\\\\\\\\\\\": 2}, {\\\\\\\\\\\\\\\"column\\\\\\\\\\\\\\\": {\\\\\\\\\\\\\\\"type\\\\\\\\\\\\\\\": 2, \\\\\\\\\\\\\\\"details\\\\\\\\\\\\\\\": {\\\\\\\\\\\\\\\"selectedColumn\\\\\\\\\\\\\\\": \\\\\\\\\\\\\\\"time\\\\\\\\\\\\\\\"}}, \\\\\\\\\\\\\\\"typeProperty\\\\\\\\\\\\\\\": 2}, {\\\\\\\\\\\\\\\"column\\\\\\\\\\\\\\\": {\\\\\\\\\\\\\\\"type\\\\\\\\\\\\\\\": 2, \\\\\\\\\\\\\\\"details\\\\\\\\\\\\\\\": {\\\\\\\\\\\\\\\"selectedColumn\\\\\\\\\\\\\\\": \\\\\\\\\\\\\\\"DEATH_EVENT\\\\\\\\\\\\\\\"}}, \\\\\\\\\\\\\\\"typeProperty\\\\\\\\\\\\\\\": 2}]}, \\\\\\\\\\\\\\\"localData\\\\\\\\\\\\\\\": {}, \\\\\\\\\\\\\\\"isEnabled\\\\\\\\\\\\\\\": true, \\\\\\\\\\\\\\\"name\\\\\\\\\\\\\\\": null, \\\\\\\\\\\\\\\"annotation\\\\\\\\\\\\\\\": null}], \\\\\\\\\\\\\\\"inspectors\\\\\\\\\\\\\\\": [], \\\\\\\\\\\\\\\"meta\\\\\\\\\\\\\\\": {\\\\\\\\\\\\\\\"savedDatasetId\\\\\\\\\\\\\\\": \\\\\\\\\\\\\\\"86ae8e39-9807-45a7-8d90-e19ee80d3d7f\\\\\\\\\\\\\\\", \\\\\\\\\\\\\\\"datasetType\\\\\\\\\\\\\\\": \\\\\\\\\\\\\\\"tabular\\\\\\\\\\\\\\\", \\\\\\\\\\\\\\\"subscriptionId\\\\\\\\\\\\\\\": \\\\\\\\\\\\\\\"610d6e37-4747-4a20-80eb-3aad70a55f43\\\\\\\\\\\\\\\", \\\\\\\\\\\\\\\"workspaceId\\\\\\\\\\\\\\\": \\\\\\\\\\\\\\\"7cf7f2a2-b85c-422c-8790-fe0e7197dff3\\\\\\\\\\\\\\\", \\\\\\\\\\\\\\\"workspaceLocation\\\\\\\\\\\\\\\": \\\\\\\\\\\\\\\"southcentralus\\\\\\\\\\\\\\\"}}\\\\\\\", \\\\\\\"activities\\\\\\\": 0}\", \"EnableSubsampling\": null, \"runTemplate\": \"AutoML\", \"azureml.runsource\": \"automl\", \"display_task_type\": \"classification\", \"dependencies_versions\": \"{\\\"azureml-widgets\\\": \\\"1.19.0\\\", \\\"azureml-train\\\": \\\"1.19.0\\\", \\\"azureml-train-restclients-hyperdrive\\\": \\\"1.19.0\\\", \\\"azureml-train-core\\\": \\\"1.19.0\\\", \\\"azureml-train-automl\\\": \\\"1.19.0\\\", \\\"azureml-train-automl-runtime\\\": \\\"1.19.0\\\", \\\"azureml-train-automl-client\\\": \\\"1.19.0\\\", \\\"azureml-tensorboard\\\": \\\"1.19.0\\\", \\\"azureml-telemetry\\\": \\\"1.19.0\\\", \\\"azureml-sdk\\\": \\\"1.19.0\\\", \\\"azureml-samples\\\": \\\"0+unknown\\\", \\\"azureml-pipeline\\\": \\\"1.19.0\\\", \\\"azureml-pipeline-steps\\\": \\\"1.19.0\\\", \\\"azureml-pipeline-core\\\": \\\"1.19.0\\\", \\\"azureml-opendatasets\\\": \\\"1.19.0\\\", \\\"azureml-model-management-sdk\\\": \\\"1.0.1b6.post1\\\", \\\"azureml-mlflow\\\": \\\"1.19.0\\\", \\\"azureml-interpret\\\": \\\"1.19.0\\\", \\\"azureml-explain-model\\\": \\\"1.19.0\\\", \\\"azureml-defaults\\\": \\\"1.19.0\\\", \\\"azureml-dataset-runtime\\\": \\\"1.19.0.post1\\\", \\\"azureml-dataprep\\\": \\\"2.6.1\\\", \\\"azureml-dataprep-rslex\\\": \\\"1.4.0\\\", \\\"azureml-dataprep-native\\\": \\\"26.0.0\\\", \\\"azureml-datadrift\\\": \\\"1.19.0\\\", \\\"azureml-core\\\": \\\"1.19.0\\\", \\\"azureml-contrib-services\\\": \\\"1.19.0\\\", \\\"azureml-contrib-server\\\": \\\"1.19.0\\\", \\\"azureml-contrib-reinforcementlearning\\\": \\\"1.19.0\\\", \\\"azureml-contrib-pipeline-steps\\\": \\\"1.19.0\\\", \\\"azureml-contrib-notebook\\\": \\\"1.19.0\\\", \\\"azureml-contrib-interpret\\\": \\\"1.19.0\\\", \\\"azureml-contrib-gbdt\\\": \\\"1.19.0\\\", \\\"azureml-contrib-fairness\\\": \\\"1.19.0\\\", \\\"azureml-contrib-dataset\\\": \\\"1.19.0\\\", \\\"azureml-cli-common\\\": \\\"1.19.0\\\", \\\"azureml-automl-runtime\\\": \\\"1.19.0\\\", \\\"azureml-automl-core\\\": \\\"1.19.0\\\", \\\"azureml-accel-models\\\": \\\"1.19.0\\\"}\", \"_aml_system_scenario_identification\": \"Remote.Parent\", \"ClientType\": \"SDK\", \"environment_cpu_name\": \"AzureML-AutoML\", \"environment_cpu_label\": \"prod\", \"environment_gpu_name\": \"AzureML-AutoML-GPU\", \"environment_gpu_label\": \"prod\", \"root_attribution\": \"automl\", \"attribution\": \"AutoML\", \"Orchestrator\": \"AutoML\", \"CancelUri\": \"https://southcentralus.experiments.azureml.net/jasmine/v1.0/subscriptions/610d6e37-4747-4a20-80eb-3aad70a55f43/resourceGroups/aml-quickstarts-135106/providers/Microsoft.MachineLearningServices/workspaces/quick-starts-ws-135106/experimentids/0a7ede97-281c-4d78-bc02-52d5e277c4d1/cancel/AutoML_8e0cfeea-91de-46df-830a-d6688538ce73\", \"ClientSdkVersion\": \"1.19.0\", \"snapshotId\": \"00000000-0000-0000-0000-000000000000\", \"SetupRunId\": \"AutoML_8e0cfeea-91de-46df-830a-d6688538ce73_setup\", \"SetupRunContainerId\": \"dcid.AutoML_8e0cfeea-91de-46df-830a-d6688538ce73_setup\", \"FeaturizationRunJsonPath\": \"featurizer_container.json\", \"FeaturizationRunId\": \"AutoML_8e0cfeea-91de-46df-830a-d6688538ce73_featurize\", \"ProblemInfoJsonString\": \"{\\\"dataset_num_categorical\\\": 0, \\\"is_sparse\\\": false, \\\"subsampling\\\": false, \\\"dataset_classes\\\": 2, \\\"dataset_features\\\": 12, \\\"dataset_samples\\\": 299, \\\"single_frequency_class_detected\\\": false}\", \"ModelExplainRunId\": \"AutoML_8e0cfeea-91de-46df-830a-d6688538ce73_ModelExplain\"}, \"tags\": {\"model_explain_run\": \"best_run\", \"_aml_system_azureml.automlComponent\": \"AutoML\", \"is_gpu\": \"True\", \"pipeline_id\": \"\", \"score\": \"\", \"predicted_cost\": \"\", \"fit_time\": \"\", \"training_percent\": \"\", \"iteration\": \"\", \"run_preprocessor\": \"\", \"run_algorithm\": \"\", \"dynamic_whitelisting_iterations\": \"<25>;<30>;<35>;<40>;<45>;<50>;<54>;<60>;\", \"automl_best_child_run_id\": \"AutoML_8e0cfeea-91de-46df-830a-d6688538ce73_61\", \"model_explain_best_run_child_id\": \"AutoML_8e0cfeea-91de-46df-830a-d6688538ce73_61\"}, \"end_time_utc\": \"2021-01-17T19:42:26.086652Z\", \"status\": \"Completed\", \"log_files\": {}, \"log_groups\": [], \"run_duration\": \"0:29:49\"}, \"child_runs\": [{\"run_id\": \"AutoML_8e0cfeea-91de-46df-830a-d6688538ce73_0\", \"run_number\": 5, \"metric\": null, \"status\": \"Completed\", \"run_type\": \"azureml.scriptrun\", \"training_percent\": \"100\", \"start_time\": \"2021-01-17T19:22:15.503271Z\", \"end_time\": \"2021-01-17T19:23:14.168878Z\", \"created_time\": \"2021-01-17T19:20:22.791477Z\", \"created_time_dt\": \"2021-01-17T19:20:22.791477Z\", \"duration\": \"0:02:51\", \"iteration\": \"0\", \"goal\": \"AUC_weighted_max\", \"run_name\": \"MaxAbsScaler, LightGBM\", \"run_properties\": \"copy=True\", \"primary_metric\": 0.88637831, \"best_metric\": 0.88637831}, {\"run_id\": \"AutoML_8e0cfeea-91de-46df-830a-d6688538ce73_1\", \"run_number\": 6, \"metric\": null, \"status\": \"Completed\", \"run_type\": \"azureml.scriptrun\", \"training_percent\": \"100\", \"start_time\": \"2021-01-17T19:21:13.852358Z\", \"end_time\": \"2021-01-17T19:22:11.275697Z\", \"created_time\": \"2021-01-17T19:20:22.953552Z\", \"created_time_dt\": \"2021-01-17T19:20:22.953552Z\", \"duration\": \"0:01:48\", \"iteration\": \"1\", \"goal\": \"AUC_weighted_max\", \"run_name\": \"MaxAbsScaler, XGBoostClassifier\", \"run_properties\": \"copy=True\", \"primary_metric\": 0.89962771, \"best_metric\": 0.89962771}, {\"run_id\": \"AutoML_8e0cfeea-91de-46df-830a-d6688538ce73_2\", \"run_number\": 7, \"metric\": null, \"status\": \"Completed\", \"run_type\": \"azureml.scriptrun\", \"training_percent\": \"100\", \"start_time\": \"2021-01-17T19:20:33.816683Z\", \"end_time\": \"2021-01-17T19:21:11.693024Z\", \"created_time\": \"2021-01-17T19:20:22.951823Z\", \"created_time_dt\": \"2021-01-17T19:20:22.951823Z\", \"duration\": \"0:00:48\", \"iteration\": \"2\", \"goal\": \"AUC_weighted_max\", \"run_name\": \"MinMaxScaler, RandomForest\", \"run_properties\": \"copy=True, feature_range=(0, 1\", \"primary_metric\": 0.89568911, \"best_metric\": 0.89962771}, {\"run_id\": \"AutoML_8e0cfeea-91de-46df-830a-d6688538ce73_3\", \"run_number\": 8, \"metric\": null, \"status\": \"Completed\", \"run_type\": \"azureml.scriptrun\", \"training_percent\": \"100\", \"start_time\": \"2021-01-17T19:23:18.402883Z\", \"end_time\": \"2021-01-17T19:24:20.456484Z\", \"created_time\": \"2021-01-17T19:20:22.973604Z\", \"created_time_dt\": \"2021-01-17T19:20:22.973604Z\", \"duration\": \"0:03:57\", \"iteration\": \"3\", \"goal\": \"AUC_weighted_max\", \"run_name\": \"RobustScaler, ExtremeRandomTrees\", \"run_properties\": \"copy=True, quantile_range=[10, 90], with_centering=False,\\n             with_scaling=False\", \"primary_metric\": 0.87873656, \"best_metric\": 0.89962771}, {\"run_id\": \"AutoML_8e0cfeea-91de-46df-830a-d6688538ce73_4\", \"run_number\": 9, \"metric\": null, \"status\": \"Completed\", \"run_type\": \"azureml.scriptrun\", \"training_percent\": \"100\", \"start_time\": \"2021-01-17T19:23:40.908819Z\", \"end_time\": \"2021-01-17T19:25:49.438672Z\", \"created_time\": \"2021-01-17T19:21:16.069977Z\", \"created_time_dt\": \"2021-01-17T19:21:16.069977Z\", \"duration\": \"0:04:33\", \"iteration\": \"4\", \"goal\": \"AUC_weighted_max\", \"run_name\": \"MinMaxScaler, RandomForest\", \"run_properties\": \"copy=True, feature_range=(0, 1\", \"primary_metric\": 0.89851144, \"best_metric\": 0.89962771}, {\"run_id\": \"AutoML_8e0cfeea-91de-46df-830a-d6688538ce73_5\", \"run_number\": 10, \"metric\": null, \"status\": \"Completed\", \"run_type\": \"azureml.scriptrun\", \"training_percent\": \"100\", \"start_time\": \"2021-01-17T19:23:37.992668Z\", \"end_time\": \"2021-01-17T19:25:58.475586Z\", \"created_time\": \"2021-01-17T19:22:15.941754Z\", \"created_time_dt\": \"2021-01-17T19:22:15.941754Z\", \"duration\": \"0:03:42\", \"iteration\": \"5\", \"goal\": \"AUC_weighted_max\", \"run_name\": \"MinMaxScaler, RandomForest\", \"run_properties\": \"copy=True, feature_range=(0, 1\", \"primary_metric\": 0.88919941, \"best_metric\": 0.89962771}, {\"run_id\": \"AutoML_8e0cfeea-91de-46df-830a-d6688538ce73_6\", \"run_number\": 11, \"metric\": null, \"status\": \"Completed\", \"run_type\": \"azureml.scriptrun\", \"training_percent\": \"100\", \"start_time\": \"2021-01-17T19:24:33.819009Z\", \"end_time\": \"2021-01-17T19:25:13.849577Z\", \"created_time\": \"2021-01-17T19:23:49.19038Z\", \"created_time_dt\": \"2021-01-17T19:23:49.19038Z\", \"duration\": \"0:01:24\", \"iteration\": \"6\", \"goal\": \"AUC_weighted_max\", \"run_name\": \"StandardScalerWrapper, RandomForest\", \"run_properties\": \"<azureml.automl.runtime.shared.model_wrappers.StandardScalerWrapper object at 0x7fad0171b390\", \"primary_metric\": 0.87737872, \"best_metric\": 0.89962771}, {\"run_id\": \"AutoML_8e0cfeea-91de-46df-830a-d6688538ce73_7\", \"run_number\": 12, \"metric\": null, \"status\": \"Completed\", \"run_type\": \"azureml.scriptrun\", \"training_percent\": \"100\", \"start_time\": \"2021-01-17T19:25:18.080079Z\", \"end_time\": \"2021-01-17T19:26:40.366498Z\", \"created_time\": \"2021-01-17T19:25:02.038897Z\", \"created_time_dt\": \"2021-01-17T19:25:02.038897Z\", \"duration\": \"0:01:38\", \"iteration\": \"7\", \"goal\": \"AUC_weighted_max\", \"run_name\": \"MinMaxScaler, ExtremeRandomTrees\", \"run_properties\": \"copy=True, feature_range=(0, 1\", \"primary_metric\": 0.90203122, \"best_metric\": 0.90203122}, {\"run_id\": \"AutoML_8e0cfeea-91de-46df-830a-d6688538ce73_8\", \"run_number\": 13, \"metric\": null, \"status\": \"Completed\", \"run_type\": \"azureml.scriptrun\", \"training_percent\": \"100\", \"start_time\": \"2021-01-17T19:25:31.050738Z\", \"end_time\": \"2021-01-17T19:27:29.078785Z\", \"created_time\": \"2021-01-17T19:25:17.641468Z\", \"created_time_dt\": \"2021-01-17T19:25:17.641468Z\", \"duration\": \"0:02:11\", \"iteration\": \"8\", \"goal\": \"AUC_weighted_max\", \"run_name\": \"MinMaxScaler, ExtremeRandomTrees\", \"run_properties\": \"copy=True, feature_range=(0, 1\", \"primary_metric\": 0.86335154, \"best_metric\": 0.90203122}, {\"run_id\": \"AutoML_8e0cfeea-91de-46df-830a-d6688538ce73_9\", \"run_number\": 14, \"metric\": null, \"status\": \"Completed\", \"run_type\": \"azureml.scriptrun\", \"training_percent\": \"100\", \"start_time\": \"2021-01-17T19:26:06.314358Z\", \"end_time\": \"2021-01-17T19:27:12.068203Z\", \"created_time\": \"2021-01-17T19:25:53.30757Z\", \"created_time_dt\": \"2021-01-17T19:25:53.30757Z\", \"duration\": \"0:01:18\", \"iteration\": \"9\", \"goal\": \"AUC_weighted_max\", \"run_name\": \"SparseNormalizer, KNN\", \"run_properties\": \"<azureml.automl.runtime.shared.model_wrappers.SparseNormalizer object at 0x7fba70a04ba8\", \"primary_metric\": 0.7496161, \"best_metric\": 0.90203122}, {\"run_id\": \"AutoML_8e0cfeea-91de-46df-830a-d6688538ce73_10\", \"run_number\": 15, \"metric\": null, \"status\": \"Completed\", \"run_type\": \"azureml.scriptrun\", \"training_percent\": \"100\", \"start_time\": \"2021-01-17T19:26:15.625828Z\", \"end_time\": \"2021-01-17T19:27:04.063129Z\", \"created_time\": \"2021-01-17T19:26:02.346735Z\", \"created_time_dt\": \"2021-01-17T19:26:02.346735Z\", \"duration\": \"0:01:01\", \"iteration\": \"10\", \"goal\": \"AUC_weighted_max\", \"run_name\": \"MinMaxScaler, ExtremeRandomTrees\", \"run_properties\": \"copy=True, feature_range=(0, 1\", \"primary_metric\": 0.86998166, \"best_metric\": 0.90203122}, {\"run_id\": \"AutoML_8e0cfeea-91de-46df-830a-d6688538ce73_11\", \"run_number\": 16, \"metric\": null, \"status\": \"Completed\", \"run_type\": \"azureml.scriptrun\", \"training_percent\": \"100\", \"start_time\": \"2021-01-17T19:26:58.753684Z\", \"end_time\": \"2021-01-17T19:27:38.754869Z\", \"created_time\": \"2021-01-17T19:26:44.479142Z\", \"created_time_dt\": \"2021-01-17T19:26:44.479142Z\", \"duration\": \"0:00:54\", \"iteration\": \"11\", \"goal\": \"AUC_weighted_max\", \"run_name\": \"RobustScaler, ExtremeRandomTrees\", \"run_properties\": \"copy=True, quantile_range=[10, 90], with_centering=True,\\n             with_scaling=False\", \"primary_metric\": 0.89203774, \"best_metric\": 0.90203122}, {\"run_id\": \"AutoML_8e0cfeea-91de-46df-830a-d6688538ce73_12\", \"run_number\": 17, \"metric\": null, \"status\": \"Completed\", \"run_type\": \"azureml.scriptrun\", \"training_percent\": \"100\", \"start_time\": \"2021-01-17T19:27:21.848705Z\", \"end_time\": \"2021-01-17T19:28:01.661828Z\", \"created_time\": \"2021-01-17T19:27:07.993863Z\", \"created_time_dt\": \"2021-01-17T19:27:07.993863Z\", \"duration\": \"0:00:53\", \"iteration\": \"12\", \"goal\": \"AUC_weighted_max\", \"run_name\": \"StandardScalerWrapper, RandomForest\", \"run_properties\": \"<azureml.automl.runtime.shared.model_wrappers.StandardScalerWrapper object at 0x7fa571ca49b0\", \"primary_metric\": 0.90582762, \"best_metric\": 0.90582762}, {\"run_id\": \"AutoML_8e0cfeea-91de-46df-830a-d6688538ce73_13\", \"run_number\": 18, \"metric\": null, \"status\": \"Completed\", \"run_type\": \"azureml.scriptrun\", \"training_percent\": \"100\", \"start_time\": \"2021-01-17T19:27:28.204874Z\", \"end_time\": \"2021-01-17T19:28:04.622605Z\", \"created_time\": \"2021-01-17T19:27:16.021988Z\", \"created_time_dt\": \"2021-01-17T19:27:16.021988Z\", \"duration\": \"0:00:48\", \"iteration\": \"13\", \"goal\": \"AUC_weighted_max\", \"run_name\": \"StandardScalerWrapper, SGD\", \"run_properties\": \"<azureml.automl.runtime.shared.model_wrappers.StandardScalerWrapper object at 0x7f03459ded30\", \"primary_metric\": 0.86963074, \"best_metric\": 0.90582762}, {\"run_id\": \"AutoML_8e0cfeea-91de-46df-830a-d6688538ce73_14\", \"run_number\": 19, \"metric\": null, \"status\": \"Completed\", \"run_type\": \"azureml.scriptrun\", \"training_percent\": \"100\", \"start_time\": \"2021-01-17T19:27:46.298009Z\", \"end_time\": \"2021-01-17T19:28:23.754417Z\", \"created_time\": \"2021-01-17T19:27:32.706109Z\", \"created_time_dt\": \"2021-01-17T19:27:32.706109Z\", \"duration\": \"0:00:51\", \"iteration\": \"14\", \"goal\": \"AUC_weighted_max\", \"run_name\": \"RobustScaler, RandomForest\", \"run_properties\": \"copy=True, quantile_range=[10, 90], with_centering=True,\\n             with_scaling=False\", \"primary_metric\": 0.89539778, \"best_metric\": 0.90582762}, {\"run_id\": \"AutoML_8e0cfeea-91de-46df-830a-d6688538ce73_15\", \"run_number\": 20, \"metric\": null, \"status\": \"Completed\", \"run_type\": \"azureml.scriptrun\", \"training_percent\": \"100\", \"start_time\": \"2021-01-17T19:27:54.406969Z\", \"end_time\": \"2021-01-17T19:28:27.973506Z\", \"created_time\": \"2021-01-17T19:27:42.934778Z\", \"created_time_dt\": \"2021-01-17T19:27:42.934778Z\", \"duration\": \"0:00:45\", \"iteration\": \"15\", \"goal\": \"AUC_weighted_max\", \"run_name\": \"StandardScalerWrapper, KNN\", \"run_properties\": \"<azureml.automl.runtime.shared.model_wrappers.StandardScalerWrapper object at 0x7f449356eb38\", \"primary_metric\": 0.52030533, \"best_metric\": 0.90582762}, {\"run_id\": \"AutoML_8e0cfeea-91de-46df-830a-d6688538ce73_16\", \"run_number\": 21, \"metric\": null, \"status\": \"Completed\", \"run_type\": \"azureml.scriptrun\", \"training_percent\": \"100\", \"start_time\": \"2021-01-17T19:28:17.638516Z\", \"end_time\": \"2021-01-17T19:29:02.34117Z\", \"created_time\": \"2021-01-17T19:28:05.669708Z\", \"created_time_dt\": \"2021-01-17T19:28:05.669708Z\", \"duration\": \"0:00:56\", \"iteration\": \"16\", \"goal\": \"AUC_weighted_max\", \"run_name\": \"MinMaxScaler, RandomForest\", \"run_properties\": \"copy=True, feature_range=(0, 1\", \"primary_metric\": 0.88210971, \"best_metric\": 0.90582762}, {\"run_id\": \"AutoML_8e0cfeea-91de-46df-830a-d6688538ce73_17\", \"run_number\": 22, \"metric\": null, \"status\": \"Completed\", \"run_type\": \"azureml.scriptrun\", \"training_percent\": \"100\", \"start_time\": \"2021-01-17T19:28:23.874699Z\", \"end_time\": \"2021-01-17T19:29:08.859904Z\", \"created_time\": \"2021-01-17T19:28:12.581145Z\", \"created_time_dt\": \"2021-01-17T19:28:12.581145Z\", \"duration\": \"0:00:56\", \"iteration\": \"17\", \"goal\": \"AUC_weighted_max\", \"run_name\": \"MinMaxScaler, ExtremeRandomTrees\", \"run_properties\": \"copy=True, feature_range=(0, 1\", \"primary_metric\": 0.80965558, \"best_metric\": 0.90582762}, {\"run_id\": \"AutoML_8e0cfeea-91de-46df-830a-d6688538ce73_18\", \"run_number\": 23, \"metric\": null, \"status\": \"Completed\", \"run_type\": \"azureml.scriptrun\", \"training_percent\": \"100\", \"start_time\": \"2021-01-17T19:28:41.26295Z\", \"end_time\": \"2021-01-17T19:29:24.129202Z\", \"created_time\": \"2021-01-17T19:28:27.633422Z\", \"created_time_dt\": \"2021-01-17T19:28:27.633422Z\", \"duration\": \"0:00:56\", \"iteration\": \"18\", \"goal\": \"AUC_weighted_max\", \"run_name\": \"MaxAbsScaler, RandomForest\", \"run_properties\": \"copy=True\", \"primary_metric\": 0.8797457, \"best_metric\": 0.90582762}, {\"run_id\": \"AutoML_8e0cfeea-91de-46df-830a-d6688538ce73_19\", \"run_number\": 24, \"metric\": null, \"status\": \"Completed\", \"run_type\": \"azureml.scriptrun\", \"training_percent\": \"100\", \"start_time\": \"2021-01-17T19:28:47.18611Z\", \"end_time\": \"2021-01-17T19:29:24.337567Z\", \"created_time\": \"2021-01-17T19:28:34.568338Z\", \"created_time_dt\": \"2021-01-17T19:28:34.568338Z\", \"duration\": \"0:00:49\", \"iteration\": \"19\", \"goal\": \"AUC_weighted_max\", \"run_name\": \"StandardScalerWrapper, XGBoostClassifier\", \"run_properties\": \"<azureml.automl.runtime.shared.model_wrappers.StandardScalerWrapper object at 0x7f232e5108d0\", \"primary_metric\": 0.90252918, \"best_metric\": 0.90582762}, {\"run_id\": \"AutoML_8e0cfeea-91de-46df-830a-d6688538ce73_20\", \"run_number\": 25, \"metric\": null, \"status\": \"Completed\", \"run_type\": \"azureml.scriptrun\", \"training_percent\": \"100\", \"start_time\": \"2021-01-17T19:29:19.056721Z\", \"end_time\": \"2021-01-17T19:30:09.704141Z\", \"created_time\": \"2021-01-17T19:29:06.220918Z\", \"created_time_dt\": \"2021-01-17T19:29:06.220918Z\", \"duration\": \"0:01:03\", \"iteration\": \"20\", \"goal\": \"AUC_weighted_max\", \"run_name\": \"MaxAbsScaler, RandomForest\", \"run_properties\": \"copy=True\", \"primary_metric\": 0.88626672, \"best_metric\": 0.90582762}, {\"run_id\": \"AutoML_8e0cfeea-91de-46df-830a-d6688538ce73_21\", \"run_number\": 26, \"metric\": null, \"status\": \"Completed\", \"run_type\": \"azureml.scriptrun\", \"training_percent\": \"100\", \"start_time\": \"2021-01-17T19:29:27.581032Z\", \"end_time\": \"2021-01-17T19:30:01.793074Z\", \"created_time\": \"2021-01-17T19:29:14.583533Z\", \"created_time_dt\": \"2021-01-17T19:29:14.583533Z\", \"duration\": \"0:00:47\", \"iteration\": \"21\", \"goal\": \"AUC_weighted_max\", \"run_name\": \"MaxAbsScaler, ExtremeRandomTrees\", \"run_properties\": \"copy=True\", \"primary_metric\": 0.85918787, \"best_metric\": 0.90582762}, {\"run_id\": \"AutoML_8e0cfeea-91de-46df-830a-d6688538ce73_23\", \"run_number\": 27, \"metric\": null, \"status\": \"Completed\", \"run_type\": \"azureml.scriptrun\", \"training_percent\": \"100\", \"start_time\": \"2021-01-17T19:29:41.416174Z\", \"end_time\": \"2021-01-17T19:30:23.960526Z\", \"created_time\": \"2021-01-17T19:29:28.433551Z\", \"created_time_dt\": \"2021-01-17T19:29:28.433551Z\", \"duration\": \"0:00:55\", \"iteration\": \"23\", \"goal\": \"AUC_weighted_max\", \"run_name\": \"MinMaxScaler, ExtremeRandomTrees\", \"run_properties\": \"copy=True, feature_range=(0, 1\", \"primary_metric\": 0.90315039, \"best_metric\": 0.90582762}, {\"run_id\": \"AutoML_8e0cfeea-91de-46df-830a-d6688538ce73_22\", \"run_number\": 28, \"metric\": null, \"status\": \"Completed\", \"run_type\": \"azureml.scriptrun\", \"training_percent\": \"100\", \"start_time\": \"2021-01-17T19:29:38.996454Z\", \"end_time\": \"2021-01-17T19:30:18.077231Z\", \"created_time\": \"2021-01-17T19:29:28.437996Z\", \"created_time_dt\": \"2021-01-17T19:29:28.437996Z\", \"duration\": \"0:00:49\", \"iteration\": \"22\", \"goal\": \"AUC_weighted_max\", \"run_name\": \"MaxAbsScaler, ExtremeRandomTrees\", \"run_properties\": \"copy=True\", \"primary_metric\": 0.87211983, \"best_metric\": 0.90582762}, {\"run_id\": \"AutoML_8e0cfeea-91de-46df-830a-d6688538ce73_24\", \"run_number\": 29, \"metric\": null, \"status\": \"Completed\", \"run_type\": \"azureml.scriptrun\", \"training_percent\": \"100\", \"start_time\": \"2021-01-17T19:30:17.706444Z\", \"end_time\": \"2021-01-17T19:30:56.738101Z\", \"created_time\": \"2021-01-17T19:30:05.089648Z\", \"created_time_dt\": \"2021-01-17T19:30:05.089648Z\", \"duration\": \"0:00:51\", \"iteration\": \"24\", \"goal\": \"AUC_weighted_max\", \"run_name\": \"MaxAbsScaler, ExtremeRandomTrees\", \"run_properties\": \"copy=True\", \"primary_metric\": 0.89927253, \"best_metric\": 0.90582762}, {\"run_id\": \"AutoML_8e0cfeea-91de-46df-830a-d6688538ce73_25\", \"run_number\": 30, \"metric\": null, \"status\": \"Completed\", \"run_type\": \"azureml.scriptrun\", \"training_percent\": \"100\", \"start_time\": \"2021-01-17T19:30:26.105392Z\", \"end_time\": \"2021-01-17T19:31:03.648252Z\", \"created_time\": \"2021-01-17T19:30:13.246759Z\", \"created_time_dt\": \"2021-01-17T19:30:13.246759Z\", \"duration\": \"0:00:50\", \"iteration\": \"25\", \"goal\": \"AUC_weighted_max\", \"run_name\": \"RobustScaler, RandomForest\", \"run_properties\": \"copy=True, quantile_range=[25, 75], with_centering=True,\\n             with_scaling=False\", \"primary_metric\": 0.78008457, \"best_metric\": 0.90582762}, {\"run_id\": \"AutoML_8e0cfeea-91de-46df-830a-d6688538ce73_26\", \"run_number\": 31, \"metric\": null, \"status\": \"Completed\", \"run_type\": \"azureml.scriptrun\", \"training_percent\": \"100\", \"start_time\": \"2021-01-17T19:30:33.039921Z\", \"end_time\": \"2021-01-17T19:31:18.521177Z\", \"created_time\": \"2021-01-17T19:30:20.582529Z\", \"created_time_dt\": \"2021-01-17T19:30:20.582529Z\", \"duration\": \"0:00:57\", \"iteration\": \"26\", \"goal\": \"AUC_weighted_max\", \"run_name\": \"MaxAbsScaler, RandomForest\", \"run_properties\": \"copy=True\", \"primary_metric\": 0.89068982, \"best_metric\": 0.90582762}, {\"run_id\": \"AutoML_8e0cfeea-91de-46df-830a-d6688538ce73_27\", \"run_number\": 32, \"metric\": null, \"status\": \"Completed\", \"run_type\": \"azureml.scriptrun\", \"training_percent\": \"100\", \"start_time\": \"2021-01-17T19:30:38.178506Z\", \"end_time\": \"2021-01-17T19:31:28.636607Z\", \"created_time\": \"2021-01-17T19:30:26.568235Z\", \"created_time_dt\": \"2021-01-17T19:30:26.568235Z\", \"duration\": \"0:01:02\", \"iteration\": \"27\", \"goal\": \"AUC_weighted_max\", \"run_name\": \"RobustScaler, LightGBM\", \"run_properties\": \"copy=True, quantile_range=[10, 90], with_centering=True,\\n             with_scaling=True\", \"primary_metric\": 0.88403003, \"best_metric\": 0.90582762}, {\"run_id\": \"AutoML_8e0cfeea-91de-46df-830a-d6688538ce73_28\", \"run_number\": 33, \"metric\": null, \"status\": \"Completed\", \"run_type\": \"azureml.scriptrun\", \"training_percent\": \"100\", \"start_time\": \"2021-01-17T19:31:13.136015Z\", \"end_time\": \"2021-01-17T19:31:53.080961Z\", \"created_time\": \"2021-01-17T19:30:59.730344Z\", \"created_time_dt\": \"2021-01-17T19:30:59.730344Z\", \"duration\": \"0:00:53\", \"iteration\": \"28\", \"goal\": \"AUC_weighted_max\", \"run_name\": \"StandardScalerWrapper, XGBoostClassifier\", \"run_properties\": \"<azureml.automl.runtime.shared.model_wrappers.StandardScalerWrapper object at 0x7fc58b30bb38\", \"primary_metric\": 0.90884512, \"best_metric\": 0.90884512}, {\"run_id\": \"AutoML_8e0cfeea-91de-46df-830a-d6688538ce73_29\", \"run_number\": 34, \"metric\": null, \"status\": \"Completed\", \"run_type\": \"azureml.scriptrun\", \"training_percent\": \"100\", \"start_time\": \"2021-01-17T19:31:19.724266Z\", \"end_time\": \"2021-01-17T19:32:17.318569Z\", \"created_time\": \"2021-01-17T19:31:06.794423Z\", \"created_time_dt\": \"2021-01-17T19:31:06.794423Z\", \"duration\": \"0:01:10\", \"iteration\": \"29\", \"goal\": \"AUC_weighted_max\", \"run_name\": \"MinMaxScaler, LightGBM\", \"run_properties\": \"copy=True, feature_range=(0, 1\", \"primary_metric\": 0.89940811, \"best_metric\": 0.90884512}, {\"run_id\": \"AutoML_8e0cfeea-91de-46df-830a-d6688538ce73_30\", \"run_number\": 35, \"metric\": null, \"status\": \"Completed\", \"run_type\": \"azureml.scriptrun\", \"training_percent\": \"100\", \"start_time\": \"2021-01-17T19:31:36.081723Z\", \"end_time\": \"2021-01-17T19:32:16.047526Z\", \"created_time\": \"2021-01-17T19:31:22.450545Z\", \"created_time_dt\": \"2021-01-17T19:31:22.450545Z\", \"duration\": \"0:00:53\", \"iteration\": \"30\", \"goal\": \"AUC_weighted_max\", \"run_name\": \"RobustScaler, RandomForest\", \"run_properties\": \"copy=True, quantile_range=[10, 90], with_centering=True,\\n             with_scaling=False\", \"primary_metric\": 0.88617978, \"best_metric\": 0.90884512}, {\"run_id\": \"AutoML_8e0cfeea-91de-46df-830a-d6688538ce73_31\", \"run_number\": 36, \"metric\": null, \"status\": \"Completed\", \"run_type\": \"azureml.scriptrun\", \"training_percent\": \"100\", \"start_time\": \"2021-01-17T19:31:44.374496Z\", \"end_time\": \"2021-01-17T19:32:33.177878Z\", \"created_time\": \"2021-01-17T19:31:31.215532Z\", \"created_time_dt\": \"2021-01-17T19:31:31.215532Z\", \"duration\": \"0:01:01\", \"iteration\": \"31\", \"goal\": \"AUC_weighted_max\", \"run_name\": \"StandardScalerWrapper, LightGBM\", \"run_properties\": \"<azureml.automl.runtime.shared.model_wrappers.StandardScalerWrapper object at 0x7f4baf895e48\", \"primary_metric\": 0.90436439, \"best_metric\": 0.90884512}, {\"run_id\": \"AutoML_8e0cfeea-91de-46df-830a-d6688538ce73_32\", \"run_number\": 37, \"metric\": null, \"status\": \"Completed\", \"run_type\": \"azureml.scriptrun\", \"training_percent\": \"100\", \"start_time\": \"2021-01-17T19:32:07.526087Z\", \"end_time\": \"2021-01-17T19:32:55.303261Z\", \"created_time\": \"2021-01-17T19:31:55.712631Z\", \"created_time_dt\": \"2021-01-17T19:31:55.712631Z\", \"duration\": \"0:00:59\", \"iteration\": \"32\", \"goal\": \"AUC_weighted_max\", \"run_name\": \"RobustScaler, LightGBM\", \"run_properties\": \"copy=True, quantile_range=[25, 75], with_centering=False,\\n             with_scaling=True\", \"primary_metric\": 0.90276124, \"best_metric\": 0.90884512}, {\"run_id\": \"AutoML_8e0cfeea-91de-46df-830a-d6688538ce73_33\", \"run_number\": 38, \"metric\": null, \"status\": \"Completed\", \"run_type\": \"azureml.scriptrun\", \"training_percent\": \"100\", \"start_time\": \"2021-01-17T19:32:32.172254Z\", \"end_time\": \"2021-01-17T19:33:52.740542Z\", \"created_time\": \"2021-01-17T19:32:18.75142Z\", \"created_time_dt\": \"2021-01-17T19:32:18.75142Z\", \"duration\": \"0:01:33\", \"iteration\": \"33\", \"goal\": \"AUC_weighted_max\", \"run_name\": \"MinMaxScaler, LightGBM\", \"run_properties\": \"copy=True, feature_range=(0, 1\", \"primary_metric\": 0.90848129, \"best_metric\": 0.90884512}, {\"run_id\": \"AutoML_8e0cfeea-91de-46df-830a-d6688538ce73_34\", \"run_number\": 39, \"metric\": null, \"status\": \"Completed\", \"run_type\": \"azureml.scriptrun\", \"training_percent\": \"100\", \"start_time\": \"2021-01-17T19:32:34.816867Z\", \"end_time\": \"2021-01-17T19:33:14.824209Z\", \"created_time\": \"2021-01-17T19:32:22.826934Z\", \"created_time_dt\": \"2021-01-17T19:32:22.826934Z\", \"duration\": \"0:00:51\", \"iteration\": \"34\", \"goal\": \"AUC_weighted_max\", \"run_name\": \"TruncatedSVDWrapper, XGBoostClassifier\", \"run_properties\": \"n_components=0.6531578947368422, random_state=None\", \"primary_metric\": 0.86157214, \"best_metric\": 0.90884512}, {\"run_id\": \"AutoML_8e0cfeea-91de-46df-830a-d6688538ce73_35\", \"run_number\": 40, \"metric\": null, \"status\": \"Completed\", \"run_type\": \"azureml.scriptrun\", \"training_percent\": \"100\", \"start_time\": \"2021-01-17T19:32:49.217881Z\", \"end_time\": \"2021-01-17T19:33:31.986804Z\", \"created_time\": \"2021-01-17T19:32:36.21808Z\", \"created_time_dt\": \"2021-01-17T19:32:36.21808Z\", \"duration\": \"0:00:55\", \"iteration\": \"35\", \"goal\": \"AUC_weighted_max\", \"run_name\": \"TruncatedSVDWrapper, XGBoostClassifier\", \"run_properties\": \"n_components=0.5542105263157895, random_state=None\", \"primary_metric\": 0.85051554, \"best_metric\": 0.90884512}, {\"run_id\": \"AutoML_8e0cfeea-91de-46df-830a-d6688538ce73_36\", \"run_number\": 41, \"metric\": null, \"status\": \"Completed\", \"run_type\": \"azureml.scriptrun\", \"training_percent\": \"100\", \"start_time\": \"2021-01-17T19:33:10.703406Z\", \"end_time\": \"2021-01-17T19:33:56.334533Z\", \"created_time\": \"2021-01-17T19:32:57.678513Z\", \"created_time_dt\": \"2021-01-17T19:32:57.678513Z\", \"duration\": \"0:00:58\", \"iteration\": \"36\", \"goal\": \"AUC_weighted_max\", \"run_name\": \"RobustScaler, RandomForest\", \"run_properties\": \"copy=True, quantile_range=[25, 75], with_centering=True,\\n             with_scaling=False\", \"primary_metric\": 0.90563838, \"best_metric\": 0.90884512}, {\"run_id\": \"AutoML_8e0cfeea-91de-46df-830a-d6688538ce73_37\", \"run_number\": 42, \"metric\": null, \"status\": \"Completed\", \"run_type\": \"azureml.scriptrun\", \"training_percent\": \"100\", \"start_time\": \"2021-01-17T19:33:30.489521Z\", \"end_time\": \"2021-01-17T19:34:14.039503Z\", \"created_time\": \"2021-01-17T19:33:17.341781Z\", \"created_time_dt\": \"2021-01-17T19:33:17.341781Z\", \"duration\": \"0:00:56\", \"iteration\": \"37\", \"goal\": \"AUC_weighted_max\", \"run_name\": \"StandardScalerWrapper, SVM\", \"run_properties\": \"<azureml.automl.runtime.shared.model_wrappers.StandardScalerWrapper object at 0x7efd5663e978\", \"primary_metric\": 0.86795982, \"best_metric\": 0.90884512}, {\"run_id\": \"AutoML_8e0cfeea-91de-46df-830a-d6688538ce73_38\", \"run_number\": 43, \"metric\": null, \"status\": \"Completed\", \"run_type\": \"azureml.scriptrun\", \"training_percent\": \"100\", \"start_time\": \"2021-01-17T19:33:46.021786Z\", \"end_time\": \"2021-01-17T19:34:25.83939Z\", \"created_time\": \"2021-01-17T19:33:34.25993Z\", \"created_time_dt\": \"2021-01-17T19:33:34.25993Z\", \"duration\": \"0:00:51\", \"iteration\": \"38\", \"goal\": \"AUC_weighted_max\", \"run_name\": \"StandardScalerWrapper, XGBoostClassifier\", \"run_properties\": \"<azureml.automl.runtime.shared.model_wrappers.StandardScalerWrapper object at 0x7ff32d49ca90\", \"primary_metric\": 0.90592286, \"best_metric\": 0.90884512}, {\"run_id\": \"AutoML_8e0cfeea-91de-46df-830a-d6688538ce73_39\", \"run_number\": 44, \"metric\": null, \"status\": \"Completed\", \"run_type\": \"azureml.scriptrun\", \"training_percent\": \"100\", \"start_time\": \"2021-01-17T19:34:05.963247Z\", \"end_time\": \"2021-01-17T19:34:47.732728Z\", \"created_time\": \"2021-01-17T19:33:55.143285Z\", \"created_time_dt\": \"2021-01-17T19:33:55.143285Z\", \"duration\": \"0:00:52\", \"iteration\": \"39\", \"goal\": \"AUC_weighted_max\", \"run_name\": \"StandardScalerWrapper, RandomForest\", \"run_properties\": \"<azureml.automl.runtime.shared.model_wrappers.StandardScalerWrapper object at 0x7fd7cec76e48\", \"primary_metric\": 0.91093368, \"best_metric\": 0.91093368}, {\"run_id\": \"AutoML_8e0cfeea-91de-46df-830a-d6688538ce73_40\", \"run_number\": 45, \"metric\": null, \"status\": \"Completed\", \"run_type\": \"azureml.scriptrun\", \"training_percent\": \"100\", \"start_time\": \"2021-01-17T19:34:11.843512Z\", \"end_time\": \"2021-01-17T19:34:49.047678Z\", \"created_time\": \"2021-01-17T19:34:00.247015Z\", \"created_time_dt\": \"2021-01-17T19:34:00.247015Z\", \"duration\": \"0:00:48\", \"iteration\": \"40\", \"goal\": \"AUC_weighted_max\", \"run_name\": \"StandardScalerWrapper, XGBoostClassifier\", \"run_properties\": \"<azureml.automl.runtime.shared.model_wrappers.StandardScalerWrapper object at 0x7f70790c2a58\", \"primary_metric\": 0.88185992, \"best_metric\": 0.91093368}, {\"run_id\": \"AutoML_8e0cfeea-91de-46df-830a-d6688538ce73_41\", \"run_number\": 46, \"metric\": null, \"status\": \"Completed\", \"run_type\": \"azureml.scriptrun\", \"training_percent\": \"100\", \"start_time\": \"2021-01-17T19:34:28.123407Z\", \"end_time\": \"2021-01-17T19:35:09.991434Z\", \"created_time\": \"2021-01-17T19:34:16.367837Z\", \"created_time_dt\": \"2021-01-17T19:34:16.367837Z\", \"duration\": \"0:00:53\", \"iteration\": \"41\", \"goal\": \"AUC_weighted_max\", \"run_name\": \"StandardScalerWrapper, XGBoostClassifier\", \"run_properties\": \"<azureml.automl.runtime.shared.model_wrappers.StandardScalerWrapper object at 0x7f715407eb00\", \"primary_metric\": 0.9006371, \"best_metric\": 0.91093368}, {\"run_id\": \"AutoML_8e0cfeea-91de-46df-830a-d6688538ce73_42\", \"run_number\": 47, \"metric\": null, \"status\": \"Completed\", \"run_type\": \"azureml.scriptrun\", \"training_percent\": \"100\", \"start_time\": \"2021-01-17T19:34:38.569754Z\", \"end_time\": \"2021-01-17T19:35:23.751655Z\", \"created_time\": \"2021-01-17T19:34:27.981239Z\", \"created_time_dt\": \"2021-01-17T19:34:27.981239Z\", \"duration\": \"0:00:55\", \"iteration\": \"42\", \"goal\": \"AUC_weighted_max\", \"run_name\": \"StandardScalerWrapper, XGBoostClassifier\", \"run_properties\": \"<azureml.automl.runtime.shared.model_wrappers.StandardScalerWrapper object at 0x7f8f261a5198\", \"primary_metric\": 0.90306844, \"best_metric\": 0.91093368}, {\"run_id\": \"AutoML_8e0cfeea-91de-46df-830a-d6688538ce73_43\", \"run_number\": 48, \"metric\": null, \"status\": \"Completed\", \"run_type\": \"azureml.scriptrun\", \"training_percent\": \"100\", \"start_time\": \"2021-01-17T19:35:02.738575Z\", \"end_time\": \"2021-01-17T19:35:42.676699Z\", \"created_time\": \"2021-01-17T19:34:50.013572Z\", \"created_time_dt\": \"2021-01-17T19:34:50.013572Z\", \"duration\": \"0:00:52\", \"iteration\": \"43\", \"goal\": \"AUC_weighted_max\", \"run_name\": \"MinMaxScaler, GradientBoosting\", \"run_properties\": \"copy=True, feature_range=(0, 1\", \"primary_metric\": 0.90695738, \"best_metric\": 0.91093368}, {\"run_id\": \"AutoML_8e0cfeea-91de-46df-830a-d6688538ce73_44\", \"run_number\": 49, \"metric\": null, \"status\": \"Completed\", \"run_type\": \"azureml.scriptrun\", \"training_percent\": \"100\", \"start_time\": \"2021-01-17T19:35:05.808487Z\", \"end_time\": \"2021-01-17T19:35:51.120813Z\", \"created_time\": \"2021-01-17T19:34:54.417474Z\", \"created_time_dt\": \"2021-01-17T19:34:54.417474Z\", \"duration\": \"0:00:56\", \"iteration\": \"44\", \"goal\": \"AUC_weighted_max\", \"run_name\": \"RobustScaler, GradientBoosting\", \"run_properties\": \"copy=True, quantile_range=[25, 75], with_centering=True,\\n             with_scaling=True\", \"primary_metric\": 0.91380816, \"best_metric\": 0.91380816}, {\"run_id\": \"AutoML_8e0cfeea-91de-46df-830a-d6688538ce73_45\", \"run_number\": 50, \"metric\": null, \"status\": \"Completed\", \"run_type\": \"azureml.scriptrun\", \"training_percent\": \"100\", \"start_time\": \"2021-01-17T19:35:23.465392Z\", \"end_time\": \"2021-01-17T19:36:05.170783Z\", \"created_time\": \"2021-01-17T19:35:12.99359Z\", \"created_time_dt\": \"2021-01-17T19:35:12.99359Z\", \"duration\": \"0:00:52\", \"iteration\": \"45\", \"goal\": \"AUC_weighted_max\", \"run_name\": \"RobustScaler, RandomForest\", \"run_properties\": \"copy=True, quantile_range=[10, 90], with_centering=False,\\n             with_scaling=True\", \"primary_metric\": 0.819092, \"best_metric\": 0.91380816}, {\"run_id\": \"AutoML_8e0cfeea-91de-46df-830a-d6688538ce73_46\", \"run_number\": 51, \"metric\": null, \"status\": \"Completed\", \"run_type\": \"azureml.scriptrun\", \"training_percent\": \"100\", \"start_time\": \"2021-01-17T19:35:37.567722Z\", \"end_time\": \"2021-01-17T19:36:28.471562Z\", \"created_time\": \"2021-01-17T19:35:26.455219Z\", \"created_time_dt\": \"2021-01-17T19:35:26.455219Z\", \"duration\": \"0:01:02\", \"iteration\": \"46\", \"goal\": \"AUC_weighted_max\", \"run_name\": \"RobustScaler, LightGBM\", \"run_properties\": \"copy=True, quantile_range=[25, 75], with_centering=True,\\n             with_scaling=True\", \"primary_metric\": 0.87690591, \"best_metric\": 0.91380816}, {\"run_id\": \"AutoML_8e0cfeea-91de-46df-830a-d6688538ce73_47\", \"run_number\": 52, \"metric\": null, \"status\": \"Completed\", \"run_type\": \"azureml.scriptrun\", \"training_percent\": \"100\", \"start_time\": \"2021-01-17T19:35:55.293594Z\", \"end_time\": \"2021-01-17T19:36:28.842577Z\", \"created_time\": \"2021-01-17T19:35:44.885479Z\", \"created_time_dt\": \"2021-01-17T19:35:44.885479Z\", \"duration\": \"0:00:43\", \"iteration\": \"47\", \"goal\": \"AUC_weighted_max\", \"run_name\": \"MaxAbsScaler, GradientBoosting\", \"run_properties\": \"copy=True\", \"primary_metric\": 0.90967854, \"best_metric\": 0.91380816}, {\"run_id\": \"AutoML_8e0cfeea-91de-46df-830a-d6688538ce73_48\", \"run_number\": 53, \"metric\": null, \"status\": \"Completed\", \"run_type\": \"azureml.scriptrun\", \"training_percent\": \"100\", \"start_time\": \"2021-01-17T19:36:12.064375Z\", \"end_time\": \"2021-01-17T19:37:19.771577Z\", \"created_time\": \"2021-01-17T19:35:53.310245Z\", \"created_time_dt\": \"2021-01-17T19:35:53.310245Z\", \"duration\": \"0:01:26\", \"iteration\": \"48\", \"goal\": \"AUC_weighted_max\", \"run_name\": \"MaxAbsScaler, LightGBM\", \"run_properties\": \"copy=True\", \"primary_metric\": 0.90683734, \"best_metric\": 0.91380816}, {\"run_id\": \"AutoML_8e0cfeea-91de-46df-830a-d6688538ce73_49\", \"run_number\": 54, \"metric\": null, \"status\": \"Completed\", \"run_type\": \"azureml.scriptrun\", \"training_percent\": \"100\", \"start_time\": \"2021-01-17T19:36:19.435863Z\", \"end_time\": \"2021-01-17T19:37:04.946436Z\", \"created_time\": \"2021-01-17T19:36:07.594602Z\", \"created_time_dt\": \"2021-01-17T19:36:07.594602Z\", \"duration\": \"0:00:57\", \"iteration\": \"49\", \"goal\": \"AUC_weighted_max\", \"run_name\": \"StandardScalerWrapper, XGBoostClassifier\", \"run_properties\": \"<azureml.automl.runtime.shared.model_wrappers.StandardScalerWrapper object at 0x7f774a8bbbe0\", \"primary_metric\": 0.87856429, \"best_metric\": 0.91380816}, {\"run_id\": \"AutoML_8e0cfeea-91de-46df-830a-d6688538ce73_50\", \"run_number\": 55, \"metric\": null, \"status\": \"Completed\", \"run_type\": \"azureml.scriptrun\", \"training_percent\": \"100\", \"start_time\": \"2021-01-17T19:36:44.763195Z\", \"end_time\": \"2021-01-17T19:37:24.647986Z\", \"created_time\": \"2021-01-17T19:36:32.38809Z\", \"created_time_dt\": \"2021-01-17T19:36:32.38809Z\", \"duration\": \"0:00:52\", \"iteration\": \"50\", \"goal\": \"AUC_weighted_max\", \"run_name\": \"MaxAbsScaler, GradientBoosting\", \"run_properties\": \"copy=True\", \"primary_metric\": 0.87412898, \"best_metric\": 0.91380816}, {\"run_id\": \"AutoML_8e0cfeea-91de-46df-830a-d6688538ce73_51\", \"run_number\": 56, \"metric\": null, \"status\": \"Completed\", \"run_type\": \"azureml.scriptrun\", \"training_percent\": \"100\", \"start_time\": \"2021-01-17T19:36:44.082727Z\", \"end_time\": \"2021-01-17T19:37:27.894634Z\", \"created_time\": \"2021-01-17T19:36:32.399102Z\", \"created_time_dt\": \"2021-01-17T19:36:32.399102Z\", \"duration\": \"0:00:55\", \"iteration\": \"51\", \"goal\": \"AUC_weighted_max\", \"run_name\": \"StandardScalerWrapper, XGBoostClassifier\", \"run_properties\": \"<azureml.automl.runtime.shared.model_wrappers.StandardScalerWrapper object at 0x7f492848dac8\", \"primary_metric\": 0.89451838, \"best_metric\": 0.91380816}, {\"run_id\": \"AutoML_8e0cfeea-91de-46df-830a-d6688538ce73_52\", \"run_number\": 57, \"metric\": null, \"status\": \"Completed\", \"run_type\": \"azureml.scriptrun\", \"training_percent\": \"100\", \"start_time\": \"2021-01-17T19:37:28.101522Z\", \"end_time\": \"2021-01-17T19:38:08.05014Z\", \"created_time\": \"2021-01-17T19:37:07.631617Z\", \"created_time_dt\": \"2021-01-17T19:37:07.631617Z\", \"duration\": \"0:01:00\", \"iteration\": \"52\", \"goal\": \"AUC_weighted_max\", \"run_name\": \"StandardScalerWrapper, GradientBoosting\", \"run_properties\": \"<azureml.automl.runtime.shared.model_wrappers.StandardScalerWrapper object at 0x7f7ade5c5d30\", \"primary_metric\": 0.91010382, \"best_metric\": 0.91380816}, {\"run_id\": \"AutoML_8e0cfeea-91de-46df-830a-d6688538ce73_53\", \"run_number\": 58, \"metric\": null, \"status\": \"Completed\", \"run_type\": \"azureml.scriptrun\", \"training_percent\": \"100\", \"start_time\": \"2021-01-17T19:37:47.669618Z\", \"end_time\": \"2021-01-17T19:38:30.456948Z\", \"created_time\": \"2021-01-17T19:37:22.185858Z\", \"created_time_dt\": \"2021-01-17T19:37:22.185858Z\", \"duration\": \"0:01:08\", \"iteration\": \"53\", \"goal\": \"AUC_weighted_max\", \"run_name\": \"StandardScalerWrapper, XGBoostClassifier\", \"run_properties\": \"<azureml.automl.runtime.shared.model_wrappers.StandardScalerWrapper object at 0x7f8390057550\", \"primary_metric\": 0.90831462, \"best_metric\": 0.91380816}, {\"run_id\": \"AutoML_8e0cfeea-91de-46df-830a-d6688538ce73_55\", \"run_number\": 59, \"metric\": null, \"status\": \"Completed\", \"run_type\": \"azureml.scriptrun\", \"training_percent\": \"100\", \"start_time\": \"2021-01-17T19:37:53.740847Z\", \"end_time\": \"2021-01-17T19:38:48.159908Z\", \"created_time\": \"2021-01-17T19:37:41.995528Z\", \"created_time_dt\": \"2021-01-17T19:37:41.995528Z\", \"duration\": \"0:01:06\", \"iteration\": \"55\", \"goal\": \"AUC_weighted_max\", \"run_name\": \"StandardScalerWrapper, XGBoostClassifier\", \"run_properties\": \"<azureml.automl.runtime.shared.model_wrappers.StandardScalerWrapper object at 0x7f0fd1560080\", \"primary_metric\": 0.90026781, \"best_metric\": 0.91380816}, {\"run_id\": \"AutoML_8e0cfeea-91de-46df-830a-d6688538ce73_54\", \"run_number\": 60, \"metric\": null, \"status\": \"Completed\", \"run_type\": \"azureml.scriptrun\", \"training_percent\": \"100\", \"start_time\": \"2021-01-17T19:37:54.386875Z\", \"end_time\": \"2021-01-17T19:38:34.286493Z\", \"created_time\": \"2021-01-17T19:37:42.222272Z\", \"created_time_dt\": \"2021-01-17T19:37:42.222272Z\", \"duration\": \"0:00:52\", \"iteration\": \"54\", \"goal\": \"AUC_weighted_max\", \"run_name\": \"StandardScalerWrapper, GradientBoosting\", \"run_properties\": \"<azureml.automl.runtime.shared.model_wrappers.StandardScalerWrapper object at 0x7f36bb13f198\", \"primary_metric\": 0.89462606, \"best_metric\": 0.91380816}, {\"run_id\": \"AutoML_8e0cfeea-91de-46df-830a-d6688538ce73_56\", \"run_number\": 61, \"metric\": null, \"status\": \"Completed\", \"run_type\": \"azureml.scriptrun\", \"training_percent\": \"100\", \"start_time\": \"2021-01-17T19:38:22.996265Z\", \"end_time\": \"2021-01-17T19:39:01.960967Z\", \"created_time\": \"2021-01-17T19:38:12.394644Z\", \"created_time_dt\": \"2021-01-17T19:38:12.394644Z\", \"duration\": \"0:00:49\", \"iteration\": \"56\", \"goal\": \"AUC_weighted_max\", \"run_name\": \"StandardScalerWrapper, XGBoostClassifier\", \"run_properties\": \"<azureml.automl.runtime.shared.model_wrappers.StandardScalerWrapper object at 0x7fa038731048\", \"primary_metric\": 0.89727803, \"best_metric\": 0.91380816}, {\"run_id\": \"AutoML_8e0cfeea-91de-46df-830a-d6688538ce73_57\", \"run_number\": 62, \"metric\": null, \"status\": \"Completed\", \"run_type\": \"azureml.scriptrun\", \"training_percent\": \"100\", \"start_time\": \"2021-01-17T19:38:45.510903Z\", \"end_time\": \"2021-01-17T19:39:27.229404Z\", \"created_time\": \"2021-01-17T19:38:32.706725Z\", \"created_time_dt\": \"2021-01-17T19:38:32.706725Z\", \"duration\": \"0:00:54\", \"iteration\": \"57\", \"goal\": \"AUC_weighted_max\", \"run_name\": \"StandardScalerWrapper, SVM\", \"run_properties\": \"<azureml.automl.runtime.shared.model_wrappers.StandardScalerWrapper object at 0x7fc4e63a06a0\", \"primary_metric\": 0.87594832, \"best_metric\": 0.91380816}, {\"run_id\": \"AutoML_8e0cfeea-91de-46df-830a-d6688538ce73_58\", \"run_number\": 63, \"metric\": null, \"status\": \"Canceled\", \"run_type\": \"azureml.scriptrun\", \"training_percent\": \"100\", \"start_time\": \"2021-01-17T19:38:49.413428Z\", \"end_time\": \"2021-01-17T19:39:36.29164Z\", \"created_time\": \"2021-01-17T19:38:39.424658Z\", \"created_time_dt\": \"2021-01-17T19:38:39.424658Z\", \"duration\": \"0:00:56\", \"iteration\": \"58\", \"goal\": \"AUC_weighted_max\", \"run_name\": \"StandardScalerWrapper, GradientBoosting\", \"run_properties\": \"<azureml.automl.runtime.shared.model_wrappers.StandardScalerWrapper object at 0x7f1b3ee8e9b0\", \"primary_metric\": 0.8835688, \"best_metric\": 0.91380816}, {\"run_id\": \"AutoML_8e0cfeea-91de-46df-830a-d6688538ce73_59\", \"run_number\": 64, \"metric\": null, \"status\": \"Canceled\", \"run_type\": \"azureml.scriptrun\", \"training_percent\": \"100\", \"start_time\": \"2021-01-17T19:39:02.940836Z\", \"end_time\": \"2021-01-17T19:39:34.644011Z\", \"created_time\": \"2021-01-17T19:38:50.526177Z\", \"created_time_dt\": \"2021-01-17T19:38:50.526177Z\", \"duration\": \"0:00:44\", \"iteration\": \"59\", \"goal\": \"AUC_weighted_max\", \"run_name\": \"StandardScalerWrapper, XGBoostClassifier\", \"run_properties\": \"<azureml.automl.runtime.shared.model_wrappers.StandardScalerWrapper object at 0x7fbcdc250b00\", \"primary_metric\": 0.89285062, \"best_metric\": 0.91380816}, {\"run_id\": \"AutoML_8e0cfeea-91de-46df-830a-d6688538ce73_60\", \"run_number\": 65, \"metric\": null, \"status\": \"Canceled\", \"run_type\": \"azureml.scriptrun\", \"training_percent\": \"100\", \"start_time\": \"2021-01-17T19:39:18.487437Z\", \"end_time\": \"2021-01-17T19:39:35.361811Z\", \"created_time\": \"2021-01-17T19:39:05.047395Z\", \"created_time_dt\": \"2021-01-17T19:39:05.047395Z\", \"duration\": \"0:00:30\", \"iteration\": \"60\", \"goal\": null, \"run_name\": \"Canceled\", \"run_properties\": null}, {\"run_id\": \"AutoML_8e0cfeea-91de-46df-830a-d6688538ce73_61\", \"run_number\": 66, \"metric\": null, \"status\": \"Completed\", \"run_type\": \"azureml.scriptrun\", \"training_percent\": \"100\", \"start_time\": \"2021-01-17T19:39:49.98387Z\", \"end_time\": \"2021-01-17T19:42:13.450534Z\", \"created_time\": \"2021-01-17T19:39:37.351141Z\", \"created_time_dt\": \"2021-01-17T19:39:37.351141Z\", \"duration\": \"0:02:36\", \"iteration\": \"61\", \"goal\": \"AUC_weighted_max\", \"run_name\": \"VotingEnsemble\", \"run_properties\": \"classification_labels=None,\\n                              estimators=[('44',\\n                                           Pipeline(memory=None,\\n                                                    steps=[('robustscaler',\\n                                                            RobustScaler(copy=True,\\n                                                                         quantile_range=[25,\\n                                                                                         75],\\n                                                                         with_centering=True,\\n                                                                         with_scaling=True\", \"primary_metric\": 0.92204111, \"best_metric\": 0.92204111}, {\"run_id\": \"AutoML_8e0cfeea-91de-46df-830a-d6688538ce73_62\", \"run_number\": 67, \"metric\": null, \"status\": \"Completed\", \"run_type\": \"azureml.scriptrun\", \"training_percent\": \"100\", \"start_time\": \"2021-01-17T19:39:50.542525Z\", \"end_time\": \"2021-01-17T19:42:13.411815Z\", \"created_time\": \"2021-01-17T19:39:37.575922Z\", \"created_time_dt\": \"2021-01-17T19:39:37.575922Z\", \"duration\": \"0:02:35\", \"iteration\": \"62\", \"goal\": \"AUC_weighted_max\", \"run_name\": \"StackEnsemble\", \"run_properties\": \"base_learners=[('44',\\n                                        Pipeline(memory=None,\\n                                                 steps=[('robustscaler',\\n                                                         RobustScaler(copy=True,\\n                                                                      quantile_range=[25,\\n                                                                                      75],\\n                                                                      with_centering=True,\\n                                                                      with_scaling=True\", \"primary_metric\": 0.91571493, \"best_metric\": 0.92204111}], \"children_metrics\": {\"categories\": [0], \"series\": {\"f1_score_weighted\": [{\"categories\": [\"0\", \"1\", \"2\", \"3\", \"4\", \"5\", \"6\", \"7\", \"8\", \"9\", \"10\", \"11\", \"12\", \"13\", \"14\", \"15\", \"16\", \"17\", \"18\", \"19\", \"20\", \"21\", \"22\", \"23\", \"24\", \"25\", \"26\", \"27\", \"28\", \"29\", \"30\", \"31\", \"32\", \"33\", \"34\", \"35\", \"36\", \"37\", \"38\", \"39\", \"40\", \"41\", \"42\", \"43\", \"44\", \"45\", \"46\", \"47\", \"48\", \"49\", \"50\", \"51\", \"52\", \"53\", \"54\", \"55\", \"56\", \"57\", \"58\", \"59\", \"61\", \"62\"], \"mode\": \"markers\", \"name\": \"f1_score_weighted\", \"stepped\": false, \"type\": \"scatter\", \"data\": [0.8333388901455894, 0.811006196596899, 0.8438206882796988, 0.7823643625672319, 0.8305693922099711, 0.8360068036910849, 0.8159946201557954, 0.8331465528996617, 0.7698088259436704, 0.743922190318357, 0.7477970435693406, 0.829972723541597, 0.8123979970291195, 0.8190519819982247, 0.8180589897416762, 0.6071892452709331, 0.7690727392565672, 0.7661858068063172, 0.7946607272521669, 0.8286303534696773, 0.8129596514338793, 0.8194750879140397, 0.8251179971855713, 0.8256725520666827, 0.8295971529506587, 0.6669479611627185, 0.8296960294782156, 0.7506775442437094, 0.835027477698949, 0.8461182083133962, 0.8374738099881318, 0.8452347862926761, 0.8447868472603334, 0.8388073557672495, 0.7569858484504591, 0.7875543369538505, 0.8272397289610947, 0.8049568242533294, 0.8416231404266155, 0.8479702215609262, 0.8197833850853262, 0.8354378766013054, 0.8575980384842661, 0.8468886762556955, 0.851796576483904, 0.7637309802108916, 0.7889234203808877, 0.8391572479268277, 0.8357838287046724, 0.8339449477302766, 0.5534120288954022, 0.8345117347762402, 0.8503830544252702, 0.8455689459388769, 0.5534120288954022, 0.8322775869455313, 0.8402116449136636, 0.84115501972882, 0.8370306474075239, 0.8232651329883064, 0.8479011547872298, 0.7772724505670283]}, {\"categories\": [\"0\", \"1\", \"2\", \"3\", \"4\", \"5\", \"6\", \"7\", \"8\", \"9\", \"10\", \"11\", \"12\", \"13\", \"14\", \"15\", \"16\", \"17\", \"18\", \"19\", \"20\", \"21\", \"22\", \"23\", \"24\", \"25\", \"26\", \"27\", \"28\", \"29\", \"30\", \"31\", \"32\", \"33\", \"34\", \"35\", \"36\", \"37\", \"38\", \"39\", \"40\", \"41\", \"42\", \"43\", \"44\", \"45\", \"46\", \"47\", \"48\", \"49\", \"50\", \"51\", \"52\", \"53\", \"54\", \"55\", \"56\", \"57\", \"58\", \"59\", \"61\", \"62\"], \"mode\": \"lines\", \"name\": \"f1_score_weighted_max\", \"stepped\": true, \"type\": \"scatter\", \"data\": [0.8333388901455894, 0.8333388901455894, 0.8438206882796988, 0.8438206882796988, 0.8438206882796988, 0.8438206882796988, 0.8438206882796988, 0.8438206882796988, 0.8438206882796988, 0.8438206882796988, 0.8438206882796988, 0.8438206882796988, 0.8438206882796988, 0.8438206882796988, 0.8438206882796988, 0.8438206882796988, 0.8438206882796988, 0.8438206882796988, 0.8438206882796988, 0.8438206882796988, 0.8438206882796988, 0.8438206882796988, 0.8438206882796988, 0.8438206882796988, 0.8438206882796988, 0.8438206882796988, 0.8438206882796988, 0.8438206882796988, 0.8438206882796988, 0.8461182083133962, 0.8461182083133962, 0.8461182083133962, 0.8461182083133962, 0.8461182083133962, 0.8461182083133962, 0.8461182083133962, 0.8461182083133962, 0.8461182083133962, 0.8461182083133962, 0.8479702215609262, 0.8479702215609262, 0.8479702215609262, 0.8575980384842661, 0.8575980384842661, 0.8575980384842661, 0.8575980384842661, 0.8575980384842661, 0.8575980384842661, 0.8575980384842661, 0.8575980384842661, 0.8575980384842661, 0.8575980384842661, 0.8575980384842661, 0.8575980384842661, 0.8575980384842661, 0.8575980384842661, 0.8575980384842661, 0.8575980384842661, 0.8575980384842661, 0.8575980384842661, 0.8575980384842661, 0.8575980384842661]}], \"average_precision_score_weighted\": [{\"categories\": [\"0\", \"1\", \"2\", \"3\", \"4\", \"5\", \"6\", \"7\", \"8\", \"9\", \"10\", \"11\", \"12\", \"13\", \"14\", \"15\", \"16\", \"17\", \"18\", \"19\", \"20\", \"21\", \"22\", \"23\", \"24\", \"25\", \"26\", \"27\", \"28\", \"29\", \"30\", \"31\", \"32\", \"33\", \"34\", \"35\", \"36\", \"37\", \"38\", \"39\", \"40\", \"41\", \"42\", \"43\", \"44\", \"45\", \"46\", \"47\", \"48\", \"49\", \"50\", \"51\", \"52\", \"53\", \"54\", \"55\", \"56\", \"57\", \"58\", \"59\", \"61\", \"62\"], \"mode\": \"markers\", \"name\": \"average_precision_score_weighted\", \"stepped\": false, \"type\": \"scatter\", \"data\": [0.9079110344385022, 0.918427293267572, 0.9069380454900771, 0.8988481016894008, 0.9179897962606421, 0.9089222679152826, 0.8941769410236284, 0.9170201802442, 0.8880894994613342, 0.7960613547349917, 0.8872795313400788, 0.9100780262304304, 0.9230544838987862, 0.8925291342929274, 0.9222203086857196, 0.6358285919365991, 0.9023028989768953, 0.851784690591395, 0.9022016456176898, 0.9122308006964222, 0.8987604815716665, 0.8801756853666924, 0.8988318388568052, 0.9174711201488023, 0.9179849369921562, 0.7884088235554266, 0.9121157735081666, 0.9049099675275242, 0.9246288212491791, 0.9189471562816666, 0.8946194665137019, 0.9224133805996548, 0.9192099018708004, 0.9262830568448503, 0.8852495040471613, 0.8707751326334325, 0.9232202535491523, 0.8912612212099471, 0.9248938798783147, 0.926594133074343, 0.8830473578380081, 0.9187682393438571, 0.9219535990397896, 0.9228368061357534, 0.9300945668470797, 0.8319708809959, 0.8994356084673661, 0.9288255820340726, 0.9250361838997432, 0.8685011022455627, 0.8869682340555232, 0.914914404010305, 0.9250114008010957, 0.9209452727964955, 0.9149187075404166, 0.9184841472382214, 0.9161937533401968, 0.8986729408018869, 0.9101036932583174, 0.9021849119356888, 0.9376178969728153, 0.9328336717027401]}, {\"categories\": [\"0\", \"1\", \"2\", \"3\", \"4\", \"5\", \"6\", \"7\", \"8\", \"9\", \"10\", \"11\", \"12\", \"13\", \"14\", \"15\", \"16\", \"17\", \"18\", \"19\", \"20\", \"21\", \"22\", \"23\", \"24\", \"25\", \"26\", \"27\", \"28\", \"29\", \"30\", \"31\", \"32\", \"33\", \"34\", \"35\", \"36\", \"37\", \"38\", \"39\", \"40\", \"41\", \"42\", \"43\", \"44\", \"45\", \"46\", \"47\", \"48\", \"49\", \"50\", \"51\", \"52\", \"53\", \"54\", \"55\", \"56\", \"57\", \"58\", \"59\", \"61\", \"62\"], \"mode\": \"lines\", \"name\": \"average_precision_score_weighted_max\", \"stepped\": true, \"type\": \"scatter\", \"data\": [0.9079110344385022, 0.918427293267572, 0.918427293267572, 0.918427293267572, 0.918427293267572, 0.918427293267572, 0.918427293267572, 0.918427293267572, 0.918427293267572, 0.918427293267572, 0.918427293267572, 0.918427293267572, 0.9230544838987862, 0.9230544838987862, 0.9230544838987862, 0.9230544838987862, 0.9230544838987862, 0.9230544838987862, 0.9230544838987862, 0.9230544838987862, 0.9230544838987862, 0.9230544838987862, 0.9230544838987862, 0.9230544838987862, 0.9230544838987862, 0.9230544838987862, 0.9230544838987862, 0.9230544838987862, 0.9246288212491791, 0.9246288212491791, 0.9246288212491791, 0.9246288212491791, 0.9246288212491791, 0.9262830568448503, 0.9262830568448503, 0.9262830568448503, 0.9262830568448503, 0.9262830568448503, 0.9262830568448503, 0.926594133074343, 0.926594133074343, 0.926594133074343, 0.926594133074343, 0.926594133074343, 0.9300945668470797, 0.9300945668470797, 0.9300945668470797, 0.9300945668470797, 0.9300945668470797, 0.9300945668470797, 0.9300945668470797, 0.9300945668470797, 0.9300945668470797, 0.9300945668470797, 0.9300945668470797, 0.9300945668470797, 0.9300945668470797, 0.9300945668470797, 0.9300945668470797, 0.9300945668470797, 0.9376178969728153, 0.9376178969728153]}], \"recall_score_weighted\": [{\"categories\": [\"0\", \"1\", \"2\", \"3\", \"4\", \"5\", \"6\", \"7\", \"8\", \"9\", \"10\", \"11\", \"12\", \"13\", \"14\", \"15\", \"16\", \"17\", \"18\", \"19\", \"20\", \"21\", \"22\", \"23\", \"24\", \"25\", \"26\", \"27\", \"28\", \"29\", \"30\", \"31\", \"32\", \"33\", \"34\", \"35\", \"36\", \"37\", \"38\", \"39\", \"40\", \"41\", \"42\", \"43\", \"44\", \"45\", \"46\", \"47\", \"48\", \"49\", \"50\", \"51\", \"52\", \"53\", \"54\", \"55\", \"56\", \"57\", \"58\", \"59\", \"61\", \"62\"], \"mode\": \"markers\", \"name\": \"recall_score_weighted\", \"stepped\": false, \"type\": \"scatter\", \"data\": [0.8359770114942527, 0.8126436781609195, 0.8460919540229886, 0.8027586206896553, 0.8291954022988504, 0.8428735632183908, 0.815632183908046, 0.8428735632183908, 0.7927586206896551, 0.7659770114942528, 0.7759770114942529, 0.8393103448275863, 0.8056321839080459, 0.822528735632184, 0.8158620689655172, 0.6389655172413793, 0.7960919540229885, 0.7622988505747127, 0.7889655172413793, 0.8326436781609197, 0.8157471264367816, 0.8157471264367817, 0.8258620689655173, 0.8258620689655173, 0.8291954022988506, 0.6954022988505747, 0.8394252873563218, 0.7859770114942529, 0.8358620689655172, 0.8493103448275863, 0.8426436781609195, 0.8493103448275863, 0.8494252873563217, 0.8426436781609195, 0.7724137931034483, 0.7987356321839081, 0.8224137931034482, 0.8093103448275862, 0.8427586206896553, 0.8528735632183908, 0.8294252873563218, 0.8358620689655172, 0.8591954022988506, 0.849310344827586, 0.8562068965517243, 0.7588505747126437, 0.799080459770115, 0.8463218390804597, 0.8391954022988506, 0.8393103448275863, 0.6791954022988507, 0.835977011494253, 0.8526436781609196, 0.8494252873563217, 0.6791954022988507, 0.8360919540229885, 0.8427586206896551, 0.8426436781609195, 0.839080459770115, 0.8293103448275861, 0.8493103448275863, 0.8094252873563219]}, {\"categories\": [\"0\", \"1\", \"2\", \"3\", \"4\", \"5\", \"6\", \"7\", \"8\", \"9\", \"10\", \"11\", \"12\", \"13\", \"14\", \"15\", \"16\", \"17\", \"18\", \"19\", \"20\", \"21\", \"22\", \"23\", \"24\", \"25\", \"26\", \"27\", \"28\", \"29\", \"30\", \"31\", \"32\", \"33\", \"34\", \"35\", \"36\", \"37\", \"38\", \"39\", \"40\", \"41\", \"42\", \"43\", \"44\", \"45\", \"46\", \"47\", \"48\", \"49\", \"50\", \"51\", \"52\", \"53\", \"54\", \"55\", \"56\", \"57\", \"58\", \"59\", \"61\", \"62\"], \"mode\": \"lines\", \"name\": \"recall_score_weighted_max\", \"stepped\": true, \"type\": \"scatter\", \"data\": [0.8359770114942527, 0.8359770114942527, 0.8460919540229886, 0.8460919540229886, 0.8460919540229886, 0.8460919540229886, 0.8460919540229886, 0.8460919540229886, 0.8460919540229886, 0.8460919540229886, 0.8460919540229886, 0.8460919540229886, 0.8460919540229886, 0.8460919540229886, 0.8460919540229886, 0.8460919540229886, 0.8460919540229886, 0.8460919540229886, 0.8460919540229886, 0.8460919540229886, 0.8460919540229886, 0.8460919540229886, 0.8460919540229886, 0.8460919540229886, 0.8460919540229886, 0.8460919540229886, 0.8460919540229886, 0.8460919540229886, 0.8460919540229886, 0.8493103448275863, 0.8493103448275863, 0.8493103448275863, 0.8494252873563217, 0.8494252873563217, 0.8494252873563217, 0.8494252873563217, 0.8494252873563217, 0.8494252873563217, 0.8494252873563217, 0.8528735632183908, 0.8528735632183908, 0.8528735632183908, 0.8591954022988506, 0.8591954022988506, 0.8591954022988506, 0.8591954022988506, 0.8591954022988506, 0.8591954022988506, 0.8591954022988506, 0.8591954022988506, 0.8591954022988506, 0.8591954022988506, 0.8591954022988506, 0.8591954022988506, 0.8591954022988506, 0.8591954022988506, 0.8591954022988506, 0.8591954022988506, 0.8591954022988506, 0.8591954022988506, 0.8591954022988506, 0.8591954022988506]}], \"AUC_weighted\": [{\"categories\": [\"0\", \"1\", \"2\", \"3\", \"4\", \"5\", \"6\", \"7\", \"8\", \"9\", \"10\", \"11\", \"12\", \"13\", \"14\", \"15\", \"16\", \"17\", \"18\", \"19\", \"20\", \"21\", \"22\", \"23\", \"24\", \"25\", \"26\", \"27\", \"28\", \"29\", \"30\", \"31\", \"32\", \"33\", \"34\", \"35\", \"36\", \"37\", \"38\", \"39\", \"40\", \"41\", \"42\", \"43\", \"44\", \"45\", \"46\", \"47\", \"48\", \"49\", \"50\", \"51\", \"52\", \"53\", \"54\", \"55\", \"56\", \"57\", \"58\", \"59\", \"61\", \"62\"], \"mode\": \"markers\", \"name\": \"AUC_weighted\", \"stepped\": false, \"type\": \"scatter\", \"data\": [0.886378309960232, 0.8996277104156969, 0.8956891149976389, 0.8787365634661974, 0.8985114408220817, 0.8891994112422029, 0.8773787217549802, 0.9020312173164576, 0.8633515397243657, 0.7496161006793443, 0.869981661443904, 0.8920377424952367, 0.905827624149306, 0.869630741599277, 0.8953977790875959, 0.5203053263648802, 0.8821097081471796, 0.8096555802384751, 0.8797456960363139, 0.9025291817598454, 0.886266720504049, 0.859187865194387, 0.8721198277589011, 0.9031503854057631, 0.8992725276905483, 0.7800845695018178, 0.89068981946522, 0.8840300304175018, 0.9088451194686321, 0.8994081060413441, 0.8861797787452822, 0.9043643887936795, 0.9027612445694825, 0.9084812944471412, 0.8615721364236238, 0.8505155403055287, 0.905638378500049, 0.8679598190964896, 0.9059228615566145, 0.9109336757022112, 0.8818599221621248, 0.9006370979050613, 0.9030684361595689, 0.9069573809909051, 0.9138081576911097, 0.8190920047291043, 0.8769059139944723, 0.9096785356562245, 0.906837338020061, 0.878564290942552, 0.8741289770044347, 0.8945183843171829, 0.9101038203215548, 0.9083146170762877, 0.8946260608014326, 0.9002678064837102, 0.897278025597591, 0.8759483215339621, 0.8835687964696547, 0.892850618820327, 0.922041107930124, 0.9157149334689381]}, {\"categories\": [\"0\", \"1\", \"2\", \"3\", \"4\", \"5\", \"6\", \"7\", \"8\", \"9\", \"10\", \"11\", \"12\", \"13\", \"14\", \"15\", \"16\", \"17\", \"18\", \"19\", \"20\", \"21\", \"22\", \"23\", \"24\", \"25\", \"26\", \"27\", \"28\", \"29\", \"30\", \"31\", \"32\", \"33\", \"34\", \"35\", \"36\", \"37\", \"38\", \"39\", \"40\", \"41\", \"42\", \"43\", \"44\", \"45\", \"46\", \"47\", \"48\", \"49\", \"50\", \"51\", \"52\", \"53\", \"54\", \"55\", \"56\", \"57\", \"58\", \"59\", \"61\", \"62\"], \"mode\": \"lines\", \"name\": \"AUC_weighted_max\", \"stepped\": true, \"type\": \"scatter\", \"data\": [0.886378309960232, 0.8996277104156969, 0.8996277104156969, 0.8996277104156969, 0.8996277104156969, 0.8996277104156969, 0.8996277104156969, 0.9020312173164576, 0.9020312173164576, 0.9020312173164576, 0.9020312173164576, 0.9020312173164576, 0.905827624149306, 0.905827624149306, 0.905827624149306, 0.905827624149306, 0.905827624149306, 0.905827624149306, 0.905827624149306, 0.905827624149306, 0.905827624149306, 0.905827624149306, 0.905827624149306, 0.905827624149306, 0.905827624149306, 0.905827624149306, 0.905827624149306, 0.905827624149306, 0.9088451194686321, 0.9088451194686321, 0.9088451194686321, 0.9088451194686321, 0.9088451194686321, 0.9088451194686321, 0.9088451194686321, 0.9088451194686321, 0.9088451194686321, 0.9088451194686321, 0.9088451194686321, 0.9109336757022112, 0.9109336757022112, 0.9109336757022112, 0.9109336757022112, 0.9109336757022112, 0.9138081576911097, 0.9138081576911097, 0.9138081576911097, 0.9138081576911097, 0.9138081576911097, 0.9138081576911097, 0.9138081576911097, 0.9138081576911097, 0.9138081576911097, 0.9138081576911097, 0.9138081576911097, 0.9138081576911097, 0.9138081576911097, 0.9138081576911097, 0.9138081576911097, 0.9138081576911097, 0.922041107930124, 0.922041107930124]}], \"precision_score_weighted\": [{\"categories\": [\"0\", \"1\", \"2\", \"3\", \"4\", \"5\", \"6\", \"7\", \"8\", \"9\", \"10\", \"11\", \"12\", \"13\", \"14\", \"15\", \"16\", \"17\", \"18\", \"19\", \"20\", \"21\", \"22\", \"23\", \"24\", \"25\", \"26\", \"27\", \"28\", \"29\", \"30\", \"31\", \"32\", \"33\", \"34\", \"35\", \"36\", \"37\", \"38\", \"39\", \"40\", \"41\", \"42\", \"43\", \"44\", \"45\", \"46\", \"47\", \"48\", \"49\", \"50\", \"51\", \"52\", \"53\", \"54\", \"55\", \"56\", \"57\", \"58\", \"59\", \"61\", \"62\"], \"mode\": \"markers\", \"name\": \"precision_score_weighted\", \"stepped\": false, \"type\": \"scatter\", \"data\": [0.8443308716969533, 0.8310647949075513, 0.8559250484786467, 0.8257597275741453, 0.8486249603633104, 0.8565109427084072, 0.8290793832881539, 0.8585988471881274, 0.8169222292182063, 0.7837569262377359, 0.787015755400688, 0.851562677752033, 0.8428871885955797, 0.8438501419573876, 0.8468804337341089, 0.6261394969463244, 0.8279222577975451, 0.7988447782562019, 0.8230724464261465, 0.8441297343752368, 0.8305435932143622, 0.8359639540461042, 0.839757569856214, 0.844055831467573, 0.8457632661897136, 0.691368788833336, 0.8554446957436858, 0.8216576193283089, 0.851411777877295, 0.8628267304027952, 0.8529427819981557, 0.8626772368869335, 0.8638677967268936, 0.8559572199205399, 0.7811888563821097, 0.8183090507175464, 0.8454872607351713, 0.8277173498608578, 0.8604151098009891, 0.8614370358110988, 0.8397088428729358, 0.8520107579443058, 0.8724732807866241, 0.8623937147587822, 0.8736826893334786, 0.7864455066174667, 0.8121001474787082, 0.860947304594456, 0.8604566276866377, 0.8505855838314608, 0.47055053507728895, 0.8560093649038443, 0.865268954736196, 0.8615433987747464, 0.47055053507728895, 0.8473585377420593, 0.8568572827938397, 0.8577946809423572, 0.853007996001999, 0.8410063599152805, 0.8606215739035212, 0.7680893937951658]}, {\"categories\": [\"0\", \"1\", \"2\", \"3\", \"4\", \"5\", \"6\", \"7\", \"8\", \"9\", \"10\", \"11\", \"12\", \"13\", \"14\", \"15\", \"16\", \"17\", \"18\", \"19\", \"20\", \"21\", \"22\", \"23\", \"24\", \"25\", \"26\", \"27\", \"28\", \"29\", \"30\", \"31\", \"32\", \"33\", \"34\", \"35\", \"36\", \"37\", \"38\", \"39\", \"40\", \"41\", \"42\", \"43\", \"44\", \"45\", \"46\", \"47\", \"48\", \"49\", \"50\", \"51\", \"52\", \"53\", \"54\", \"55\", \"56\", \"57\", \"58\", \"59\", \"61\", \"62\"], \"mode\": \"lines\", \"name\": \"precision_score_weighted_max\", \"stepped\": true, \"type\": \"scatter\", \"data\": [0.8443308716969533, 0.8443308716969533, 0.8559250484786467, 0.8559250484786467, 0.8559250484786467, 0.8565109427084072, 0.8565109427084072, 0.8585988471881274, 0.8585988471881274, 0.8585988471881274, 0.8585988471881274, 0.8585988471881274, 0.8585988471881274, 0.8585988471881274, 0.8585988471881274, 0.8585988471881274, 0.8585988471881274, 0.8585988471881274, 0.8585988471881274, 0.8585988471881274, 0.8585988471881274, 0.8585988471881274, 0.8585988471881274, 0.8585988471881274, 0.8585988471881274, 0.8585988471881274, 0.8585988471881274, 0.8585988471881274, 0.8585988471881274, 0.8628267304027952, 0.8628267304027952, 0.8628267304027952, 0.8638677967268936, 0.8638677967268936, 0.8638677967268936, 0.8638677967268936, 0.8638677967268936, 0.8638677967268936, 0.8638677967268936, 0.8638677967268936, 0.8638677967268936, 0.8638677967268936, 0.8724732807866241, 0.8724732807866241, 0.8736826893334786, 0.8736826893334786, 0.8736826893334786, 0.8736826893334786, 0.8736826893334786, 0.8736826893334786, 0.8736826893334786, 0.8736826893334786, 0.8736826893334786, 0.8736826893334786, 0.8736826893334786, 0.8736826893334786, 0.8736826893334786, 0.8736826893334786, 0.8736826893334786, 0.8736826893334786, 0.8736826893334786, 0.8736826893334786]}], \"norm_macro_recall\": [{\"categories\": [\"0\", \"1\", \"2\", \"3\", \"4\", \"5\", \"6\", \"7\", \"8\", \"9\", \"10\", \"11\", \"12\", \"13\", \"14\", \"15\", \"16\", \"17\", \"18\", \"19\", \"20\", \"21\", \"22\", \"23\", \"24\", \"25\", \"26\", \"27\", \"28\", \"29\", \"30\", \"31\", \"32\", \"33\", \"34\", \"35\", \"36\", \"37\", \"38\", \"39\", \"40\", \"41\", \"42\", \"43\", \"44\", \"45\", \"46\", \"47\", \"48\", \"49\", \"50\", \"51\", \"52\", \"53\", \"54\", \"55\", \"56\", \"57\", \"58\", \"59\", \"61\", \"62\"], \"mode\": \"markers\", \"name\": \"norm_macro_recall\", \"stepped\": false, \"type\": \"scatter\", \"data\": [0.6154165791620023, 0.5824737048484188, 0.6346631425401449, 0.43202539864153133, 0.6349249597973854, 0.6123103286873309, 0.5714804773792188, 0.5755823971985299, 0.432431098332128, 0.3560714227928186, 0.340909895786898, 0.5643269859431186, 0.6215351785260252, 0.5794678263511216, 0.6260856835765303, 0.1267612930547713, 0.39374189261031367, 0.5194109095201773, 0.5692565083657761, 0.5884497054559983, 0.565249551744975, 0.6105103948936901, 0.5978586444702005, 0.615342608002219, 0.6227778628058949, 0.3308231538992409, 0.566550037808619, 0.3634525708209918, 0.6337553691541106, 0.6395997776060705, 0.604833669318223, 0.6418867450246168, 0.6329083900462619, 0.6153932385311103, 0.4293948714011643, 0.4695296913231696, 0.6419419778035339, 0.5464230933063885, 0.6556129355008073, 0.6299329838099861, 0.5430470436631765, 0.6364347248225967, 0.671071449209321, 0.6474285920664637, 0.6504816223694941, 0.5078942332775285, 0.48097676173305465, 0.6015780054550077, 0.6170106095277721, 0.5988535559914278, 0.0, 0.6309012831816035, 0.6506031952410671, 0.6405781325844255, 0.0, 0.609679864186157, 0.6341888012191215, 0.6348129373169419, 0.6219404968283687, 0.5720955740801278, 0.649624840262712, 0.5401504535383255]}, {\"categories\": [\"0\", \"1\", \"2\", \"3\", \"4\", \"5\", \"6\", \"7\", \"8\", \"9\", \"10\", \"11\", \"12\", \"13\", \"14\", \"15\", \"16\", \"17\", \"18\", \"19\", \"20\", \"21\", \"22\", \"23\", \"24\", \"25\", \"26\", \"27\", \"28\", \"29\", \"30\", \"31\", \"32\", \"33\", \"34\", \"35\", \"36\", \"37\", \"38\", \"39\", \"40\", \"41\", \"42\", \"43\", \"44\", \"45\", \"46\", \"47\", \"48\", \"49\", \"50\", \"51\", \"52\", \"53\", \"54\", \"55\", \"56\", \"57\", \"58\", \"59\", \"61\", \"62\"], \"mode\": \"lines\", \"name\": \"norm_macro_recall_max\", \"stepped\": true, \"type\": \"scatter\", \"data\": [0.6154165791620023, 0.6154165791620023, 0.6346631425401449, 0.6346631425401449, 0.6349249597973854, 0.6349249597973854, 0.6349249597973854, 0.6349249597973854, 0.6349249597973854, 0.6349249597973854, 0.6349249597973854, 0.6349249597973854, 0.6349249597973854, 0.6349249597973854, 0.6349249597973854, 0.6349249597973854, 0.6349249597973854, 0.6349249597973854, 0.6349249597973854, 0.6349249597973854, 0.6349249597973854, 0.6349249597973854, 0.6349249597973854, 0.6349249597973854, 0.6349249597973854, 0.6349249597973854, 0.6349249597973854, 0.6349249597973854, 0.6349249597973854, 0.6395997776060705, 0.6395997776060705, 0.6418867450246168, 0.6418867450246168, 0.6418867450246168, 0.6418867450246168, 0.6418867450246168, 0.6419419778035339, 0.6419419778035339, 0.6556129355008073, 0.6556129355008073, 0.6556129355008073, 0.6556129355008073, 0.671071449209321, 0.671071449209321, 0.671071449209321, 0.671071449209321, 0.671071449209321, 0.671071449209321, 0.671071449209321, 0.671071449209321, 0.671071449209321, 0.671071449209321, 0.671071449209321, 0.671071449209321, 0.671071449209321, 0.671071449209321, 0.671071449209321, 0.671071449209321, 0.671071449209321, 0.671071449209321, 0.671071449209321, 0.671071449209321]}], \"balanced_accuracy\": [{\"categories\": [\"0\", \"1\", \"2\", \"3\", \"4\", \"5\", \"6\", \"7\", \"8\", \"9\", \"10\", \"11\", \"12\", \"13\", \"14\", \"15\", \"16\", \"17\", \"18\", \"19\", \"20\", \"21\", \"22\", \"23\", \"24\", \"25\", \"26\", \"27\", \"28\", \"29\", \"30\", \"31\", \"32\", \"33\", \"34\", \"35\", \"36\", \"37\", \"38\", \"39\", \"40\", \"41\", \"42\", \"43\", \"44\", \"45\", \"46\", \"47\", \"48\", \"49\", \"50\", \"51\", \"52\", \"53\", \"54\", \"55\", \"56\", \"57\", \"58\", \"59\", \"61\", \"62\"], \"mode\": \"markers\", \"name\": \"balanced_accuracy\", \"stepped\": false, \"type\": \"scatter\", \"data\": [0.8077082895810014, 0.7912368524242094, 0.8173315712700724, 0.7160126993207656, 0.8174624798986926, 0.8061551643436655, 0.7857402386896094, 0.7877911985992649, 0.716215549166064, 0.6780357113964093, 0.668454947893449, 0.7821634929715593, 0.8107675892630126, 0.7897339131755607, 0.8130428417882651, 0.5513534193685796, 0.6968709463051568, 0.7597054547600888, 0.7846282541828881, 0.7942248527279991, 0.7826247758724876, 0.805255197446845, 0.7989293222351003, 0.8076713040011096, 0.8113889314029474, 0.6654115769496204, 0.7832750189043096, 0.6817262854104958, 0.8168776845770551, 0.8197998888030351, 0.8024168346591116, 0.8209433725123084, 0.816454195023131, 0.8076966192655552, 0.7146974357005822, 0.7305440664408056, 0.8209709889017669, 0.7732115466531942, 0.8278064677504038, 0.814966491904993, 0.7715235218315882, 0.8182173624112984, 0.8355357246046605, 0.8237142960332319, 0.8252408111847471, 0.7539471166387642, 0.7404883808665274, 0.8007890027275039, 0.8085053047638858, 0.7994267779957138, 0.5, 0.8154506415908018, 0.8253015976205335, 0.8202890662922128, 0.5, 0.8048399320930786, 0.8170944006095608, 0.8174064686584709, 0.8109702484141843, 0.786047787040064, 0.824812420131356, 0.7700752267691626]}, {\"categories\": [\"0\", \"1\", \"2\", \"3\", \"4\", \"5\", \"6\", \"7\", \"8\", \"9\", \"10\", \"11\", \"12\", \"13\", \"14\", \"15\", \"16\", \"17\", \"18\", \"19\", \"20\", \"21\", \"22\", \"23\", \"24\", \"25\", \"26\", \"27\", \"28\", \"29\", \"30\", \"31\", \"32\", \"33\", \"34\", \"35\", \"36\", \"37\", \"38\", \"39\", \"40\", \"41\", \"42\", \"43\", \"44\", \"45\", \"46\", \"47\", \"48\", \"49\", \"50\", \"51\", \"52\", \"53\", \"54\", \"55\", \"56\", \"57\", \"58\", \"59\", \"61\", \"62\"], \"mode\": \"lines\", \"name\": \"balanced_accuracy_max\", \"stepped\": true, \"type\": \"scatter\", \"data\": [0.8077082895810014, 0.8077082895810014, 0.8173315712700724, 0.8173315712700724, 0.8174624798986926, 0.8174624798986926, 0.8174624798986926, 0.8174624798986926, 0.8174624798986926, 0.8174624798986926, 0.8174624798986926, 0.8174624798986926, 0.8174624798986926, 0.8174624798986926, 0.8174624798986926, 0.8174624798986926, 0.8174624798986926, 0.8174624798986926, 0.8174624798986926, 0.8174624798986926, 0.8174624798986926, 0.8174624798986926, 0.8174624798986926, 0.8174624798986926, 0.8174624798986926, 0.8174624798986926, 0.8174624798986926, 0.8174624798986926, 0.8174624798986926, 0.8197998888030351, 0.8197998888030351, 0.8209433725123084, 0.8209433725123084, 0.8209433725123084, 0.8209433725123084, 0.8209433725123084, 0.8209709889017669, 0.8209709889017669, 0.8278064677504038, 0.8278064677504038, 0.8278064677504038, 0.8278064677504038, 0.8355357246046605, 0.8355357246046605, 0.8355357246046605, 0.8355357246046605, 0.8355357246046605, 0.8355357246046605, 0.8355357246046605, 0.8355357246046605, 0.8355357246046605, 0.8355357246046605, 0.8355357246046605, 0.8355357246046605, 0.8355357246046605, 0.8355357246046605, 0.8355357246046605, 0.8355357246046605, 0.8355357246046605, 0.8355357246046605, 0.8355357246046605, 0.8355357246046605]}], \"f1_score_micro\": [{\"categories\": [\"0\", \"1\", \"2\", \"3\", \"4\", \"5\", \"6\", \"7\", \"8\", \"9\", \"10\", \"11\", \"12\", \"13\", \"14\", \"15\", \"16\", \"17\", \"18\", \"19\", \"20\", \"21\", \"22\", \"23\", \"24\", \"25\", \"26\", \"27\", \"28\", \"29\", \"30\", \"31\", \"32\", \"33\", \"34\", \"35\", \"36\", \"37\", \"38\", \"39\", \"40\", \"41\", \"42\", \"43\", \"44\", \"45\", \"46\", \"47\", \"48\", \"49\", \"50\", \"51\", \"52\", \"53\", \"54\", \"55\", \"56\", \"57\", \"58\", \"59\", \"61\", \"62\"], \"mode\": \"markers\", \"name\": \"f1_score_micro\", \"stepped\": false, \"type\": \"scatter\", \"data\": [0.8359770114942527, 0.8126436781609195, 0.8460919540229886, 0.8027586206896553, 0.8291954022988506, 0.8428735632183908, 0.815632183908046, 0.8428735632183908, 0.7927586206896551, 0.7659770114942528, 0.7759770114942529, 0.8393103448275863, 0.805632183908046, 0.822528735632184, 0.8158620689655172, 0.6389655172413793, 0.7960919540229885, 0.7622988505747127, 0.7889655172413793, 0.8326436781609197, 0.8157471264367816, 0.8157471264367817, 0.8258620689655173, 0.8258620689655173, 0.8291954022988506, 0.6954022988505747, 0.8394252873563218, 0.7859770114942529, 0.8358620689655172, 0.8493103448275863, 0.8426436781609195, 0.8493103448275863, 0.8494252873563217, 0.8426436781609196, 0.7724137931034483, 0.7987356321839081, 0.8224137931034482, 0.8093103448275862, 0.8427586206896553, 0.8528735632183908, 0.8294252873563218, 0.8358620689655172, 0.8591954022988506, 0.8493103448275864, 0.8562068965517243, 0.7588505747126437, 0.799080459770115, 0.8463218390804597, 0.8391954022988506, 0.8393103448275863, 0.6791954022988507, 0.835977011494253, 0.8526436781609196, 0.8494252873563217, 0.6791954022988507, 0.8360919540229885, 0.8427586206896551, 0.8426436781609195, 0.839080459770115, 0.8293103448275861, 0.8493103448275863, 0.8094252873563219]}, {\"categories\": [\"0\", \"1\", \"2\", \"3\", \"4\", \"5\", \"6\", \"7\", \"8\", \"9\", \"10\", \"11\", \"12\", \"13\", \"14\", \"15\", \"16\", \"17\", \"18\", \"19\", \"20\", \"21\", \"22\", \"23\", \"24\", \"25\", \"26\", \"27\", \"28\", \"29\", \"30\", \"31\", \"32\", \"33\", \"34\", \"35\", \"36\", \"37\", \"38\", \"39\", \"40\", \"41\", \"42\", \"43\", \"44\", \"45\", \"46\", \"47\", \"48\", \"49\", \"50\", \"51\", \"52\", \"53\", \"54\", \"55\", \"56\", \"57\", \"58\", \"59\", \"61\", \"62\"], \"mode\": \"lines\", \"name\": \"f1_score_micro_max\", \"stepped\": true, \"type\": \"scatter\", \"data\": [0.8359770114942527, 0.8359770114942527, 0.8460919540229886, 0.8460919540229886, 0.8460919540229886, 0.8460919540229886, 0.8460919540229886, 0.8460919540229886, 0.8460919540229886, 0.8460919540229886, 0.8460919540229886, 0.8460919540229886, 0.8460919540229886, 0.8460919540229886, 0.8460919540229886, 0.8460919540229886, 0.8460919540229886, 0.8460919540229886, 0.8460919540229886, 0.8460919540229886, 0.8460919540229886, 0.8460919540229886, 0.8460919540229886, 0.8460919540229886, 0.8460919540229886, 0.8460919540229886, 0.8460919540229886, 0.8460919540229886, 0.8460919540229886, 0.8493103448275863, 0.8493103448275863, 0.8493103448275863, 0.8494252873563217, 0.8494252873563217, 0.8494252873563217, 0.8494252873563217, 0.8494252873563217, 0.8494252873563217, 0.8494252873563217, 0.8528735632183908, 0.8528735632183908, 0.8528735632183908, 0.8591954022988506, 0.8591954022988506, 0.8591954022988506, 0.8591954022988506, 0.8591954022988506, 0.8591954022988506, 0.8591954022988506, 0.8591954022988506, 0.8591954022988506, 0.8591954022988506, 0.8591954022988506, 0.8591954022988506, 0.8591954022988506, 0.8591954022988506, 0.8591954022988506, 0.8591954022988506, 0.8591954022988506, 0.8591954022988506, 0.8591954022988506, 0.8591954022988506]}], \"AUC_macro\": [{\"categories\": [\"0\", \"1\", \"2\", \"3\", \"4\", \"5\", \"6\", \"7\", \"8\", \"9\", \"10\", \"11\", \"12\", \"13\", \"14\", \"15\", \"16\", \"17\", \"18\", \"19\", \"20\", \"21\", \"22\", \"23\", \"24\", \"25\", \"26\", \"27\", \"28\", \"29\", \"30\", \"31\", \"32\", \"33\", \"34\", \"35\", \"36\", \"37\", \"38\", \"39\", \"40\", \"41\", \"42\", \"43\", \"44\", \"45\", \"46\", \"47\", \"48\", \"49\", \"50\", \"51\", \"52\", \"53\", \"54\", \"55\", \"56\", \"57\", \"58\", \"59\", \"61\", \"62\"], \"mode\": \"markers\", \"name\": \"AUC_macro\", \"stepped\": false, \"type\": \"scatter\", \"data\": [0.886378309960232, 0.8996277104156969, 0.8956891149976389, 0.8787365634661974, 0.8985114408220815, 0.8891994112422029, 0.8773468238283455, 0.9020312173164576, 0.8633515397243657, 0.7496161006793443, 0.869981661443904, 0.8920377424952367, 0.905827624149306, 0.869630741599277, 0.895397779087596, 0.5203053263648802, 0.8821097081471796, 0.809655580238475, 0.8797456960363139, 0.9025291817598454, 0.8862592800278584, 0.859187865194387, 0.8721198277589011, 0.9031503854057631, 0.8992725276905483, 0.7800845695018178, 0.89068981946522, 0.8840300304175018, 0.9088451194686321, 0.8994081060413441, 0.8861797787452822, 0.9043643887936795, 0.9027612445694825, 0.9084812944471412, 0.8615721364236238, 0.8505155403055287, 0.905638378500049, 0.8679598190964896, 0.9059228615566145, 0.9109336757022112, 0.8818599221621245, 0.9006370979050613, 0.9030684361595689, 0.9069573809909052, 0.9138081576911097, 0.8190920047291043, 0.8769059139944723, 0.9096785356562244, 0.906837338020061, 0.878564290942552, 0.8741289770044347, 0.8945183843171829, 0.9101038203215548, 0.9083146170762877, 0.8946260608014326, 0.9002678064837104, 0.897278025597591, 0.8759483215339621, 0.8835687964696547, 0.892850618820327, 0.922041107930124, 0.9157149334689378]}, {\"categories\": [\"0\", \"1\", \"2\", \"3\", \"4\", \"5\", \"6\", \"7\", \"8\", \"9\", \"10\", \"11\", \"12\", \"13\", \"14\", \"15\", \"16\", \"17\", \"18\", \"19\", \"20\", \"21\", \"22\", \"23\", \"24\", \"25\", \"26\", \"27\", \"28\", \"29\", \"30\", \"31\", \"32\", \"33\", \"34\", \"35\", \"36\", \"37\", \"38\", \"39\", \"40\", \"41\", \"42\", \"43\", \"44\", \"45\", \"46\", \"47\", \"48\", \"49\", \"50\", \"51\", \"52\", \"53\", \"54\", \"55\", \"56\", \"57\", \"58\", \"59\", \"61\", \"62\"], \"mode\": \"lines\", \"name\": \"AUC_macro_max\", \"stepped\": true, \"type\": \"scatter\", \"data\": [0.886378309960232, 0.8996277104156969, 0.8996277104156969, 0.8996277104156969, 0.8996277104156969, 0.8996277104156969, 0.8996277104156969, 0.9020312173164576, 0.9020312173164576, 0.9020312173164576, 0.9020312173164576, 0.9020312173164576, 0.905827624149306, 0.905827624149306, 0.905827624149306, 0.905827624149306, 0.905827624149306, 0.905827624149306, 0.905827624149306, 0.905827624149306, 0.905827624149306, 0.905827624149306, 0.905827624149306, 0.905827624149306, 0.905827624149306, 0.905827624149306, 0.905827624149306, 0.905827624149306, 0.9088451194686321, 0.9088451194686321, 0.9088451194686321, 0.9088451194686321, 0.9088451194686321, 0.9088451194686321, 0.9088451194686321, 0.9088451194686321, 0.9088451194686321, 0.9088451194686321, 0.9088451194686321, 0.9109336757022112, 0.9109336757022112, 0.9109336757022112, 0.9109336757022112, 0.9109336757022112, 0.9138081576911097, 0.9138081576911097, 0.9138081576911097, 0.9138081576911097, 0.9138081576911097, 0.9138081576911097, 0.9138081576911097, 0.9138081576911097, 0.9138081576911097, 0.9138081576911097, 0.9138081576911097, 0.9138081576911097, 0.9138081576911097, 0.9138081576911097, 0.9138081576911097, 0.9138081576911097, 0.922041107930124, 0.922041107930124]}], \"precision_score_micro\": [{\"categories\": [\"0\", \"1\", \"2\", \"3\", \"4\", \"5\", \"6\", \"7\", \"8\", \"9\", \"10\", \"11\", \"12\", \"13\", \"14\", \"15\", \"16\", \"17\", \"18\", \"19\", \"20\", \"21\", \"22\", \"23\", \"24\", \"25\", \"26\", \"27\", \"28\", \"29\", \"30\", \"31\", \"32\", \"33\", \"34\", \"35\", \"36\", \"37\", \"38\", \"39\", \"40\", \"41\", \"42\", \"43\", \"44\", \"45\", \"46\", \"47\", \"48\", \"49\", \"50\", \"51\", \"52\", \"53\", \"54\", \"55\", \"56\", \"57\", \"58\", \"59\", \"61\", \"62\"], \"mode\": \"markers\", \"name\": \"precision_score_micro\", \"stepped\": false, \"type\": \"scatter\", \"data\": [0.8359770114942527, 0.8126436781609195, 0.8460919540229886, 0.8027586206896553, 0.8291954022988504, 0.8428735632183908, 0.815632183908046, 0.8428735632183908, 0.7927586206896551, 0.7659770114942528, 0.7759770114942529, 0.8393103448275863, 0.8056321839080459, 0.822528735632184, 0.8158620689655172, 0.6389655172413793, 0.7960919540229885, 0.7622988505747127, 0.7889655172413793, 0.8326436781609197, 0.8157471264367816, 0.8157471264367817, 0.8258620689655173, 0.8258620689655173, 0.8291954022988506, 0.6954022988505747, 0.8394252873563218, 0.7859770114942529, 0.8358620689655172, 0.8493103448275863, 0.8426436781609195, 0.8493103448275863, 0.8494252873563217, 0.8426436781609195, 0.7724137931034483, 0.7987356321839081, 0.8224137931034482, 0.8093103448275862, 0.8427586206896553, 0.8528735632183908, 0.8294252873563218, 0.8358620689655172, 0.8591954022988506, 0.849310344827586, 0.8562068965517243, 0.7588505747126437, 0.799080459770115, 0.8463218390804597, 0.8391954022988506, 0.8393103448275863, 0.6791954022988507, 0.835977011494253, 0.8526436781609196, 0.8494252873563217, 0.6791954022988507, 0.8360919540229885, 0.8427586206896551, 0.8426436781609195, 0.839080459770115, 0.8293103448275861, 0.8493103448275863, 0.8094252873563219]}, {\"categories\": [\"0\", \"1\", \"2\", \"3\", \"4\", \"5\", \"6\", \"7\", \"8\", \"9\", \"10\", \"11\", \"12\", \"13\", \"14\", \"15\", \"16\", \"17\", \"18\", \"19\", \"20\", \"21\", \"22\", \"23\", \"24\", \"25\", \"26\", \"27\", \"28\", \"29\", \"30\", \"31\", \"32\", \"33\", \"34\", \"35\", \"36\", \"37\", \"38\", \"39\", \"40\", \"41\", \"42\", \"43\", \"44\", \"45\", \"46\", \"47\", \"48\", \"49\", \"50\", \"51\", \"52\", \"53\", \"54\", \"55\", \"56\", \"57\", \"58\", \"59\", \"61\", \"62\"], \"mode\": \"lines\", \"name\": \"precision_score_micro_max\", \"stepped\": true, \"type\": \"scatter\", \"data\": [0.8359770114942527, 0.8359770114942527, 0.8460919540229886, 0.8460919540229886, 0.8460919540229886, 0.8460919540229886, 0.8460919540229886, 0.8460919540229886, 0.8460919540229886, 0.8460919540229886, 0.8460919540229886, 0.8460919540229886, 0.8460919540229886, 0.8460919540229886, 0.8460919540229886, 0.8460919540229886, 0.8460919540229886, 0.8460919540229886, 0.8460919540229886, 0.8460919540229886, 0.8460919540229886, 0.8460919540229886, 0.8460919540229886, 0.8460919540229886, 0.8460919540229886, 0.8460919540229886, 0.8460919540229886, 0.8460919540229886, 0.8460919540229886, 0.8493103448275863, 0.8493103448275863, 0.8493103448275863, 0.8494252873563217, 0.8494252873563217, 0.8494252873563217, 0.8494252873563217, 0.8494252873563217, 0.8494252873563217, 0.8494252873563217, 0.8528735632183908, 0.8528735632183908, 0.8528735632183908, 0.8591954022988506, 0.8591954022988506, 0.8591954022988506, 0.8591954022988506, 0.8591954022988506, 0.8591954022988506, 0.8591954022988506, 0.8591954022988506, 0.8591954022988506, 0.8591954022988506, 0.8591954022988506, 0.8591954022988506, 0.8591954022988506, 0.8591954022988506, 0.8591954022988506, 0.8591954022988506, 0.8591954022988506, 0.8591954022988506, 0.8591954022988506, 0.8591954022988506]}], \"precision_score_macro\": [{\"categories\": [\"0\", \"1\", \"2\", \"3\", \"4\", \"5\", \"6\", \"7\", \"8\", \"9\", \"10\", \"11\", \"12\", \"13\", \"14\", \"15\", \"16\", \"17\", \"18\", \"19\", \"20\", \"21\", \"22\", \"23\", \"24\", \"25\", \"26\", \"27\", \"28\", \"29\", \"30\", \"31\", \"32\", \"33\", \"34\", \"35\", \"36\", \"37\", \"38\", \"39\", \"40\", \"41\", \"42\", \"43\", \"44\", \"45\", \"46\", \"47\", \"48\", \"49\", \"50\", \"51\", \"52\", \"53\", \"54\", \"55\", \"56\", \"57\", \"58\", \"59\", \"61\", \"62\"], \"mode\": \"markers\", \"name\": \"precision_score_macro\", \"stepped\": false, \"type\": \"scatter\", \"data\": [0.8167365852764965, 0.7906465934269138, 0.8265705188531276, 0.8375549140875229, 0.8092098056312453, 0.8386875209189787, 0.7872055963360312, 0.8611750496515942, 0.8158572015745928, 0.7703082497212932, 0.7578245643661685, 0.8500545179458223, 0.781612805409245, 0.8151354336929281, 0.7971251518948888, 0.5543597592139792, 0.8390901320901321, 0.7389651645971473, 0.763443446323124, 0.8198940054351954, 0.7976276541730505, 0.789639014580191, 0.8053757434515948, 0.8019189050524863, 0.8033874088139467, 0.6167808466753482, 0.851640778367323, 0.8399789377289377, 0.8162521645021645, 0.8438959937121702, 0.8323347028638791, 0.8441179788526336, 0.8443122773078017, 0.8367924332862413, 0.7485981530546748, 0.8019972499320325, 0.7931869112027948, 0.8001518778629425, 0.8245945809847411, 0.8462984841880724, 0.8292090313068574, 0.8160744638992721, 0.8514983657646702, 0.835063217579522, 0.8622332773080854, 0.725317507784613, 0.7865585923738097, 0.854439880168141, 0.8380014691427735, 0.8305858742706569, 0.33959770114942534, 0.8162606759724473, 0.8392866161616162, 0.8389771877738632, 0.33959770114942534, 0.8210927409849541, 0.8259245672553319, 0.8301282702804442, 0.8151190633038459, 0.8198089467740497, 0.8356974071679953, 0.7376975970889015]}, {\"categories\": [\"0\", \"1\", \"2\", \"3\", \"4\", \"5\", \"6\", \"7\", \"8\", \"9\", \"10\", \"11\", \"12\", \"13\", \"14\", \"15\", \"16\", \"17\", \"18\", \"19\", \"20\", \"21\", \"22\", \"23\", \"24\", \"25\", \"26\", \"27\", \"28\", \"29\", \"30\", \"31\", \"32\", \"33\", \"34\", \"35\", \"36\", \"37\", \"38\", \"39\", \"40\", \"41\", \"42\", \"43\", \"44\", \"45\", \"46\", \"47\", \"48\", \"49\", \"50\", \"51\", \"52\", \"53\", \"54\", \"55\", \"56\", \"57\", \"58\", \"59\", \"61\", \"62\"], \"mode\": \"lines\", \"name\": \"precision_score_macro_max\", \"stepped\": true, \"type\": \"scatter\", \"data\": [0.8167365852764965, 0.8167365852764965, 0.8265705188531276, 0.8375549140875229, 0.8375549140875229, 0.8386875209189787, 0.8386875209189787, 0.8611750496515942, 0.8611750496515942, 0.8611750496515942, 0.8611750496515942, 0.8611750496515942, 0.8611750496515942, 0.8611750496515942, 0.8611750496515942, 0.8611750496515942, 0.8611750496515942, 0.8611750496515942, 0.8611750496515942, 0.8611750496515942, 0.8611750496515942, 0.8611750496515942, 0.8611750496515942, 0.8611750496515942, 0.8611750496515942, 0.8611750496515942, 0.8611750496515942, 0.8611750496515942, 0.8611750496515942, 0.8611750496515942, 0.8611750496515942, 0.8611750496515942, 0.8611750496515942, 0.8611750496515942, 0.8611750496515942, 0.8611750496515942, 0.8611750496515942, 0.8611750496515942, 0.8611750496515942, 0.8611750496515942, 0.8611750496515942, 0.8611750496515942, 0.8611750496515942, 0.8611750496515942, 0.8622332773080854, 0.8622332773080854, 0.8622332773080854, 0.8622332773080854, 0.8622332773080854, 0.8622332773080854, 0.8622332773080854, 0.8622332773080854, 0.8622332773080854, 0.8622332773080854, 0.8622332773080854, 0.8622332773080854, 0.8622332773080854, 0.8622332773080854, 0.8622332773080854, 0.8622332773080854, 0.8622332773080854, 0.8622332773080854]}], \"f1_score_macro\": [{\"categories\": [\"0\", \"1\", \"2\", \"3\", \"4\", \"5\", \"6\", \"7\", \"8\", \"9\", \"10\", \"11\", \"12\", \"13\", \"14\", \"15\", \"16\", \"17\", \"18\", \"19\", \"20\", \"21\", \"22\", \"23\", \"24\", \"25\", \"26\", \"27\", \"28\", \"29\", \"30\", \"31\", \"32\", \"33\", \"34\", \"35\", \"36\", \"37\", \"38\", \"39\", \"40\", \"41\", \"42\", \"43\", \"44\", \"45\", \"46\", \"47\", \"48\", \"49\", \"50\", \"51\", \"52\", \"53\", \"54\", \"55\", \"56\", \"57\", \"58\", \"59\", \"61\", \"62\"], \"mode\": \"markers\", \"name\": \"f1_score_macro\", \"stepped\": false, \"type\": \"scatter\", \"data\": [0.8043314151248963, 0.7787612554397809, 0.8139867221423444, 0.7331149807071805, 0.8040280279937045, 0.8077028080744324, 0.7791941654573115, 0.8033288747267748, 0.7221882226944503, 0.6844538166645457, 0.6704929433361275, 0.796622719273419, 0.7812494554060926, 0.786520686032605, 0.7904432464101389, 0.5251633085767229, 0.7086862946102854, 0.7329730246106765, 0.7606371628584844, 0.7964145212148644, 0.7780226790200901, 0.7898499281774025, 0.7929943671466005, 0.7939461620258915, 0.7979941365926437, 0.6106640810288227, 0.7963639516338009, 0.6866902449933623, 0.8070839039385964, 0.8204677650790583, 0.805852344688376, 0.8202664410375939, 0.8168237052164089, 0.8089008915501102, 0.7095015793075088, 0.741157013532132, 0.7984640599052365, 0.7710800896498279, 0.8148158849631499, 0.8202145871802621, 0.7826488682219394, 0.8076821127473316, 0.8340754724566594, 0.8195983175953687, 0.8279951334809121, 0.7275993363987341, 0.7447064912434269, 0.8101218582804982, 0.8061935149006401, 0.8027126576377478, 0.4024893878511494, 0.8026083371552808, 0.8220913289895047, 0.8188274388502274, 0.4024893878511494, 0.8027990470741567, 0.8105271842977304, 0.8136719536985042, 0.8029623685191252, 0.7897148778626611, 0.8223376454953686, 0.7420866690970642]}, {\"categories\": [\"0\", \"1\", \"2\", \"3\", \"4\", \"5\", \"6\", \"7\", \"8\", \"9\", \"10\", \"11\", \"12\", \"13\", \"14\", \"15\", \"16\", \"17\", \"18\", \"19\", \"20\", \"21\", \"22\", \"23\", \"24\", \"25\", \"26\", \"27\", \"28\", \"29\", \"30\", \"31\", \"32\", \"33\", \"34\", \"35\", \"36\", \"37\", \"38\", \"39\", \"40\", \"41\", \"42\", \"43\", \"44\", \"45\", \"46\", \"47\", \"48\", \"49\", \"50\", \"51\", \"52\", \"53\", \"54\", \"55\", \"56\", \"57\", \"58\", \"59\", \"61\", \"62\"], \"mode\": \"lines\", \"name\": \"f1_score_macro_max\", \"stepped\": true, \"type\": \"scatter\", \"data\": [0.8043314151248963, 0.8043314151248963, 0.8139867221423444, 0.8139867221423444, 0.8139867221423444, 0.8139867221423444, 0.8139867221423444, 0.8139867221423444, 0.8139867221423444, 0.8139867221423444, 0.8139867221423444, 0.8139867221423444, 0.8139867221423444, 0.8139867221423444, 0.8139867221423444, 0.8139867221423444, 0.8139867221423444, 0.8139867221423444, 0.8139867221423444, 0.8139867221423444, 0.8139867221423444, 0.8139867221423444, 0.8139867221423444, 0.8139867221423444, 0.8139867221423444, 0.8139867221423444, 0.8139867221423444, 0.8139867221423444, 0.8139867221423444, 0.8204677650790583, 0.8204677650790583, 0.8204677650790583, 0.8204677650790583, 0.8204677650790583, 0.8204677650790583, 0.8204677650790583, 0.8204677650790583, 0.8204677650790583, 0.8204677650790583, 0.8204677650790583, 0.8204677650790583, 0.8204677650790583, 0.8340754724566594, 0.8340754724566594, 0.8340754724566594, 0.8340754724566594, 0.8340754724566594, 0.8340754724566594, 0.8340754724566594, 0.8340754724566594, 0.8340754724566594, 0.8340754724566594, 0.8340754724566594, 0.8340754724566594, 0.8340754724566594, 0.8340754724566594, 0.8340754724566594, 0.8340754724566594, 0.8340754724566594, 0.8340754724566594, 0.8340754724566594, 0.8340754724566594]}], \"recall_score_macro\": [{\"categories\": [\"0\", \"1\", \"2\", \"3\", \"4\", \"5\", \"6\", \"7\", \"8\", \"9\", \"10\", \"11\", \"12\", \"13\", \"14\", \"15\", \"16\", \"17\", \"18\", \"19\", \"20\", \"21\", \"22\", \"23\", \"24\", \"25\", \"26\", \"27\", \"28\", \"29\", \"30\", \"31\", \"32\", \"33\", \"34\", \"35\", \"36\", \"37\", \"38\", \"39\", \"40\", \"41\", \"42\", \"43\", \"44\", \"45\", \"46\", \"47\", \"48\", \"49\", \"50\", \"51\", \"52\", \"53\", \"54\", \"55\", \"56\", \"57\", \"58\", \"59\", \"61\", \"62\"], \"mode\": \"markers\", \"name\": \"recall_score_macro\", \"stepped\": false, \"type\": \"scatter\", \"data\": [0.8077082895810014, 0.7912368524242094, 0.8173315712700724, 0.7160126993207656, 0.8174624798986926, 0.8061551643436655, 0.7857402386896094, 0.7877911985992649, 0.716215549166064, 0.6780357113964093, 0.668454947893449, 0.7821634929715593, 0.8107675892630126, 0.7897339131755607, 0.8130428417882651, 0.5513534193685796, 0.6968709463051568, 0.7597054547600888, 0.7846282541828881, 0.7942248527279991, 0.7826247758724876, 0.805255197446845, 0.7989293222351003, 0.8076713040011096, 0.8113889314029474, 0.6654115769496204, 0.7832750189043096, 0.6817262854104958, 0.8168776845770551, 0.8197998888030351, 0.8024168346591116, 0.8209433725123084, 0.816454195023131, 0.8076966192655552, 0.7146974357005822, 0.7305440664408056, 0.8209709889017669, 0.7732115466531942, 0.8278064677504038, 0.814966491904993, 0.7715235218315882, 0.8182173624112984, 0.8355357246046605, 0.8237142960332319, 0.8252408111847471, 0.7539471166387642, 0.7404883808665274, 0.8007890027275039, 0.8085053047638858, 0.7994267779957138, 0.5, 0.8154506415908018, 0.8253015976205335, 0.8202890662922128, 0.5, 0.8048399320930786, 0.8170944006095608, 0.8174064686584709, 0.8109702484141843, 0.786047787040064, 0.824812420131356, 0.7700752267691626]}, {\"categories\": [\"0\", \"1\", \"2\", \"3\", \"4\", \"5\", \"6\", \"7\", \"8\", \"9\", \"10\", \"11\", \"12\", \"13\", \"14\", \"15\", \"16\", \"17\", \"18\", \"19\", \"20\", \"21\", \"22\", \"23\", \"24\", \"25\", \"26\", \"27\", \"28\", \"29\", \"30\", \"31\", \"32\", \"33\", \"34\", \"35\", \"36\", \"37\", \"38\", \"39\", \"40\", \"41\", \"42\", \"43\", \"44\", \"45\", \"46\", \"47\", \"48\", \"49\", \"50\", \"51\", \"52\", \"53\", \"54\", \"55\", \"56\", \"57\", \"58\", \"59\", \"61\", \"62\"], \"mode\": \"lines\", \"name\": \"recall_score_macro_max\", \"stepped\": true, \"type\": \"scatter\", \"data\": [0.8077082895810014, 0.8077082895810014, 0.8173315712700724, 0.8173315712700724, 0.8174624798986926, 0.8174624798986926, 0.8174624798986926, 0.8174624798986926, 0.8174624798986926, 0.8174624798986926, 0.8174624798986926, 0.8174624798986926, 0.8174624798986926, 0.8174624798986926, 0.8174624798986926, 0.8174624798986926, 0.8174624798986926, 0.8174624798986926, 0.8174624798986926, 0.8174624798986926, 0.8174624798986926, 0.8174624798986926, 0.8174624798986926, 0.8174624798986926, 0.8174624798986926, 0.8174624798986926, 0.8174624798986926, 0.8174624798986926, 0.8174624798986926, 0.8197998888030351, 0.8197998888030351, 0.8209433725123084, 0.8209433725123084, 0.8209433725123084, 0.8209433725123084, 0.8209433725123084, 0.8209709889017669, 0.8209709889017669, 0.8278064677504038, 0.8278064677504038, 0.8278064677504038, 0.8278064677504038, 0.8355357246046605, 0.8355357246046605, 0.8355357246046605, 0.8355357246046605, 0.8355357246046605, 0.8355357246046605, 0.8355357246046605, 0.8355357246046605, 0.8355357246046605, 0.8355357246046605, 0.8355357246046605, 0.8355357246046605, 0.8355357246046605, 0.8355357246046605, 0.8355357246046605, 0.8355357246046605, 0.8355357246046605, 0.8355357246046605, 0.8355357246046605, 0.8355357246046605]}], \"AUC_micro\": [{\"categories\": [\"0\", \"1\", \"2\", \"3\", \"4\", \"5\", \"6\", \"7\", \"8\", \"9\", \"10\", \"11\", \"12\", \"13\", \"14\", \"15\", \"16\", \"17\", \"18\", \"19\", \"20\", \"21\", \"22\", \"23\", \"24\", \"25\", \"26\", \"27\", \"28\", \"29\", \"30\", \"31\", \"32\", \"33\", \"34\", \"35\", \"36\", \"37\", \"38\", \"39\", \"40\", \"41\", \"42\", \"43\", \"44\", \"45\", \"46\", \"47\", \"48\", \"49\", \"50\", \"51\", \"52\", \"53\", \"54\", \"55\", \"56\", \"57\", \"58\", \"59\", \"61\", \"62\"], \"mode\": \"markers\", \"name\": \"AUC_micro\", \"stepped\": false, \"type\": \"scatter\", \"data\": [0.9055422116527941, 0.9059534945171093, 0.9066395825075968, 0.8771367419738407, 0.9089028933808958, 0.9042672744087727, 0.8958727044523715, 0.9073511692429646, 0.8639340731932885, 0.8096416963931828, 0.8701776985070684, 0.8952400581318536, 0.8934663760073986, 0.8851874752279034, 0.9036163297661514, 0.6464215880565465, 0.8781231338353812, 0.8203456202933015, 0.8857022063680804, 0.9054876469811072, 0.8913267934998018, 0.872910688333994, 0.8931191702999076, 0.9113258026159334, 0.9110899722552516, 0.79409023649095, 0.8984992733518299, 0.8720276126304662, 0.9119125379838817, 0.9152380763641169, 0.886292773153653, 0.9156981107147576, 0.9175304531642225, 0.918349187475228, 0.8703083630598494, 0.8651758488571806, 0.9079906196327123, 0.8828531510107016, 0.9124661117717003, 0.9235090500726649, 0.8894544854009776, 0.9115304531642225, 0.9150879904875149, 0.9197292905271501, 0.923011890606421, 0.8017920465054829, 0.890179680274805, 0.9214193420531114, 0.9158481965913594, 0.8979964328180738, 0.8343024177566389, 0.9061737349715948, 0.9208579733121945, 0.9182478530849518, 0.8440646056282203, 0.9106299379046108, 0.9068949663099485, 0.8906485004624127, 0.9043783855198837, 0.9077956136874091, 0.924664949134628, 0.8977370854802483]}, {\"categories\": [\"0\", \"1\", \"2\", \"3\", \"4\", \"5\", \"6\", \"7\", \"8\", \"9\", \"10\", \"11\", \"12\", \"13\", \"14\", \"15\", \"16\", \"17\", \"18\", \"19\", \"20\", \"21\", \"22\", \"23\", \"24\", \"25\", \"26\", \"27\", \"28\", \"29\", \"30\", \"31\", \"32\", \"33\", \"34\", \"35\", \"36\", \"37\", \"38\", \"39\", \"40\", \"41\", \"42\", \"43\", \"44\", \"45\", \"46\", \"47\", \"48\", \"49\", \"50\", \"51\", \"52\", \"53\", \"54\", \"55\", \"56\", \"57\", \"58\", \"59\", \"61\", \"62\"], \"mode\": \"lines\", \"name\": \"AUC_micro_max\", \"stepped\": true, \"type\": \"scatter\", \"data\": [0.9055422116527941, 0.9059534945171093, 0.9066395825075968, 0.9066395825075968, 0.9089028933808958, 0.9089028933808958, 0.9089028933808958, 0.9089028933808958, 0.9089028933808958, 0.9089028933808958, 0.9089028933808958, 0.9089028933808958, 0.9089028933808958, 0.9089028933808958, 0.9089028933808958, 0.9089028933808958, 0.9089028933808958, 0.9089028933808958, 0.9089028933808958, 0.9089028933808958, 0.9089028933808958, 0.9089028933808958, 0.9089028933808958, 0.9113258026159334, 0.9113258026159334, 0.9113258026159334, 0.9113258026159334, 0.9113258026159334, 0.9119125379838817, 0.9152380763641169, 0.9152380763641169, 0.9156981107147576, 0.9175304531642225, 0.918349187475228, 0.918349187475228, 0.918349187475228, 0.918349187475228, 0.918349187475228, 0.918349187475228, 0.9235090500726649, 0.9235090500726649, 0.9235090500726649, 0.9235090500726649, 0.9235090500726649, 0.9235090500726649, 0.9235090500726649, 0.9235090500726649, 0.9235090500726649, 0.9235090500726649, 0.9235090500726649, 0.9235090500726649, 0.9235090500726649, 0.9235090500726649, 0.9235090500726649, 0.9235090500726649, 0.9235090500726649, 0.9235090500726649, 0.9235090500726649, 0.9235090500726649, 0.9235090500726649, 0.924664949134628, 0.924664949134628]}], \"accuracy\": [{\"categories\": [\"0\", \"1\", \"2\", \"3\", \"4\", \"5\", \"6\", \"7\", \"8\", \"9\", \"10\", \"11\", \"12\", \"13\", \"14\", \"15\", \"16\", \"17\", \"18\", \"19\", \"20\", \"21\", \"22\", \"23\", \"24\", \"25\", \"26\", \"27\", \"28\", \"29\", \"30\", \"31\", \"32\", \"33\", \"34\", \"35\", \"36\", \"37\", \"38\", \"39\", \"40\", \"41\", \"42\", \"43\", \"44\", \"45\", \"46\", \"47\", \"48\", \"49\", \"50\", \"51\", \"52\", \"53\", \"54\", \"55\", \"56\", \"57\", \"58\", \"59\", \"61\", \"62\"], \"mode\": \"markers\", \"name\": \"accuracy\", \"stepped\": false, \"type\": \"scatter\", \"data\": [0.8359770114942527, 0.8126436781609195, 0.8460919540229886, 0.8027586206896553, 0.8291954022988504, 0.8428735632183908, 0.815632183908046, 0.8428735632183908, 0.7927586206896551, 0.7659770114942528, 0.7759770114942529, 0.8393103448275863, 0.8056321839080459, 0.822528735632184, 0.8158620689655172, 0.6389655172413793, 0.7960919540229885, 0.7622988505747127, 0.7889655172413793, 0.8326436781609197, 0.8157471264367816, 0.8157471264367817, 0.8258620689655173, 0.8258620689655173, 0.8291954022988506, 0.6954022988505747, 0.8394252873563218, 0.7859770114942529, 0.8358620689655172, 0.8493103448275863, 0.8426436781609195, 0.8493103448275863, 0.8494252873563217, 0.8426436781609195, 0.7724137931034483, 0.7987356321839081, 0.8224137931034482, 0.8093103448275862, 0.8427586206896553, 0.8528735632183908, 0.8294252873563218, 0.8358620689655172, 0.8591954022988506, 0.849310344827586, 0.8562068965517243, 0.7588505747126437, 0.799080459770115, 0.8463218390804597, 0.8391954022988506, 0.8393103448275863, 0.6791954022988507, 0.835977011494253, 0.8526436781609196, 0.8494252873563217, 0.6791954022988507, 0.8360919540229885, 0.8427586206896551, 0.8426436781609195, 0.839080459770115, 0.8293103448275861, 0.8493103448275863, 0.8094252873563219]}, {\"categories\": [\"0\", \"1\", \"2\", \"3\", \"4\", \"5\", \"6\", \"7\", \"8\", \"9\", \"10\", \"11\", \"12\", \"13\", \"14\", \"15\", \"16\", \"17\", \"18\", \"19\", \"20\", \"21\", \"22\", \"23\", \"24\", \"25\", \"26\", \"27\", \"28\", \"29\", \"30\", \"31\", \"32\", \"33\", \"34\", \"35\", \"36\", \"37\", \"38\", \"39\", \"40\", \"41\", \"42\", \"43\", \"44\", \"45\", \"46\", \"47\", \"48\", \"49\", \"50\", \"51\", \"52\", \"53\", \"54\", \"55\", \"56\", \"57\", \"58\", \"59\", \"61\", \"62\"], \"mode\": \"lines\", \"name\": \"accuracy_max\", \"stepped\": true, \"type\": \"scatter\", \"data\": [0.8359770114942527, 0.8359770114942527, 0.8460919540229886, 0.8460919540229886, 0.8460919540229886, 0.8460919540229886, 0.8460919540229886, 0.8460919540229886, 0.8460919540229886, 0.8460919540229886, 0.8460919540229886, 0.8460919540229886, 0.8460919540229886, 0.8460919540229886, 0.8460919540229886, 0.8460919540229886, 0.8460919540229886, 0.8460919540229886, 0.8460919540229886, 0.8460919540229886, 0.8460919540229886, 0.8460919540229886, 0.8460919540229886, 0.8460919540229886, 0.8460919540229886, 0.8460919540229886, 0.8460919540229886, 0.8460919540229886, 0.8460919540229886, 0.8493103448275863, 0.8493103448275863, 0.8493103448275863, 0.8494252873563217, 0.8494252873563217, 0.8494252873563217, 0.8494252873563217, 0.8494252873563217, 0.8494252873563217, 0.8494252873563217, 0.8528735632183908, 0.8528735632183908, 0.8528735632183908, 0.8591954022988506, 0.8591954022988506, 0.8591954022988506, 0.8591954022988506, 0.8591954022988506, 0.8591954022988506, 0.8591954022988506, 0.8591954022988506, 0.8591954022988506, 0.8591954022988506, 0.8591954022988506, 0.8591954022988506, 0.8591954022988506, 0.8591954022988506, 0.8591954022988506, 0.8591954022988506, 0.8591954022988506, 0.8591954022988506, 0.8591954022988506, 0.8591954022988506]}], \"average_precision_score_macro\": [{\"categories\": [\"0\", \"1\", \"2\", \"3\", \"4\", \"5\", \"6\", \"7\", \"8\", \"9\", \"10\", \"11\", \"12\", \"13\", \"14\", \"15\", \"16\", \"17\", \"18\", \"19\", \"20\", \"21\", \"22\", \"23\", \"24\", \"25\", \"26\", \"27\", \"28\", \"29\", \"30\", \"31\", \"32\", \"33\", \"34\", \"35\", \"36\", \"37\", \"38\", \"39\", \"40\", \"41\", \"42\", \"43\", \"44\", \"45\", \"46\", \"47\", \"48\", \"49\", \"50\", \"51\", \"52\", \"53\", \"54\", \"55\", \"56\", \"57\", \"58\", \"59\", \"61\", \"62\"], \"mode\": \"markers\", \"name\": \"average_precision_score_macro\", \"stepped\": false, \"type\": \"scatter\", \"data\": [0.8827452797476439, 0.8924393128974059, 0.881481856856283, 0.8713456533221358, 0.8932130653118129, 0.8839155726760962, 0.855356144382859, 0.8948425112713905, 0.8571592759110217, 0.7610796181270093, 0.849363768801811, 0.886033945469044, 0.8974602575914504, 0.857348003219729, 0.9021665329855564, 0.5793782772753733, 0.8706644504072019, 0.8163405603761401, 0.8712527142201738, 0.8883006996915643, 0.8706018700382046, 0.8530796907716759, 0.869274548289571, 0.8917346020745853, 0.8944689391086941, 0.7280454209420926, 0.8889715744353435, 0.8766563475988873, 0.9005993346192576, 0.8962498818646933, 0.8696040456214057, 0.8990016774039853, 0.8936897819353525, 0.9023156344290093, 0.8482562530644397, 0.8395085885539663, 0.8995096634035867, 0.8563525694975935, 0.9023994394436313, 0.9040590644215136, 0.855478498035626, 0.8927839443036572, 0.8972528152437782, 0.8972718104252964, 0.9080925611506835, 0.7920520940667524, 0.8673557007257605, 0.9076575859983628, 0.9021664679361244, 0.8327613513175376, 0.8609057600351706, 0.8890342751137122, 0.9008990205537195, 0.8959266398950284, 0.8919925931130732, 0.8942659247306033, 0.8887714593411582, 0.8645478964841832, 0.8838004960698218, 0.8755574812182718, 0.9180202389725268, 0.912787345406357]}, {\"categories\": [\"0\", \"1\", \"2\", \"3\", \"4\", \"5\", \"6\", \"7\", \"8\", \"9\", \"10\", \"11\", \"12\", \"13\", \"14\", \"15\", \"16\", \"17\", \"18\", \"19\", \"20\", \"21\", \"22\", \"23\", \"24\", \"25\", \"26\", \"27\", \"28\", \"29\", \"30\", \"31\", \"32\", \"33\", \"34\", \"35\", \"36\", \"37\", \"38\", \"39\", \"40\", \"41\", \"42\", \"43\", \"44\", \"45\", \"46\", \"47\", \"48\", \"49\", \"50\", \"51\", \"52\", \"53\", \"54\", \"55\", \"56\", \"57\", \"58\", \"59\", \"61\", \"62\"], \"mode\": \"lines\", \"name\": \"average_precision_score_macro_max\", \"stepped\": true, \"type\": \"scatter\", \"data\": [0.8827452797476439, 0.8924393128974059, 0.8924393128974059, 0.8924393128974059, 0.8932130653118129, 0.8932130653118129, 0.8932130653118129, 0.8948425112713905, 0.8948425112713905, 0.8948425112713905, 0.8948425112713905, 0.8948425112713905, 0.8974602575914504, 0.8974602575914504, 0.9021665329855564, 0.9021665329855564, 0.9021665329855564, 0.9021665329855564, 0.9021665329855564, 0.9021665329855564, 0.9021665329855564, 0.9021665329855564, 0.9021665329855564, 0.9021665329855564, 0.9021665329855564, 0.9021665329855564, 0.9021665329855564, 0.9021665329855564, 0.9021665329855564, 0.9021665329855564, 0.9021665329855564, 0.9021665329855564, 0.9021665329855564, 0.9023156344290093, 0.9023156344290093, 0.9023156344290093, 0.9023156344290093, 0.9023156344290093, 0.9023994394436313, 0.9040590644215136, 0.9040590644215136, 0.9040590644215136, 0.9040590644215136, 0.9040590644215136, 0.9080925611506835, 0.9080925611506835, 0.9080925611506835, 0.9080925611506835, 0.9080925611506835, 0.9080925611506835, 0.9080925611506835, 0.9080925611506835, 0.9080925611506835, 0.9080925611506835, 0.9080925611506835, 0.9080925611506835, 0.9080925611506835, 0.9080925611506835, 0.9080925611506835, 0.9080925611506835, 0.9180202389725268, 0.9180202389725268]}], \"weighted_accuracy\": [{\"categories\": [\"0\", \"1\", \"2\", \"3\", \"4\", \"5\", \"6\", \"7\", \"8\", \"9\", \"10\", \"11\", \"12\", \"13\", \"14\", \"15\", \"16\", \"17\", \"18\", \"19\", \"20\", \"21\", \"22\", \"23\", \"24\", \"25\", \"26\", \"27\", \"28\", \"29\", \"30\", \"31\", \"32\", \"33\", \"34\", \"35\", \"36\", \"37\", \"38\", \"39\", \"40\", \"41\", \"42\", \"43\", \"44\", \"45\", \"46\", \"47\", \"48\", \"49\", \"50\", \"51\", \"52\", \"53\", \"54\", \"55\", \"56\", \"57\", \"58\", \"59\", \"61\", \"62\"], \"mode\": \"markers\", \"name\": \"weighted_accuracy\", \"stepped\": false, \"type\": \"scatter\", \"data\": [0.8541321922200625, 0.8270247482143279, 0.864593721710523, 0.857664967723557, 0.8353966191210519, 0.8664642303705765, 0.8347101975629931, 0.8786753897774643, 0.843782290931615, 0.8227930918585225, 0.8399560272159811, 0.8771827016719141, 0.8012442322464988, 0.8435084368086869, 0.81528203210576, 0.6980167624045801, 0.8588687587088067, 0.7619451374669511, 0.7890319652664868, 0.8574090595103302, 0.8371565043769902, 0.8208011184039359, 0.8425405583910761, 0.8380092186068913, 0.8410108088720956, 0.7226136923622672, 0.875816689843448, 0.852158222434927, 0.8480172229984599, 0.8676541974178864, 0.8687142360554884, 0.8673945124493319, 0.8704878541819012, 0.86342587059635, 0.8116706639817168, 0.8420525913628667, 0.8223706581374655, 0.8333624878140593, 0.8533050549341452, 0.8775243901055265, 0.8668136933835668, 0.8472111848803268, 0.87374986347262, 0.865459491676314, 0.8758765836553402, 0.7623317806976699, 0.8370249410392375, 0.8759870377424145, 0.8573899130442906, 0.8657309371923434, 0.7931711479234276, 0.8497255640380217, 0.8699300440107661, 0.8681264122771648, 0.7931711479234276, 0.8563468135403245, 0.8593723904078487, 0.8583128056522863, 0.855642873638733, 0.8575699458382967, 0.8641717890185225, 0.8378677669937714]}, {\"categories\": [\"0\", \"1\", \"2\", \"3\", \"4\", \"5\", \"6\", \"7\", \"8\", \"9\", \"10\", \"11\", \"12\", \"13\", \"14\", \"15\", \"16\", \"17\", \"18\", \"19\", \"20\", \"21\", \"22\", \"23\", \"24\", \"25\", \"26\", \"27\", \"28\", \"29\", \"30\", \"31\", \"32\", \"33\", \"34\", \"35\", \"36\", \"37\", \"38\", \"39\", \"40\", \"41\", \"42\", \"43\", \"44\", \"45\", \"46\", \"47\", \"48\", \"49\", \"50\", \"51\", \"52\", \"53\", \"54\", \"55\", \"56\", \"57\", \"58\", \"59\", \"61\", \"62\"], \"mode\": \"lines\", \"name\": \"weighted_accuracy_max\", \"stepped\": true, \"type\": \"scatter\", \"data\": [0.8541321922200625, 0.8541321922200625, 0.864593721710523, 0.864593721710523, 0.864593721710523, 0.8664642303705765, 0.8664642303705765, 0.8786753897774643, 0.8786753897774643, 0.8786753897774643, 0.8786753897774643, 0.8786753897774643, 0.8786753897774643, 0.8786753897774643, 0.8786753897774643, 0.8786753897774643, 0.8786753897774643, 0.8786753897774643, 0.8786753897774643, 0.8786753897774643, 0.8786753897774643, 0.8786753897774643, 0.8786753897774643, 0.8786753897774643, 0.8786753897774643, 0.8786753897774643, 0.8786753897774643, 0.8786753897774643, 0.8786753897774643, 0.8786753897774643, 0.8786753897774643, 0.8786753897774643, 0.8786753897774643, 0.8786753897774643, 0.8786753897774643, 0.8786753897774643, 0.8786753897774643, 0.8786753897774643, 0.8786753897774643, 0.8786753897774643, 0.8786753897774643, 0.8786753897774643, 0.8786753897774643, 0.8786753897774643, 0.8786753897774643, 0.8786753897774643, 0.8786753897774643, 0.8786753897774643, 0.8786753897774643, 0.8786753897774643, 0.8786753897774643, 0.8786753897774643, 0.8786753897774643, 0.8786753897774643, 0.8786753897774643, 0.8786753897774643, 0.8786753897774643, 0.8786753897774643, 0.8786753897774643, 0.8786753897774643, 0.8786753897774643, 0.8786753897774643]}], \"recall_score_micro\": [{\"categories\": [\"0\", \"1\", \"2\", \"3\", \"4\", \"5\", \"6\", \"7\", \"8\", \"9\", \"10\", \"11\", \"12\", \"13\", \"14\", \"15\", \"16\", \"17\", \"18\", \"19\", \"20\", \"21\", \"22\", \"23\", \"24\", \"25\", \"26\", \"27\", \"28\", \"29\", \"30\", \"31\", \"32\", \"33\", \"34\", \"35\", \"36\", \"37\", \"38\", \"39\", \"40\", \"41\", \"42\", \"43\", \"44\", \"45\", \"46\", \"47\", \"48\", \"49\", \"50\", \"51\", \"52\", \"53\", \"54\", \"55\", \"56\", \"57\", \"58\", \"59\", \"61\", \"62\"], \"mode\": \"markers\", \"name\": \"recall_score_micro\", \"stepped\": false, \"type\": \"scatter\", \"data\": [0.8359770114942527, 0.8126436781609195, 0.8460919540229886, 0.8027586206896553, 0.8291954022988504, 0.8428735632183908, 0.815632183908046, 0.8428735632183908, 0.7927586206896551, 0.7659770114942528, 0.7759770114942529, 0.8393103448275863, 0.8056321839080459, 0.822528735632184, 0.8158620689655172, 0.6389655172413793, 0.7960919540229885, 0.7622988505747127, 0.7889655172413793, 0.8326436781609197, 0.8157471264367816, 0.8157471264367817, 0.8258620689655173, 0.8258620689655173, 0.8291954022988506, 0.6954022988505747, 0.8394252873563218, 0.7859770114942529, 0.8358620689655172, 0.8493103448275863, 0.8426436781609195, 0.8493103448275863, 0.8494252873563217, 0.8426436781609195, 0.7724137931034483, 0.7987356321839081, 0.8224137931034482, 0.8093103448275862, 0.8427586206896553, 0.8528735632183908, 0.8294252873563218, 0.8358620689655172, 0.8591954022988506, 0.849310344827586, 0.8562068965517243, 0.7588505747126437, 0.799080459770115, 0.8463218390804597, 0.8391954022988506, 0.8393103448275863, 0.6791954022988507, 0.835977011494253, 0.8526436781609196, 0.8494252873563217, 0.6791954022988507, 0.8360919540229885, 0.8427586206896551, 0.8426436781609195, 0.839080459770115, 0.8293103448275861, 0.8493103448275863, 0.8094252873563219]}, {\"categories\": [\"0\", \"1\", \"2\", \"3\", \"4\", \"5\", \"6\", \"7\", \"8\", \"9\", \"10\", \"11\", \"12\", \"13\", \"14\", \"15\", \"16\", \"17\", \"18\", \"19\", \"20\", \"21\", \"22\", \"23\", \"24\", \"25\", \"26\", \"27\", \"28\", \"29\", \"30\", \"31\", \"32\", \"33\", \"34\", \"35\", \"36\", \"37\", \"38\", \"39\", \"40\", \"41\", \"42\", \"43\", \"44\", \"45\", \"46\", \"47\", \"48\", \"49\", \"50\", \"51\", \"52\", \"53\", \"54\", \"55\", \"56\", \"57\", \"58\", \"59\", \"61\", \"62\"], \"mode\": \"lines\", \"name\": \"recall_score_micro_max\", \"stepped\": true, \"type\": \"scatter\", \"data\": [0.8359770114942527, 0.8359770114942527, 0.8460919540229886, 0.8460919540229886, 0.8460919540229886, 0.8460919540229886, 0.8460919540229886, 0.8460919540229886, 0.8460919540229886, 0.8460919540229886, 0.8460919540229886, 0.8460919540229886, 0.8460919540229886, 0.8460919540229886, 0.8460919540229886, 0.8460919540229886, 0.8460919540229886, 0.8460919540229886, 0.8460919540229886, 0.8460919540229886, 0.8460919540229886, 0.8460919540229886, 0.8460919540229886, 0.8460919540229886, 0.8460919540229886, 0.8460919540229886, 0.8460919540229886, 0.8460919540229886, 0.8460919540229886, 0.8493103448275863, 0.8493103448275863, 0.8493103448275863, 0.8494252873563217, 0.8494252873563217, 0.8494252873563217, 0.8494252873563217, 0.8494252873563217, 0.8494252873563217, 0.8494252873563217, 0.8528735632183908, 0.8528735632183908, 0.8528735632183908, 0.8591954022988506, 0.8591954022988506, 0.8591954022988506, 0.8591954022988506, 0.8591954022988506, 0.8591954022988506, 0.8591954022988506, 0.8591954022988506, 0.8591954022988506, 0.8591954022988506, 0.8591954022988506, 0.8591954022988506, 0.8591954022988506, 0.8591954022988506, 0.8591954022988506, 0.8591954022988506, 0.8591954022988506, 0.8591954022988506, 0.8591954022988506, 0.8591954022988506]}], \"matthews_correlation\": [{\"categories\": [\"0\", \"1\", \"2\", \"3\", \"4\", \"5\", \"6\", \"7\", \"8\", \"9\", \"10\", \"11\", \"12\", \"13\", \"14\", \"15\", \"16\", \"17\", \"18\", \"19\", \"20\", \"21\", \"22\", \"23\", \"24\", \"25\", \"26\", \"27\", \"28\", \"29\", \"30\", \"31\", \"32\", \"33\", \"34\", \"35\", \"36\", \"37\", \"38\", \"39\", \"40\", \"41\", \"42\", \"43\", \"44\", \"45\", \"46\", \"47\", \"48\", \"49\", \"50\", \"51\", \"52\", \"53\", \"54\", \"55\", \"56\", \"57\", \"58\", \"59\", \"61\", \"62\"], \"mode\": \"markers\", \"name\": \"matthews_correlation\", \"stepped\": false, \"type\": \"scatter\", \"data\": [0.6231314496952846, 0.5798728950037678, 0.6427235785084833, 0.5364931984338938, 0.6255821112465971, 0.6418686431671672, 0.5718622822278266, 0.6435538354732053, 0.5173230479297621, 0.4352854456898543, 0.41270677309961246, 0.62664720996675, 0.5903524471724688, 0.602374560767889, 0.6090277601136415, 0.10426477830980234, 0.5102095787484591, 0.4974211893149743, 0.5467191406569251, 0.6124105077189147, 0.5776507687339493, 0.5939978776533753, 0.6026152368261003, 0.6078676379026308, 0.6132703898057666, 0.3163955566286332, 0.6294652560939467, 0.4868705521612653, 0.6318131906752664, 0.6616586556135677, 0.6326908339867647, 0.6627569915939044, 0.6578852037264393, 0.6409188768405324, 0.45916860930637815, 0.5254752063247853, 0.6127689058106857, 0.5705499507142882, 0.6504846405952616, 0.659380731313339, 0.5965315710590032, 0.6327850343077335, 0.6853995623930882, 0.6574006381594083, 0.6836126666583493, 0.47702240835424836, 0.5232849824465394, 0.6505763343819592, 0.6421261393433136, 0.6278870426886166, 0.0, 0.6291286476917153, 0.6623581059314296, 0.6576391911061977, 0.0, 0.6244905784915116, 0.641188287093704, 0.6461829068746838, 0.6244652028918092, 0.6034871069851181, 0.6592723963428699, 0.5498208657818922]}, {\"categories\": [\"0\", \"1\", \"2\", \"3\", \"4\", \"5\", \"6\", \"7\", \"8\", \"9\", \"10\", \"11\", \"12\", \"13\", \"14\", \"15\", \"16\", \"17\", \"18\", \"19\", \"20\", \"21\", \"22\", \"23\", \"24\", \"25\", \"26\", \"27\", \"28\", \"29\", \"30\", \"31\", \"32\", \"33\", \"34\", \"35\", \"36\", \"37\", \"38\", \"39\", \"40\", \"41\", \"42\", \"43\", \"44\", \"45\", \"46\", \"47\", \"48\", \"49\", \"50\", \"51\", \"52\", \"53\", \"54\", \"55\", \"56\", \"57\", \"58\", \"59\", \"61\", \"62\"], \"mode\": \"lines\", \"name\": \"matthews_correlation_max\", \"stepped\": true, \"type\": \"scatter\", \"data\": [0.6231314496952846, 0.6231314496952846, 0.6427235785084833, 0.6427235785084833, 0.6427235785084833, 0.6427235785084833, 0.6427235785084833, 0.6435538354732053, 0.6435538354732053, 0.6435538354732053, 0.6435538354732053, 0.6435538354732053, 0.6435538354732053, 0.6435538354732053, 0.6435538354732053, 0.6435538354732053, 0.6435538354732053, 0.6435538354732053, 0.6435538354732053, 0.6435538354732053, 0.6435538354732053, 0.6435538354732053, 0.6435538354732053, 0.6435538354732053, 0.6435538354732053, 0.6435538354732053, 0.6435538354732053, 0.6435538354732053, 0.6435538354732053, 0.6616586556135677, 0.6616586556135677, 0.6627569915939044, 0.6627569915939044, 0.6627569915939044, 0.6627569915939044, 0.6627569915939044, 0.6627569915939044, 0.6627569915939044, 0.6627569915939044, 0.6627569915939044, 0.6627569915939044, 0.6627569915939044, 0.6853995623930882, 0.6853995623930882, 0.6853995623930882, 0.6853995623930882, 0.6853995623930882, 0.6853995623930882, 0.6853995623930882, 0.6853995623930882, 0.6853995623930882, 0.6853995623930882, 0.6853995623930882, 0.6853995623930882, 0.6853995623930882, 0.6853995623930882, 0.6853995623930882, 0.6853995623930882, 0.6853995623930882, 0.6853995623930882, 0.6853995623930882, 0.6853995623930882]}], \"average_precision_score_micro\": [{\"categories\": [\"0\", \"1\", \"2\", \"3\", \"4\", \"5\", \"6\", \"7\", \"8\", \"9\", \"10\", \"11\", \"12\", \"13\", \"14\", \"15\", \"16\", \"17\", \"18\", \"19\", \"20\", \"21\", \"22\", \"23\", \"24\", \"25\", \"26\", \"27\", \"28\", \"29\", \"30\", \"31\", \"32\", \"33\", \"34\", \"35\", \"36\", \"37\", \"38\", \"39\", \"40\", \"41\", \"42\", \"43\", \"44\", \"45\", \"46\", \"47\", \"48\", \"49\", \"50\", \"51\", \"52\", \"53\", \"54\", \"55\", \"56\", \"57\", \"58\", \"59\", \"61\", \"62\"], \"mode\": \"markers\", \"name\": \"average_precision_score_micro\", \"stepped\": false, \"type\": \"scatter\", \"data\": [0.9040737509648717, 0.909166857969711, 0.9058633968493167, 0.8819611082942073, 0.9105547566760132, 0.9056273421519151, 0.897608654807885, 0.9074474112719374, 0.8714137230705491, 0.7964089391804331, 0.8735613230654684, 0.8956484883834962, 0.8984100284321939, 0.8891277862945458, 0.9060556715647671, 0.6466874753087125, 0.8841677234605252, 0.8265160100145741, 0.8872142966391481, 0.9030753104003786, 0.892995511790304, 0.8657342688574126, 0.8972387274445193, 0.9081919723963171, 0.9092992503005206, 0.7889305672546909, 0.9010647685047355, 0.8773238529828541, 0.9148631512491645, 0.9180970031697342, 0.8725980567415019, 0.9188886316010068, 0.9202713187830234, 0.9231920963041759, 0.8807001730404117, 0.8616623409491962, 0.9098766524449168, 0.8886984644067402, 0.9121988276284805, 0.9258285250637339, 0.8791936287087989, 0.9149998691252603, 0.9195291423632048, 0.9234451205096473, 0.9251225365026896, 0.784092268087141, 0.8962887746395477, 0.9250082511899521, 0.9205403746937414, 0.8801700043167775, 0.8402803378767045, 0.9081525528001435, 0.923362049903061, 0.920621737601685, 0.8602497741178421, 0.9142715291782302, 0.9087511097552398, 0.8948350012478766, 0.90621769695087, 0.9059713502351432, 0.9288546384850582, 0.9071955627069114]}, {\"categories\": [\"0\", \"1\", \"2\", \"3\", \"4\", \"5\", \"6\", \"7\", \"8\", \"9\", \"10\", \"11\", \"12\", \"13\", \"14\", \"15\", \"16\", \"17\", \"18\", \"19\", \"20\", \"21\", \"22\", \"23\", \"24\", \"25\", \"26\", \"27\", \"28\", \"29\", \"30\", \"31\", \"32\", \"33\", \"34\", \"35\", \"36\", \"37\", \"38\", \"39\", \"40\", \"41\", \"42\", \"43\", \"44\", \"45\", \"46\", \"47\", \"48\", \"49\", \"50\", \"51\", \"52\", \"53\", \"54\", \"55\", \"56\", \"57\", \"58\", \"59\", \"61\", \"62\"], \"mode\": \"lines\", \"name\": \"average_precision_score_micro_max\", \"stepped\": true, \"type\": \"scatter\", \"data\": [0.9040737509648717, 0.909166857969711, 0.909166857969711, 0.909166857969711, 0.9105547566760132, 0.9105547566760132, 0.9105547566760132, 0.9105547566760132, 0.9105547566760132, 0.9105547566760132, 0.9105547566760132, 0.9105547566760132, 0.9105547566760132, 0.9105547566760132, 0.9105547566760132, 0.9105547566760132, 0.9105547566760132, 0.9105547566760132, 0.9105547566760132, 0.9105547566760132, 0.9105547566760132, 0.9105547566760132, 0.9105547566760132, 0.9105547566760132, 0.9105547566760132, 0.9105547566760132, 0.9105547566760132, 0.9105547566760132, 0.9148631512491645, 0.9180970031697342, 0.9180970031697342, 0.9188886316010068, 0.9202713187830234, 0.9231920963041759, 0.9231920963041759, 0.9231920963041759, 0.9231920963041759, 0.9231920963041759, 0.9231920963041759, 0.9258285250637339, 0.9258285250637339, 0.9258285250637339, 0.9258285250637339, 0.9258285250637339, 0.9258285250637339, 0.9258285250637339, 0.9258285250637339, 0.9258285250637339, 0.9258285250637339, 0.9258285250637339, 0.9258285250637339, 0.9258285250637339, 0.9258285250637339, 0.9258285250637339, 0.9258285250637339, 0.9258285250637339, 0.9258285250637339, 0.9258285250637339, 0.9258285250637339, 0.9258285250637339, 0.9288546384850582, 0.9288546384850582]}], \"log_loss\": [{\"categories\": [\"0\", \"1\", \"2\", \"3\", \"4\", \"5\", \"6\", \"7\", \"8\", \"9\", \"10\", \"11\", \"12\", \"13\", \"14\", \"15\", \"16\", \"17\", \"18\", \"19\", \"20\", \"21\", \"22\", \"23\", \"24\", \"25\", \"26\", \"27\", \"28\", \"29\", \"30\", \"31\", \"32\", \"33\", \"34\", \"35\", \"36\", \"37\", \"38\", \"39\", \"40\", \"41\", \"42\", \"43\", \"44\", \"45\", \"46\", \"47\", \"48\", \"49\", \"50\", \"51\", \"52\", \"53\", \"54\", \"55\", \"56\", \"57\", \"58\", \"59\", \"61\", \"62\"], \"mode\": \"markers\", \"name\": \"log_loss\", \"stepped\": false, \"type\": \"scatter\", \"data\": [0.48158166840118277, 0.49863604253207133, 0.3925821877208765, 0.4614372757763503, 0.3756403159255787, 0.39234455381854416, 0.500656237554703, 0.39718157173877133, 0.48153232734417895, 1.2837639362986895, 0.47228818342600415, 0.4310206834457963, 0.4292473252691963, 0.4181882176170856, 0.43340185008967397, 0.7617709563916407, 0.4689398514572586, 0.6436875270506284, 0.5289468295527004, 0.6892153320664598, 0.4053614326801733, 0.518734990973189, 0.4718443965097509, 0.38301544723137304, 0.4071998609591735, 0.5532648316987304, 0.4370559349247912, 0.48125478694870233, 0.4415817884081751, 0.3645492952278131, 0.48270698020612784, 0.3569219249490513, 0.36204880097632275, 0.36603642357139154, 0.5723129198893334, 0.46610339520013105, 0.4107727628948945, 0.41814863890596426, 0.4104957581083869, 0.3777935914552855, 0.42790588387425216, 0.3889957360157715, 0.36359540021409364, 0.35755457573942545, 0.35991711297188056, 0.546508001474519, 0.4164606577635401, 0.375884807451533, 0.36273919534905075, 0.45685581959649646, 0.5703447568678157, 0.5598648827159349, 0.35995419163218145, 0.3929238488563404, 0.6042200110908211, 0.5661947419826592, 0.5976194273209936, 0.4093648201481746, 0.4218940994030424, 0.5059777203474172, 0.3573768042817068, 0.4221771881140122]}, {\"categories\": [\"0\", \"1\", \"2\", \"3\", \"4\", \"5\", \"6\", \"7\", \"8\", \"9\", \"10\", \"11\", \"12\", \"13\", \"14\", \"15\", \"16\", \"17\", \"18\", \"19\", \"20\", \"21\", \"22\", \"23\", \"24\", \"25\", \"26\", \"27\", \"28\", \"29\", \"30\", \"31\", \"32\", \"33\", \"34\", \"35\", \"36\", \"37\", \"38\", \"39\", \"40\", \"41\", \"42\", \"43\", \"44\", \"45\", \"46\", \"47\", \"48\", \"49\", \"50\", \"51\", \"52\", \"53\", \"54\", \"55\", \"56\", \"57\", \"58\", \"59\", \"61\", \"62\"], \"mode\": \"lines\", \"name\": \"log_loss_min\", \"stepped\": true, \"type\": \"scatter\", \"data\": [0.48158166840118277, 0.48158166840118277, 0.3925821877208765, 0.3925821877208765, 0.3756403159255787, 0.3756403159255787, 0.3756403159255787, 0.3756403159255787, 0.3756403159255787, 0.3756403159255787, 0.3756403159255787, 0.3756403159255787, 0.3756403159255787, 0.3756403159255787, 0.3756403159255787, 0.3756403159255787, 0.3756403159255787, 0.3756403159255787, 0.3756403159255787, 0.3756403159255787, 0.3756403159255787, 0.3756403159255787, 0.3756403159255787, 0.3756403159255787, 0.3756403159255787, 0.3756403159255787, 0.3756403159255787, 0.3756403159255787, 0.3756403159255787, 0.3645492952278131, 0.3645492952278131, 0.3569219249490513, 0.3569219249490513, 0.3569219249490513, 0.3569219249490513, 0.3569219249490513, 0.3569219249490513, 0.3569219249490513, 0.3569219249490513, 0.3569219249490513, 0.3569219249490513, 0.3569219249490513, 0.3569219249490513, 0.3569219249490513, 0.3569219249490513, 0.3569219249490513, 0.3569219249490513, 0.3569219249490513, 0.3569219249490513, 0.3569219249490513, 0.3569219249490513, 0.3569219249490513, 0.3569219249490513, 0.3569219249490513, 0.3569219249490513, 0.3569219249490513, 0.3569219249490513, 0.3569219249490513, 0.3569219249490513, 0.3569219249490513, 0.3569219249490513, 0.3569219249490513]}]}, \"metricName\": null, \"primaryMetricName\": \"AUC_weighted\", \"showLegend\": false}, \"run_metrics\": [{\"name\": \"experiment_status\", \"run_id\": \"AutoML_8e0cfeea-91de-46df-830a-d6688538ce73\", \"categories\": [0, 1, 2, 3, 4, 5, 6, 7, 8, 9, 10, 11, 12, 13], \"series\": [{\"data\": [\"DatasetEvaluation\", \"FeaturesGeneration\", \"DatasetFeaturization\", \"DatasetFeaturizationCompleted\", \"DatasetCrossValidationSplit\", \"ModelSelection\", \"BestRunExplainModel\", \"ModelExplanationDataSetSetup\", \"PickSurrogateModel\", \"EngineeredFeatureExplanations\", \"EngineeredFeatureExplanations\", \"RawFeaturesExplanations\", \"RawFeaturesExplanations\", \"BestRunExplainModel\"]}]}, {\"name\": \"experiment_status_description\", \"run_id\": \"AutoML_8e0cfeea-91de-46df-830a-d6688538ce73\", \"categories\": [0, 1, 2, 3, 4, 5, 6, 7, 8, 9, 10, 11, 12, 13], \"series\": [{\"data\": [\"Gathering dataset statistics.\", \"Generating features for the dataset.\", \"Beginning to fit featurizers and featurize the dataset.\", \"Completed fit featurizers and featurizing the dataset.\", \"Generating individually featurized CV splits.\", \"Beginning model selection.\", \"Best run model explanations started\", \"Model explanations data setup completed\", \"Choosing LightGBM as the surrogate model for explanations\", \"Computation of engineered features started\", \"Computation of engineered features completed\", \"Computation of raw features started\", \"Computation of raw features completed\", \"Best run model explanations completed\"]}]}, {\"name\": \"precision_score_macro\", \"run_id\": \"AutoML_8e0cfeea-91de-46df-830a-d6688538ce73\", \"categories\": [0], \"series\": [{\"data\": [0.8356974071679953]}]}, {\"name\": \"f1_score_micro\", \"run_id\": \"AutoML_8e0cfeea-91de-46df-830a-d6688538ce73\", \"categories\": [0], \"series\": [{\"data\": [0.8493103448275863]}]}, {\"name\": \"recall_score_macro\", \"run_id\": \"AutoML_8e0cfeea-91de-46df-830a-d6688538ce73\", \"categories\": [0], \"series\": [{\"data\": [0.824812420131356]}]}, {\"name\": \"matthews_correlation\", \"run_id\": \"AutoML_8e0cfeea-91de-46df-830a-d6688538ce73\", \"categories\": [0], \"series\": [{\"data\": [0.6592723963428699]}]}, {\"name\": \"average_precision_score_weighted\", \"run_id\": \"AutoML_8e0cfeea-91de-46df-830a-d6688538ce73\", \"categories\": [0], \"series\": [{\"data\": [0.9376178969728153]}]}, {\"name\": \"f1_score_weighted\", \"run_id\": \"AutoML_8e0cfeea-91de-46df-830a-d6688538ce73\", \"categories\": [0], \"series\": [{\"data\": [0.8479011547872298]}]}, {\"name\": \"f1_score_macro\", \"run_id\": \"AutoML_8e0cfeea-91de-46df-830a-d6688538ce73\", \"categories\": [0], \"series\": [{\"data\": [0.8223376454953686]}]}, {\"name\": \"weighted_accuracy\", \"run_id\": \"AutoML_8e0cfeea-91de-46df-830a-d6688538ce73\", \"categories\": [0], \"series\": [{\"data\": [0.8641717890185225]}]}, {\"name\": \"log_loss\", \"run_id\": \"AutoML_8e0cfeea-91de-46df-830a-d6688538ce73\", \"categories\": [0], \"series\": [{\"data\": [0.3573768042817068]}]}, {\"name\": \"average_precision_score_micro\", \"run_id\": \"AutoML_8e0cfeea-91de-46df-830a-d6688538ce73\", \"categories\": [0], \"series\": [{\"data\": [0.9288546384850582]}]}, {\"name\": \"AUC_weighted\", \"run_id\": \"AutoML_8e0cfeea-91de-46df-830a-d6688538ce73\", \"categories\": [0], \"series\": [{\"data\": [0.922041107930124]}]}, {\"name\": \"norm_macro_recall\", \"run_id\": \"AutoML_8e0cfeea-91de-46df-830a-d6688538ce73\", \"categories\": [0], \"series\": [{\"data\": [0.649624840262712]}]}, {\"name\": \"AUC_macro\", \"run_id\": \"AutoML_8e0cfeea-91de-46df-830a-d6688538ce73\", \"categories\": [0], \"series\": [{\"data\": [0.922041107930124]}]}, {\"name\": \"precision_score_weighted\", \"run_id\": \"AutoML_8e0cfeea-91de-46df-830a-d6688538ce73\", \"categories\": [0], \"series\": [{\"data\": [0.8606215739035212]}]}, {\"name\": \"accuracy\", \"run_id\": \"AutoML_8e0cfeea-91de-46df-830a-d6688538ce73\", \"categories\": [0], \"series\": [{\"data\": [0.8493103448275863]}]}, {\"name\": \"precision_score_micro\", \"run_id\": \"AutoML_8e0cfeea-91de-46df-830a-d6688538ce73\", \"categories\": [0], \"series\": [{\"data\": [0.8493103448275863]}]}, {\"name\": \"average_precision_score_macro\", \"run_id\": \"AutoML_8e0cfeea-91de-46df-830a-d6688538ce73\", \"categories\": [0], \"series\": [{\"data\": [0.9180202389725268]}]}, {\"name\": \"balanced_accuracy\", \"run_id\": \"AutoML_8e0cfeea-91de-46df-830a-d6688538ce73\", \"categories\": [0], \"series\": [{\"data\": [0.824812420131356]}]}, {\"name\": \"AUC_micro\", \"run_id\": \"AutoML_8e0cfeea-91de-46df-830a-d6688538ce73\", \"categories\": [0], \"series\": [{\"data\": [0.924664949134628]}]}, {\"name\": \"recall_score_weighted\", \"run_id\": \"AutoML_8e0cfeea-91de-46df-830a-d6688538ce73\", \"categories\": [0], \"series\": [{\"data\": [0.8493103448275863]}]}, {\"name\": \"recall_score_micro\", \"run_id\": \"AutoML_8e0cfeea-91de-46df-830a-d6688538ce73\", \"categories\": [0], \"series\": [{\"data\": [0.8493103448275863]}]}], \"run_logs\": \"\\nRun is completed.\", \"graph\": {}, \"widget_settings\": {\"childWidgetDisplay\": \"popup\", \"send_telemetry\": false, \"log_level\": \"INFO\", \"sdk_version\": \"1.19.0\"}, \"loading\": false}"
     },
     "metadata": {},
     "output_type": "display_data"
    },
    {
     "data": {
      "application/vnd.jupyter.widget-view+json": {
       "model_id": "92b0fc66fbc74cd5bb2683ca98d98d07",
       "version_major": 2,
       "version_minor": 0
      },
      "text/plain": [
       "_UserRunWidget(widget_settings={'childWidgetDisplay': 'popup', 'send_telemetry': False, 'log_level': 'INFO', '…"
      ]
     },
     "metadata": {},
     "output_type": "display_data"
    },
    {
     "data": {
      "application/aml.mini.widget.v1": "{\"loading\": true}"
     },
     "metadata": {},
     "output_type": "display_data"
    }
   ],
   "source": [
    "from azureml.widgets import RunDetails\n",
    "RunDetails(remote_run).show()"
   ]
  },
  {
   "cell_type": "markdown",
   "metadata": {},
   "source": [
    "## Best Model\n",
    "\n",
    "TODO: In the cell below, get the best model from the automl experiments and display all the properties of the model.\n",
    "\n"
   ]
  },
  {
   "cell_type": "code",
   "execution_count": 30,
   "metadata": {
    "gather": {
     "logged": 1598431425670
    },
    "jupyter": {
     "outputs_hidden": false,
     "source_hidden": false
    },
    "nteract": {
     "transient": {
      "deleting": false
     }
    }
   },
   "outputs": [
    {
     "ename": "AttributeError",
     "evalue": "Can't get attribute 'XGBoostLabelEncoder' on <module 'xgboost.compat' from '/anaconda/envs/azureml_py36/lib/python3.6/site-packages/xgboost/compat.py'>",
     "output_type": "error",
     "traceback": [
      "\u001b[0;31m---------------------------------------------------------------------------\u001b[0m",
      "\u001b[0;31mAttributeError\u001b[0m                            Traceback (most recent call last)",
      "\u001b[0;32m<ipython-input-30-618dc6f0fcf3>\u001b[0m in \u001b[0;36m<module>\u001b[0;34m\u001b[0m\n\u001b[1;32m      1\u001b[0m \u001b[0;31m#TODO: Save the best model\u001b[0m\u001b[0;34m\u001b[0m\u001b[0;34m\u001b[0m\u001b[0;34m\u001b[0m\u001b[0m\n\u001b[0;32m----> 2\u001b[0;31m \u001b[0mbest_run\u001b[0m\u001b[0;34m,\u001b[0m \u001b[0mfitted_model\u001b[0m \u001b[0;34m=\u001b[0m \u001b[0mremote_run\u001b[0m\u001b[0;34m.\u001b[0m\u001b[0mget_output\u001b[0m\u001b[0;34m(\u001b[0m\u001b[0;34m)\u001b[0m\u001b[0;34m\u001b[0m\u001b[0;34m\u001b[0m\u001b[0m\n\u001b[0m",
      "\u001b[0;32m/anaconda/envs/azureml_py36/lib/python3.6/site-packages/azureml/train/automl/run.py\u001b[0m in \u001b[0;36mget_output\u001b[0;34m(self, iteration, metric, return_onnx_model, return_split_onnx_model, **kwargs)\u001b[0m\n\u001b[1;32m    692\u001b[0m                     \u001b[0mfitted_model\u001b[0m \u001b[0;34m=\u001b[0m \u001b[0m_download_automl_onnx_model\u001b[0m\u001b[0;34m(\u001b[0m\u001b[0mcurr_run\u001b[0m\u001b[0;34m,\u001b[0m \u001b[0mmodel_name\u001b[0m\u001b[0;34m)\u001b[0m\u001b[0;34m\u001b[0m\u001b[0;34m\u001b[0m\u001b[0m\n\u001b[1;32m    693\u001b[0m                 \u001b[0;32melse\u001b[0m\u001b[0;34m:\u001b[0m\u001b[0;34m\u001b[0m\u001b[0;34m\u001b[0m\u001b[0m\n\u001b[0;32m--> 694\u001b[0;31m                     \u001b[0mfitted_model\u001b[0m \u001b[0;34m=\u001b[0m \u001b[0m_download_automl_model\u001b[0m\u001b[0;34m(\u001b[0m\u001b[0mcurr_run\u001b[0m\u001b[0;34m,\u001b[0m \u001b[0mmodel_name\u001b[0m\u001b[0;34m)\u001b[0m\u001b[0;34m\u001b[0m\u001b[0;34m\u001b[0m\u001b[0m\n\u001b[0m\u001b[1;32m    695\u001b[0m \u001b[0;34m\u001b[0m\u001b[0m\n\u001b[1;32m    696\u001b[0m             \u001b[0;32mreturn\u001b[0m \u001b[0mcurr_run\u001b[0m\u001b[0;34m,\u001b[0m \u001b[0mfitted_model\u001b[0m\u001b[0;34m\u001b[0m\u001b[0;34m\u001b[0m\u001b[0m\n",
      "\u001b[0;32m/anaconda/envs/azureml_py36/lib/python3.6/site-packages/azureml/train/automl/_model_download_utilities.py\u001b[0m in \u001b[0;36m_download_automl_model\u001b[0;34m(run, model_name)\u001b[0m\n\u001b[1;32m     85\u001b[0m             \u001b[0;31m# Pass through any exceptions from loading the model.\u001b[0m\u001b[0;34m\u001b[0m\u001b[0;34m\u001b[0m\u001b[0;34m\u001b[0m\u001b[0m\n\u001b[1;32m     86\u001b[0m             \u001b[0;31m# Try is used here to ensure we can cleanup the side effect of model downlad.\u001b[0m\u001b[0;34m\u001b[0m\u001b[0;34m\u001b[0m\u001b[0;34m\u001b[0m\u001b[0m\n\u001b[0;32m---> 87\u001b[0;31m             \u001b[0mmodel\u001b[0m \u001b[0;34m=\u001b[0m \u001b[0m_load_automl_model\u001b[0m\u001b[0;34m(\u001b[0m\u001b[0mmodel_path\u001b[0m\u001b[0;34m)\u001b[0m\u001b[0;34m\u001b[0m\u001b[0;34m\u001b[0m\u001b[0m\n\u001b[0m\u001b[1;32m     88\u001b[0m             \u001b[0;32mif\u001b[0m \u001b[0mmodel\u001b[0m \u001b[0;32mis\u001b[0m \u001b[0;32mNone\u001b[0m\u001b[0;34m:\u001b[0m\u001b[0;34m\u001b[0m\u001b[0;34m\u001b[0m\u001b[0m\n\u001b[1;32m     89\u001b[0m                 \u001b[0;31m# If we can retrieve the automl runtime version, we do so we can inform the user what to install.\u001b[0m\u001b[0;34m\u001b[0m\u001b[0;34m\u001b[0m\u001b[0;34m\u001b[0m\u001b[0m\n",
      "\u001b[0;32m/anaconda/envs/azureml_py36/lib/python3.6/site-packages/azureml/train/automl/_model_download_utilities.py\u001b[0m in \u001b[0;36m_load_automl_model\u001b[0;34m(model_path)\u001b[0m\n\u001b[1;32m    151\u001b[0m         \u001b[0;32mimport\u001b[0m \u001b[0mazureml\u001b[0m\u001b[0;34m.\u001b[0m\u001b[0mtrain\u001b[0m\u001b[0;34m.\u001b[0m\u001b[0mautoml\u001b[0m\u001b[0;34m.\u001b[0m\u001b[0mruntime\u001b[0m\u001b[0;34m\u001b[0m\u001b[0;34m\u001b[0m\u001b[0m\n\u001b[1;32m    152\u001b[0m         \u001b[0;32mwith\u001b[0m \u001b[0mopen\u001b[0m\u001b[0;34m(\u001b[0m\u001b[0mmodel_path\u001b[0m\u001b[0;34m,\u001b[0m \u001b[0;34m\"rb\"\u001b[0m\u001b[0;34m)\u001b[0m \u001b[0;32mas\u001b[0m \u001b[0mmodel_file\u001b[0m\u001b[0;34m:\u001b[0m\u001b[0;34m\u001b[0m\u001b[0;34m\u001b[0m\u001b[0m\n\u001b[0;32m--> 153\u001b[0;31m             \u001b[0mfitted_model\u001b[0m \u001b[0;34m=\u001b[0m \u001b[0mpickle\u001b[0m\u001b[0;34m.\u001b[0m\u001b[0mload\u001b[0m\u001b[0;34m(\u001b[0m\u001b[0mmodel_file\u001b[0m\u001b[0;34m)\u001b[0m  \u001b[0;31m# type: Optional[Any]\u001b[0m\u001b[0;34m\u001b[0m\u001b[0;34m\u001b[0m\u001b[0m\n\u001b[0m\u001b[1;32m    154\u001b[0m             \u001b[0;32mreturn\u001b[0m \u001b[0mfitted_model\u001b[0m\u001b[0;34m\u001b[0m\u001b[0;34m\u001b[0m\u001b[0m\n\u001b[1;32m    155\u001b[0m     \u001b[0;32mexcept\u001b[0m \u001b[0mImportError\u001b[0m \u001b[0;32mas\u001b[0m \u001b[0me\u001b[0m\u001b[0;34m:\u001b[0m\u001b[0;34m\u001b[0m\u001b[0;34m\u001b[0m\u001b[0m\n",
      "\u001b[0;31mAttributeError\u001b[0m: Can't get attribute 'XGBoostLabelEncoder' on <module 'xgboost.compat' from '/anaconda/envs/azureml_py36/lib/python3.6/site-packages/xgboost/compat.py'>"
     ]
    }
   ],
   "source": [
    "#TODO: Save the best model\n",
    "best_run, fitted_model = remote_run.get_output()\n"
   ]
  },
  {
   "cell_type": "markdown",
   "metadata": {},
   "source": [
    "## Model Deployment\n",
    "\n",
    "Remember you have to deploy only one of the two models you trained.. Perform the steps in the rest of this notebook only if you wish to deploy this model.\n",
    "\n",
    "TODO: In the cell below, register the model, create an inference config and deploy the model as a web service."
   ]
  },
  {
   "cell_type": "code",
   "execution_count": 32,
   "metadata": {
    "gather": {
     "logged": 1598431435189
    },
    "jupyter": {
     "outputs_hidden": false,
     "source_hidden": false
    },
    "nteract": {
     "transient": {
      "deleting": false
     }
    }
   },
   "outputs": [
    {
     "name": "stdout",
     "output_type": "stream",
     "text": [
      "AutoML8e0cfeea961\n"
     ]
    }
   ],
   "source": [
    "description = 'HearFailure AutoML Model'\n",
    "model = remote_run.register_model(description = description,\n",
    "                               tags={'area': 'mnist'})\n",
    "\n",
    "print(remote_run.model_id)"
   ]
  },
  {
   "cell_type": "markdown",
   "metadata": {
    "collapsed": true,
    "gather": {
     "logged": 1598431657736
    },
    "jupyter": {
     "outputs_hidden": false,
     "source_hidden": false
    },
    "nteract": {
     "transient": {
      "deleting": false
     }
    }
   },
   "source": [
    "TODO: In the cell below, send a request to the web service you deployed to test it."
   ]
  },
  {
   "cell_type": "code",
   "execution_count": null,
   "metadata": {
    "gather": {
     "logged": 1598432707604
    },
    "jupyter": {
     "outputs_hidden": false,
     "source_hidden": false
    },
    "nteract": {
     "transient": {
      "deleting": false
     }
    }
   },
   "outputs": [],
   "source": []
  },
  {
   "cell_type": "markdown",
   "metadata": {
    "collapsed": true,
    "gather": {
     "logged": 1598432765711
    },
    "jupyter": {
     "outputs_hidden": false,
     "source_hidden": false
    },
    "nteract": {
     "transient": {
      "deleting": false
     }
    }
   },
   "source": [
    "TODO: In the cell below, print the logs of the web service and delete the service"
   ]
  },
  {
   "cell_type": "code",
   "execution_count": null,
   "metadata": {
    "jupyter": {
     "outputs_hidden": false,
     "source_hidden": false
    },
    "nteract": {
     "transient": {
      "deleting": false
     }
    }
   },
   "outputs": [],
   "source": []
  }
 ],
 "metadata": {
  "kernel_info": {
   "name": "python3-azureml"
  },
  "kernelspec": {
   "display_name": "Python 3",
   "language": "python",
   "name": "python3"
  },
  "language_info": {
   "codemirror_mode": {
    "name": "ipython",
    "version": 3
   },
   "file_extension": ".py",
   "mimetype": "text/x-python",
   "name": "python",
   "nbconvert_exporter": "python",
   "pygments_lexer": "ipython3",
   "version": "3.6.9"
  },
  "nteract": {
   "version": "nteract-front-end@1.0.0"
  }
 },
 "nbformat": 4,
 "nbformat_minor": 2
}
